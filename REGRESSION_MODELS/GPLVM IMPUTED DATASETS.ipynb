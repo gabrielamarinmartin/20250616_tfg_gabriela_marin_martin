{
 "cells": [
  {
   "cell_type": "markdown",
   "id": "a3442a44",
   "metadata": {},
   "source": [
    "# REGRESSION MODELS: GPLVM IMPUTATION\n",
    "\n",
    "## Description of this notebook\n",
    "\n",
    "This notebook evaluates the performance of the regression models using the datasets imputed using the Gaussian Process Latent Variable Model (GPLVM)."
   ]
  },
  {
   "cell_type": "code",
   "execution_count": null,
   "id": "21c6e942",
   "metadata": {},
   "outputs": [],
   "source": [
    "# Import all the necessary libraries \n",
    "\n",
    "import pandas as pd\n",
    "import numpy as np\n",
    "from sklearn.metrics import mean_squared_error, r2_score, mean_absolute_error\n",
    "from sklearn.ensemble import RandomForestRegressor, GradientBoostingRegressor\n",
    "import joblib\n",
    "from xgboost import XGBRegressor\n",
    "from sklearn.svm import SVR\n",
    "from sklearn.gaussian_process.kernels import RBF, Matern, RationalQuadratic, WhiteKernel, ExpSineSquared, DotProduct\n",
    "from sklearn.linear_model import Ridge\n",
    "from sklearn.model_selection import GridSearchCV, KFold, train_test_split, cross_val_score\n",
    "from sklearn.metrics import make_scorer\n",
    "from sklearn.preprocessing import StandardScaler\n",
    "import os\n",
    "from sklearn.neural_network import MLPRegressor\n",
    "from GPy import models\n",
    "from GPy import kern\n",
    "from sklearn.gaussian_process import GaussianProcessRegressor\n",
    "import warnings\n",
    "warnings.filterwarnings(\"ignore\")\n",
    "from sklearn.base import clone"
   ]
  },
  {
   "cell_type": "code",
   "execution_count": null,
   "id": "f07502b2",
   "metadata": {},
   "outputs": [],
   "source": [
    "#os.chdir('..') # move to the general directory"
   ]
  },
  {
   "cell_type": "code",
   "execution_count": null,
   "id": "11be135f",
   "metadata": {},
   "outputs": [],
   "source": [
    "def scale_data(input, target):\n",
    "    all_data = pd.concat([input, target], axis=1)\n",
    "\n",
    "    all_data = all_data.dropna(subset=['ADAS13'])\n",
    "\n",
    "    # Divide again in input and target\n",
    "\n",
    "    input = all_data.drop(columns=['ADAS13'])\n",
    "    target = all_data['ADAS13']\n",
    "\n",
    "    # Divide numerical and categorical variables\n",
    "    input_num = input.drop(columns=['PTGENDER', 'APOE4'])\n",
    "    input_cat = input[['PTGENDER', 'APOE4']]\n",
    "\n",
    "    # Scale the data\n",
    "    scaler = StandardScaler()\n",
    "    input_scaled = scaler.fit_transform(input_num)\n",
    "    input_scaled = pd.DataFrame(input_scaled, columns=input_num.columns).reset_index(drop=True)\n",
    "    input_cat = input_cat.reset_index(drop=True)\n",
    "\n",
    "    # Concatenate scaled data with categorical variables\n",
    "    input = pd.concat([input_scaled, input_cat], axis=1)\n",
    "    \n",
    "    return input, target"
   ]
  },
  {
   "cell_type": "markdown",
   "id": "c1c14bd9",
   "metadata": {},
   "source": [
    "## **1.** Models Definitions"
   ]
  },
  {
   "cell_type": "markdown",
   "id": "6257c12d",
   "metadata": {},
   "source": [
    "### **1.1** Random Forest Model"
   ]
  },
  {
   "cell_type": "code",
   "execution_count": null,
   "id": "66aedc09",
   "metadata": {},
   "outputs": [],
   "source": [
    "def random_forest(X, y, imp='None'):\n",
    "    rf = RandomForestRegressor(random_state=42)\n",
    "\n",
    "    param_grid_rf = {\n",
    "        'n_estimators': [30, 40, 50, 55],\n",
    "        'max_depth': [1, 5, 10, 20, 30],\n",
    "        'min_samples_split': [2, 5, 10, 15, 20],\n",
    "        'min_samples_leaf': [1, 2, 4, 6, 8, 10],\n",
    "        'max_features': [15, 16, 17, 18, 19, 20]\n",
    "    }\n",
    "\n",
    "    scorer = make_scorer(mean_absolute_error, greater_is_better=False)\n",
    "\n",
    "    kf_outer = KFold(n_splits=10, shuffle=True, random_state=42)\n",
    "\n",
    "    r2_scores = []\n",
    "\n",
    "    fold = 1\n",
    "    for train_index, test_index in kf_outer.split(X):\n",
    "        print(f\"Fold {fold}:\")\n",
    "\n",
    "        X_train, X_test = X.iloc[train_index], X.iloc[test_index]\n",
    "        y_train, y_test = y.iloc[train_index], y.iloc[test_index]\n",
    "\n",
    "        grid_search_rf = GridSearchCV(\n",
    "            estimator=rf,\n",
    "            param_grid=param_grid_rf,\n",
    "            cv=KFold(n_splits=3, shuffle=True, random_state=42), \n",
    "            scoring=scorer,\n",
    "            verbose=0,\n",
    "            n_jobs=-1\n",
    "        )\n",
    "\n",
    "        grid_search_rf.fit(X_train, y_train)\n",
    "\n",
    "        best_rf_model = grid_search_rf.best_estimator_\n",
    "\n",
    "        y_pred_test = best_rf_model.predict(X_test)\n",
    "\n",
    "        r2 = r2_score(y_test, y_pred_test)\n",
    "\n",
    "        print(f\"Fold R²: {r2:.3f}\")\n",
    "\n",
    "        r2_scores.append(r2)\n",
    "\n",
    "        fold += 1\n",
    "\n",
    "    return (f\"\\nRandom Forest 10-Fold CV R² Score {imp}: {np.mean(r2_scores):.3f} ± {np.std(r2_scores):.3f}\")\n"
   ]
  },
  {
   "cell_type": "markdown",
   "id": "9f0ef7a1",
   "metadata": {},
   "source": [
    "### **1.2** Gradient Boosting Regressor"
   ]
  },
  {
   "cell_type": "code",
   "execution_count": null,
   "id": "f0ababf5",
   "metadata": {},
   "outputs": [],
   "source": [
    "def gradient_boosting(X, y, imp='None'):\n",
    "    gradboosting = GradientBoostingRegressor(random_state=42)\n",
    "\n",
    "    param_grid = {\n",
    "        'n_estimators': [500, 700, 900],\n",
    "        'learning_rate': [0.0001, 0.001, 0.01],\n",
    "        'max_depth': [1, 2, 3],\n",
    "        'min_samples_split': [3, 4, 5],\n",
    "        'min_samples_leaf': [1, 2, 3]\n",
    "    }\n",
    "\n",
    "    scorer = make_scorer(mean_absolute_error, greater_is_better=False)\n",
    "\n",
    "    kf_outer = KFold(n_splits=10, shuffle=True, random_state=42)\n",
    "\n",
    "    r2_scores = []\n",
    "\n",
    "    fold = 1\n",
    "    for train_index, test_index in kf_outer.split(X):\n",
    "        print(f\"Fold {fold}:\")\n",
    "\n",
    "        X_train, X_test = X.iloc[train_index], X.iloc[test_index]\n",
    "        y_train, y_test = y.iloc[train_index], y.iloc[test_index]\n",
    "\n",
    "        grid_search = GridSearchCV(\n",
    "            estimator=gradboosting,\n",
    "            param_grid=param_grid,\n",
    "            cv=KFold(n_splits=3, shuffle=True, random_state=42), \n",
    "            scoring=scorer,\n",
    "            verbose=0,\n",
    "            n_jobs=-1\n",
    "        )\n",
    "\n",
    "        grid_search.fit(X_train, y_train)\n",
    "\n",
    "        best_model = grid_search.best_estimator_\n",
    "\n",
    "        y_pred_test = best_model.predict(X_test)\n",
    "\n",
    "        r2 = r2_score(y_test, y_pred_test)\n",
    "\n",
    "        print(f\"  Fold R²: {r2:.3f}\")\n",
    "\n",
    "        r2_scores.append(r2)\n",
    "\n",
    "        fold += 1\n",
    "\n",
    "    return (f\"\\nGradient Boosting 10-Fold CV R² Score {imp}: {np.mean(r2_scores):.3f} ± {np.std(r2_scores):.3f}\")\n"
   ]
  },
  {
   "cell_type": "markdown",
   "id": "c589f4fb",
   "metadata": {},
   "source": [
    "### **1.3** XGBRegressor"
   ]
  },
  {
   "cell_type": "code",
   "execution_count": null,
   "id": "32631ca6",
   "metadata": {},
   "outputs": [],
   "source": [
    "def xgb_regressor(X, y, imp='None'):\n",
    "    xgb = XGBRegressor(random_state=42)\n",
    "\n",
    "    param_grid = {\n",
    "        'n_estimators': [100, 500, 1000],\n",
    "        'learning_rate': [1e-4, 1e-3, 1e-2, 1e-1],\n",
    "        'max_depth': [1, 3, 5, 7]\n",
    "    }\n",
    "\n",
    "    scorer = make_scorer(mean_absolute_error, greater_is_better=False)\n",
    "\n",
    "    kf_outer = KFold(n_splits=10, shuffle=True, random_state=42)\n",
    "\n",
    "    r2_scores = []\n",
    "\n",
    "    fold = 1\n",
    "    for train_index, test_index in kf_outer.split(X):\n",
    "        print(f\"Fold {fold}:\")\n",
    "\n",
    "        X_train, X_test = X.iloc[train_index], X.iloc[test_index]\n",
    "        y_train, y_test = y.iloc[train_index], y.iloc[test_index]\n",
    "\n",
    "        grid_search = GridSearchCV(\n",
    "            estimator=xgb,\n",
    "            param_grid=param_grid,\n",
    "            cv=KFold(n_splits=3, shuffle=True, random_state=42),\n",
    "            scoring=scorer,\n",
    "            verbose=0,\n",
    "            n_jobs=-1\n",
    "        )\n",
    "\n",
    "        grid_search.fit(X_train, y_train)\n",
    "\n",
    "        best_model = grid_search.best_estimator_\n",
    "\n",
    "        y_pred_test = best_model.predict(X_test)\n",
    "\n",
    "        r2 = r2_score(y_test, y_pred_test)\n",
    "\n",
    "        print(f\"  Fold R²: {r2:.3f}\")\n",
    "\n",
    "        r2_scores.append(r2)\n",
    "\n",
    "        fold += 1\n",
    "\n",
    "    return (f\"\\nXGB Regressor 10-Fold CV R² Score {imp}: {np.mean(r2_scores):.3f} ± {np.std(r2_scores):.3f}\")\n"
   ]
  },
  {
   "cell_type": "markdown",
   "id": "d1bee6fd",
   "metadata": {},
   "source": [
    "### **1.4** Support Vector Regressor"
   ]
  },
  {
   "cell_type": "code",
   "execution_count": null,
   "id": "69220fea",
   "metadata": {},
   "outputs": [],
   "source": [
    "def svr(X, y, imp='None'):\n",
    "    svr_model = SVR()\n",
    "\n",
    "    param_grid = {\n",
    "        'kernel': ['linear', 'rbf', 'poly', 'sigmoid'],\n",
    "        'C': [1e-3, 1e-2, 1e-1, 1, 10],\n",
    "        'gamma': [1e-4, 1e-3, 1e-2, 1, 10],\n",
    "        'epsilon': [1e-4, 1e-3, 1e-2, 1, 10]\n",
    "    }\n",
    "\n",
    "    scorer = make_scorer(mean_absolute_error, greater_is_better=False)\n",
    "\n",
    "    kf_outer = KFold(n_splits=10, shuffle=True, random_state=42)\n",
    "\n",
    "    r2_scores = []\n",
    "\n",
    "    fold = 1\n",
    "    for train_index, test_index in kf_outer.split(X):\n",
    "        print(f\"Fold {fold}:\")\n",
    "\n",
    "        X_train, X_test = X.iloc[train_index], X.iloc[test_index]\n",
    "        y_train, y_test = y.iloc[train_index], y.iloc[test_index]\n",
    "\n",
    "        grid_search = GridSearchCV(\n",
    "            estimator=svr_model,\n",
    "            param_grid=param_grid,\n",
    "            cv=KFold(n_splits=3, shuffle=True, random_state=42),\n",
    "            scoring=scorer,\n",
    "            verbose=0,\n",
    "            n_jobs=-1\n",
    "        )\n",
    "\n",
    "        grid_search.fit(X_train, y_train)\n",
    "\n",
    "        best_model = grid_search.best_estimator_\n",
    "\n",
    "        y_pred_test = best_model.predict(X_test)\n",
    "\n",
    "        r2 = r2_score(y_test, y_pred_test)\n",
    "\n",
    "        print(f\"  Fold R²: {r2:.3f}\")\n",
    "\n",
    "        r2_scores.append(r2)\n",
    "\n",
    "        fold += 1\n",
    "\n",
    "    return (f\"\\nSVR 10-Fold CV R² Score {imp}: {np.mean(r2_scores):.3f} ± {np.std(r2_scores):.3f}\")\n"
   ]
  },
  {
   "cell_type": "markdown",
   "id": "55569768",
   "metadata": {},
   "source": [
    "### **1.5** Ridge Regression Model"
   ]
  },
  {
   "cell_type": "code",
   "execution_count": null,
   "id": "1dea3b1b",
   "metadata": {},
   "outputs": [],
   "source": [
    "def ridge_regression(X, y, imp='None'):\n",
    "    ridge = Ridge(random_state=42)\n",
    "\n",
    "    param_grid = {\n",
    "        'alpha': [1e-10, 1e-5, 1e-4, 1e-3, 1e-2],\n",
    "        'fit_intercept': [True, False],\n",
    "        'tol': [1e-5, 1e-4, 1e-3, 1e-2],\n",
    "        'max_iter': [100, 500, 1000, 2000, 3000],\n",
    "        'solver': ['auto', 'saga'],\n",
    "    }\n",
    "\n",
    "    scorer = make_scorer(mean_absolute_error, greater_is_better=False)\n",
    "\n",
    "    kf_outer = KFold(n_splits=10, shuffle=True, random_state=42)\n",
    "\n",
    "    r2_scores = []\n",
    "\n",
    "    fold = 1\n",
    "    for train_index, test_index in kf_outer.split(X):\n",
    "        print(f\"Fold {fold}:\")\n",
    "\n",
    "        X_train, X_test = X.iloc[train_index], X.iloc[test_index]\n",
    "        y_train, y_test = y.iloc[train_index], y.iloc[test_index]\n",
    "\n",
    "        grid_search = GridSearchCV(\n",
    "            estimator=ridge,\n",
    "            param_grid=param_grid,\n",
    "            cv=KFold(n_splits=3, shuffle=True, random_state=42),\n",
    "            scoring=scorer,\n",
    "            verbose=0,\n",
    "            n_jobs=-1\n",
    "        )\n",
    "\n",
    "        grid_search.fit(X_train, y_train)\n",
    "\n",
    "        best_model = grid_search.best_estimator_\n",
    "\n",
    "        y_pred_test = best_model.predict(X_test)\n",
    "\n",
    "        r2 = r2_score(y_test, y_pred_test)\n",
    "\n",
    "        print(f\"  Fold R²: {r2:.3f}\")\n",
    "\n",
    "        r2_scores.append(r2)\n",
    "\n",
    "        fold += 1\n",
    "\n",
    "    return (f\"\\nRidge Regression 10-Fold CV R² Score {imp}: {np.mean(r2_scores):.3f} ± {np.std(r2_scores):.3f}\")\n"
   ]
  },
  {
   "cell_type": "markdown",
   "id": "91b15460",
   "metadata": {},
   "source": [
    "### **1.6** MultiLayer Perceptron (MLP)"
   ]
  },
  {
   "cell_type": "code",
   "execution_count": null,
   "id": "e4edcbdb",
   "metadata": {},
   "outputs": [],
   "source": [
    "def mlp(X, y, imp='None'):\n",
    "    mlp = MLPRegressor(random_state=42, max_iter=1000000)\n",
    "\n",
    "    param_grid = {\n",
    "        'hidden_layer_sizes': [(2,), (5,), (10,), (2, 2), (5, 2), (10, 2)],\n",
    "        'activation': ['relu', 'tanh'],\n",
    "        'solver': ['adam', 'lbfgs'],\n",
    "        'alpha': [1e-10, 1e-5, 1e-4, 1e-3, 1e-2]\n",
    "    }\n",
    "\n",
    "    scorer = make_scorer(mean_absolute_error, greater_is_better=False)\n",
    "\n",
    "    kf_outer = KFold(n_splits=10, shuffle=True, random_state=42)\n",
    "\n",
    "    r2_scores = []\n",
    "\n",
    "    fold = 1\n",
    "    for train_index, test_index in kf_outer.split(X):\n",
    "        print(f\"Fold {fold}:\")\n",
    "\n",
    "        X_train, X_test = X.iloc[train_index], X.iloc[test_index]\n",
    "        y_train, y_test = y.iloc[train_index], y.iloc[test_index]\n",
    "\n",
    "        grid_search = GridSearchCV(\n",
    "            estimator=mlp,\n",
    "            param_grid=param_grid,\n",
    "            cv=KFold(n_splits=3, shuffle=True, random_state=42),\n",
    "            scoring=scorer,\n",
    "            verbose=0,\n",
    "            n_jobs=-1\n",
    "        )\n",
    "\n",
    "        grid_search.fit(X_train, y_train)\n",
    "\n",
    "        best_model = grid_search.best_estimator_\n",
    "\n",
    "        y_pred_test = best_model.predict(X_test)\n",
    "\n",
    "        r2 = r2_score(y_test, y_pred_test)\n",
    "\n",
    "        print(f\"  Fold R²: {r2:.3f}\")\n",
    "\n",
    "        r2_scores.append(r2)\n",
    "\n",
    "        fold += 1\n",
    "\n",
    "    return (f\"\\nMLP 10-Fold CV R² Score {imp}: {np.mean(r2_scores):.3f} ± {np.std(r2_scores):.3f}\")"
   ]
  },
  {
   "cell_type": "markdown",
   "id": "4af083dc",
   "metadata": {},
   "source": [
    "### **1.7** GP Regressor"
   ]
  },
  {
   "cell_type": "code",
   "execution_count": null,
   "id": "dddfcd9e",
   "metadata": {},
   "outputs": [],
   "source": [
    "def gp_regressor(X, y, imp='None'):\n",
    "\n",
    "    gpr = GaussianProcessRegressor(random_state=42, normalize_y=True)\n",
    "\n",
    "    # Define kernels with tunable hyperparameters\n",
    "    kernel_options = [\n",
    "        RBF(length_scale=1.0, length_scale_bounds=(1e-2, 1e3)) +\n",
    "        WhiteKernel(noise_level=1.0, noise_level_bounds=(1e-10, 1e1)) +\n",
    "        Matern(length_scale=1.0, length_scale_bounds=(1e-2, 1e3)),\n",
    "        \n",
    "        RBF(length_scale=1.0, length_scale_bounds=(1e-2, 1e3)) +\n",
    "        WhiteKernel(noise_level=1.0, noise_level_bounds=(1e-10, 1e1)) +\n",
    "        RationalQuadratic(alpha=1.0, alpha_bounds=(1e-2, 1e3),\n",
    "                  length_scale=1.0, length_scale_bounds=(1e-2, 1e3)),\n",
    "\n",
    "        \n",
    "        RBF(length_scale=1.0, length_scale_bounds=(1e-2, 1e3)) +\n",
    "        WhiteKernel(noise_level=1.0, noise_level_bounds=(1e-10, 1e1)) +\n",
    "        ExpSineSquared(length_scale=1.0, length_scale_bounds=(1e-2, 1e3),\n",
    "                    periodicity=3.0, periodicity_bounds=(1e-2, 10.0)),\n",
    "        \n",
    "        RBF(length_scale=1.0, length_scale_bounds=(1e-2, 1e3)) +\n",
    "        WhiteKernel(noise_level=1.0, noise_level_bounds=(1e-10, 1e1)) +\n",
    "        DotProduct(sigma_0=1.0, sigma_0_bounds=(1e-2, 1e3)),\n",
    "        \n",
    "        Matern(length_scale=1.0, length_scale_bounds=(1e-2, 1e3)),\n",
    "        WhiteKernel(noise_level=1.0, noise_level_bounds=(1e-10, 1e1)) +\n",
    "        RationalQuadratic(alpha=1.0, alpha_bounds=(1e-2, 1e3),\n",
    "                  length_scale=1.0, length_scale_bounds=(1e-2, 1e3)),\n",
    "        \n",
    "        Matern(length_scale=1.0, length_scale_bounds=(1e-2, 1e3)) +\n",
    "        WhiteKernel(noise_level=1.0, noise_level_bounds=(1e-10, 1e1)) +\n",
    "        ExpSineSquared(length_scale=1.0, length_scale_bounds=(1e-2, 1e3),\n",
    "               periodicity=3.0, periodicity_bounds=(1e-2, 10.0)),\n",
    "        \n",
    "        Matern(length_scale=1.0, length_scale_bounds=(1e-2, 1e3)) +\n",
    "        WhiteKernel(noise_level=1.0, noise_level_bounds=(1e-10, 1e1)) +\n",
    "        DotProduct(sigma_0=1.0, sigma_0_bounds=(1e-2, 1e3)),\n",
    "        \n",
    "        RationalQuadratic(alpha=1.0, alpha_bounds=(1e-2, 1e3),\n",
    "                  length_scale=1.0, length_scale_bounds=(1e-2, 1e3)),\n",
    "        WhiteKernel(noise_level=1.0, noise_level_bounds=(1e-10, 1e1)) +\n",
    "        ExpSineSquared(length_scale=1.0, length_scale_bounds=(1e-2, 1e3),\n",
    "               periodicity=3.0, periodicity_bounds=(1e-2, 10.0)),\n",
    "        \n",
    "        RationalQuadratic(alpha=1.0, alpha_bounds=(1e-2, 1e3),\n",
    "                  length_scale=1.0, length_scale_bounds=(1e-2, 1e3)) +\n",
    "        WhiteKernel(noise_level=1.0, noise_level_bounds=(1e-10, 1e1)) +\n",
    "        DotProduct(sigma_0=1.0, sigma_0_bounds=(1e-2, 1e3)),\n",
    "        \n",
    "        ExpSineSquared(length_scale=1.0, length_scale_bounds=(1e-2, 1e3),\n",
    "               periodicity=3.0, periodicity_bounds=(1e-2, 10.0)) +  \n",
    "        WhiteKernel(noise_level=1.0, noise_level_bounds=(1e-10, 1e1)) +\n",
    "        DotProduct(sigma_0=1.0, sigma_0_bounds=(1e-2, 1e3)),\n",
    "        \n",
    "        DotProduct(sigma_0=1.0, sigma_0_bounds=(1e-2, 1e3)) +\n",
    "        WhiteKernel(noise_level=1.0, noise_level_bounds=(1e-10, 1e1)),\n",
    "        \n",
    "        RBF(length_scale=1.0, length_scale_bounds=(1e-2, 1e3)) +         \n",
    "        WhiteKernel(noise_level=1.0, noise_level_bounds=(1e-10, 1e1)),\n",
    "        \n",
    "        Matern(length_scale=1.0, length_scale_bounds=(1e-2, 1e3)) +\n",
    "        WhiteKernel(noise_level=1.0, noise_level_bounds=(1e-10, 1e1)),\n",
    "        \n",
    "        RationalQuadratic(alpha=1.0, alpha_bounds=(1e-2, 1e3),\n",
    "                  length_scale=1.0, length_scale_bounds=(1e-2, 1e3)) + \n",
    "        WhiteKernel(noise_level=1.0, noise_level_bounds=(1e-10, 1e1)),\n",
    "        \n",
    "        ExpSineSquared(length_scale=1.0, length_scale_bounds=(1e-2, 1e3),\n",
    "                    periodicity=3.0, periodicity_bounds=(1e-2, 10.0)) +\n",
    "        WhiteKernel(noise_level=1.0, noise_level_bounds=(1e-10, 1e1))\n",
    "\n",
    "    ]\n",
    "\n",
    "    scorer = make_scorer(mean_absolute_error, greater_is_better=False)\n",
    "\n",
    "    kf_outer = KFold(n_splits=10, shuffle=True, random_state=42)\n",
    "\n",
    "    r2_scores = []\n",
    "\n",
    "    param_grid = {\n",
    "        'kernel': [clone(k) for k in kernel_options]\n",
    "    }\n",
    "\n",
    "    fold = 1\n",
    "    for train_index, test_index in kf_outer.split(X):\n",
    "        print(f\"Fold {fold}:\")\n",
    "\n",
    "        X_train, X_test = X.iloc[train_index], X.iloc[test_index]\n",
    "        y_train, y_test = y.iloc[train_index], y.iloc[test_index]\n",
    "\n",
    "        grid_search = GridSearchCV(\n",
    "            estimator=gpr,\n",
    "            param_grid=param_grid,\n",
    "            cv=KFold(n_splits=3, shuffle=True, random_state=42),\n",
    "            scoring=scorer,\n",
    "            verbose=0,\n",
    "            n_jobs=-1\n",
    "        )\n",
    "\n",
    "        grid_search.fit(X_train, y_train)\n",
    "        best_model = grid_search.best_estimator_\n",
    "\n",
    "        y_pred, y_std = best_model.predict(X_test, return_std=True)\n",
    "\n",
    "        r2 = r2_score(y_test, y_pred)\n",
    "\n",
    "        print(f\"  Fold R²: {r2:.3f}\")\n",
    "\n",
    "        r2_scores.append(r2)\n",
    "\n",
    "        fold += 1\n",
    "\n",
    "    return (f\"\\nGPR 10-Fold CV R² Score {imp}: {np.mean(r2_scores):.3f} ± {np.std(r2_scores):.3f}\")\n",
    "    \n"
   ]
  },
  {
   "cell_type": "markdown",
   "id": "f27948a5",
   "metadata": {},
   "source": [
    "## **2.** GPLVM Imputed Datasets"
   ]
  },
  {
   "cell_type": "markdown",
   "id": "d2a9d19a",
   "metadata": {},
   "source": [
    "### **2.1** Mean Pre-Imputation"
   ]
  },
  {
   "cell_type": "code",
   "execution_count": null,
   "id": "f65848d3",
   "metadata": {},
   "outputs": [],
   "source": [
    "input = pd.read_csv('GPLVM IMPUTATION/imputed_gplvm_mean_df.csv')\n",
    "target = pd.read_csv('DATA/target_COMPLETE_DATA.csv')\n",
    "\n",
    "scaled_input, y = scale_data(input, target)"
   ]
  },
  {
   "cell_type": "markdown",
   "id": "7557a304",
   "metadata": {},
   "source": [
    "##### Random Forest"
   ]
  },
  {
   "cell_type": "code",
   "execution_count": null,
   "id": "66e9323c",
   "metadata": {},
   "outputs": [],
   "source": [
    "r2_score_rf = random_forest(scaled_input, y, imp='GPLVM Mean')"
   ]
  },
  {
   "cell_type": "code",
   "execution_count": null,
   "id": "16771a24",
   "metadata": {},
   "outputs": [
    {
     "name": "stdout",
     "output_type": "stream",
     "text": [
      "\n",
      "Random Forest 10-Fold CV R² Score GPLVM Mean: 0.713 ± 0.040\n"
     ]
    }
   ],
   "source": [
    "print(r2_score_rf)"
   ]
  },
  {
   "cell_type": "markdown",
   "id": "b3011dc3",
   "metadata": {},
   "source": [
    "##### Gradient Boosting"
   ]
  },
  {
   "cell_type": "code",
   "execution_count": null,
   "id": "f902b1c2",
   "metadata": {},
   "outputs": [],
   "source": [
    "r2_score_grad = gradient_boosting(scaled_input, y, imp='GPLVM Mean')"
   ]
  },
  {
   "cell_type": "code",
   "execution_count": null,
   "id": "843de3ef",
   "metadata": {},
   "outputs": [
    {
     "name": "stdout",
     "output_type": "stream",
     "text": [
      "\n",
      "Gradient Boosting 10-Fold CV R² Score GPLVM Mean: 0.720 ± 0.035\n"
     ]
    }
   ],
   "source": [
    "print(r2_score_grad)"
   ]
  },
  {
   "cell_type": "markdown",
   "id": "1974a9c2",
   "metadata": {},
   "source": [
    "##### Extreme Gradient Boosting"
   ]
  },
  {
   "cell_type": "code",
   "execution_count": null,
   "id": "73834e3e",
   "metadata": {},
   "outputs": [],
   "source": [
    "r2_score_xgb = xgb_regressor(scaled_input, y, imp='GPLVM Mean')"
   ]
  },
  {
   "cell_type": "code",
   "execution_count": null,
   "id": "ae8abf71",
   "metadata": {},
   "outputs": [
    {
     "name": "stdout",
     "output_type": "stream",
     "text": [
      "\n",
      "XGB Regressor 10-Fold CV R² Score GPLVM Mean: 0.719 ± 0.034\n"
     ]
    }
   ],
   "source": [
    "print(r2_score_xgb)"
   ]
  },
  {
   "cell_type": "markdown",
   "id": "d1a189f5",
   "metadata": {},
   "source": [
    "##### SVR"
   ]
  },
  {
   "cell_type": "code",
   "execution_count": null,
   "id": "d9e513dd",
   "metadata": {},
   "outputs": [],
   "source": [
    "r2_score_svr = svr(scaled_input, y, imp='GPLVM Mean')"
   ]
  },
  {
   "cell_type": "code",
   "execution_count": null,
   "id": "aa080dce",
   "metadata": {},
   "outputs": [
    {
     "name": "stdout",
     "output_type": "stream",
     "text": [
      "\n",
      "SVR 10-Fold CV R² Score GPLVM Mean: 0.731 ± 0.034\n"
     ]
    }
   ],
   "source": [
    "print(r2_score_svr)"
   ]
  },
  {
   "cell_type": "markdown",
   "id": "5bb4726e",
   "metadata": {},
   "source": [
    "##### Ridge Regression"
   ]
  },
  {
   "cell_type": "code",
   "execution_count": null,
   "id": "9c046b90",
   "metadata": {},
   "outputs": [],
   "source": [
    "r2_score_ridge = ridge_regression(scaled_input, y, imp='GPLVM Mean')"
   ]
  },
  {
   "cell_type": "code",
   "execution_count": null,
   "id": "12d78120",
   "metadata": {},
   "outputs": [
    {
     "name": "stdout",
     "output_type": "stream",
     "text": [
      "\n",
      "Ridge Regression 10-Fold CV R² Score GPLVM Mean: 0.731 ± 0.035\n"
     ]
    }
   ],
   "source": [
    "print(r2_score_ridge)"
   ]
  },
  {
   "cell_type": "markdown",
   "id": "2cc8af79",
   "metadata": {},
   "source": [
    "##### MLP"
   ]
  },
  {
   "cell_type": "code",
   "execution_count": null,
   "id": "9f9b8d1d",
   "metadata": {},
   "outputs": [],
   "source": [
    "r2_score_mlp = mlp(scaled_input, y, imp='GPLVM Mean')"
   ]
  },
  {
   "cell_type": "code",
   "execution_count": null,
   "id": "a5e7c6ec",
   "metadata": {},
   "outputs": [
    {
     "name": "stdout",
     "output_type": "stream",
     "text": [
      "\n",
      "MLP 10-Fold CV R² Score GPLVM Mean: 0.726 ± 0.037\n"
     ]
    }
   ],
   "source": [
    "print(r2_score_mlp)"
   ]
  },
  {
   "cell_type": "markdown",
   "id": "edea0bc6",
   "metadata": {},
   "source": [
    "##### GP Regression"
   ]
  },
  {
   "cell_type": "code",
   "execution_count": null,
   "id": "72d95539",
   "metadata": {},
   "outputs": [],
   "source": [
    "r2_score_gpr = gp_regressor(scaled_input, y, imp='GPLVM Mean')"
   ]
  },
  {
   "cell_type": "code",
   "execution_count": null,
   "id": "b4cf7253",
   "metadata": {},
   "outputs": [
    {
     "name": "stdout",
     "output_type": "stream",
     "text": [
      "\n",
      "GPR 10-Fold CV R² Score GPLVM Mean: 0.730 ± 0.037\n"
     ]
    }
   ],
   "source": [
    "print(r2_score_gpr)"
   ]
  },
  {
   "cell_type": "markdown",
   "id": "a14a549b",
   "metadata": {},
   "source": [
    "### **2.2** Median Pre-Imputation"
   ]
  },
  {
   "cell_type": "code",
   "execution_count": null,
   "id": "4952b841",
   "metadata": {},
   "outputs": [],
   "source": [
    "input = pd.read_csv('GPLVM IMPUTATION/imputed_gplvm_median_df.csv')\n",
    "target = pd.read_csv('DATA/target_COMPLETE_DATA.csv')\n",
    "\n",
    "scaled_input, y = scale_data(input, target)"
   ]
  },
  {
   "cell_type": "markdown",
   "id": "58361fd6",
   "metadata": {},
   "source": [
    "##### Random Forest"
   ]
  },
  {
   "cell_type": "code",
   "execution_count": null,
   "id": "932495fc",
   "metadata": {},
   "outputs": [],
   "source": [
    "r2_score_rf = random_forest(scaled_input, y, imp='GPLVM Median')"
   ]
  },
  {
   "cell_type": "code",
   "execution_count": null,
   "id": "d4cdb1c7",
   "metadata": {},
   "outputs": [
    {
     "name": "stdout",
     "output_type": "stream",
     "text": [
      "\n",
      "Random Forest 10-Fold CV R² Score GPLVM Median: 0.711 ± 0.040\n"
     ]
    }
   ],
   "source": [
    "print(r2_score_rf)"
   ]
  },
  {
   "cell_type": "markdown",
   "id": "4b38ad25",
   "metadata": {},
   "source": [
    "##### Gradient Boosting"
   ]
  },
  {
   "cell_type": "code",
   "execution_count": null,
   "id": "d1c82c0c",
   "metadata": {},
   "outputs": [],
   "source": [
    "r2_score_grad = gradient_boosting(scaled_input, y, imp='GPLVM Median')"
   ]
  },
  {
   "cell_type": "code",
   "execution_count": null,
   "id": "1df89504",
   "metadata": {},
   "outputs": [
    {
     "name": "stdout",
     "output_type": "stream",
     "text": [
      "\n",
      "Gradient Boosting 10-Fold CV R² Score GPLVM Median: 0.718 ± 0.035\n"
     ]
    }
   ],
   "source": [
    "print(r2_score_grad)"
   ]
  },
  {
   "cell_type": "markdown",
   "id": "50990196",
   "metadata": {},
   "source": [
    "##### Extreme Gradient Boosting"
   ]
  },
  {
   "cell_type": "code",
   "execution_count": null,
   "id": "d7a5fa7f",
   "metadata": {},
   "outputs": [],
   "source": [
    "r2_score_xgb = xgb_regressor(scaled_input, y, imp='GPLVM Median')"
   ]
  },
  {
   "cell_type": "code",
   "execution_count": null,
   "id": "05fd45ed",
   "metadata": {},
   "outputs": [
    {
     "name": "stdout",
     "output_type": "stream",
     "text": [
      "\n",
      "XGB Regressor 10-Fold CV R² Score GPLVM Median: 0.717 ± 0.035\n"
     ]
    }
   ],
   "source": [
    "print(r2_score_xgb)"
   ]
  },
  {
   "cell_type": "markdown",
   "id": "92ebd006",
   "metadata": {},
   "source": [
    "##### SVR"
   ]
  },
  {
   "cell_type": "code",
   "execution_count": null,
   "id": "e19e8b70",
   "metadata": {},
   "outputs": [],
   "source": [
    "r2_score_svr = svr(scaled_input, y, imp='GPLVM Median')"
   ]
  },
  {
   "cell_type": "code",
   "execution_count": null,
   "id": "81db24e7",
   "metadata": {},
   "outputs": [
    {
     "name": "stdout",
     "output_type": "stream",
     "text": [
      "\n",
      "SVR 10-Fold CV R² Score GPLVM Median: 0.730 ± 0.034\n"
     ]
    }
   ],
   "source": [
    "print(r2_score_svr)"
   ]
  },
  {
   "cell_type": "markdown",
   "id": "9c5fd483",
   "metadata": {},
   "source": [
    "##### Ridge Regression"
   ]
  },
  {
   "cell_type": "code",
   "execution_count": null,
   "id": "74155846",
   "metadata": {},
   "outputs": [],
   "source": [
    "r2_score_ridge = ridge_regression(scaled_input, y, imp='GPLVM Median')"
   ]
  },
  {
   "cell_type": "code",
   "execution_count": null,
   "id": "98e9c33f",
   "metadata": {},
   "outputs": [
    {
     "name": "stdout",
     "output_type": "stream",
     "text": [
      "\n",
      "Ridge Regression 10-Fold CV R² Score GPLVM Median: 0.730 ± 0.035\n"
     ]
    }
   ],
   "source": [
    "print(r2_score_ridge)"
   ]
  },
  {
   "cell_type": "markdown",
   "id": "f4894912",
   "metadata": {},
   "source": [
    "##### MLP"
   ]
  },
  {
   "cell_type": "code",
   "execution_count": null,
   "id": "481fd5b4",
   "metadata": {},
   "outputs": [],
   "source": [
    "r2_score_mlp = mlp(scaled_input, y, imp='GPLVM Median')"
   ]
  },
  {
   "cell_type": "code",
   "execution_count": null,
   "id": "099b1153",
   "metadata": {},
   "outputs": [
    {
     "name": "stdout",
     "output_type": "stream",
     "text": [
      "\n",
      "MLP 10-Fold CV R² Score GPLVM Median: 0.729 ± 0.038\n"
     ]
    }
   ],
   "source": [
    "print(r2_score_mlp)"
   ]
  },
  {
   "cell_type": "markdown",
   "id": "670a2de3",
   "metadata": {},
   "source": [
    "##### GP Regression"
   ]
  },
  {
   "cell_type": "code",
   "execution_count": null,
   "id": "40964130",
   "metadata": {},
   "outputs": [],
   "source": [
    "r2_score_gpr = gp_regressor(scaled_input, y, imp='GPLVM Median')"
   ]
  },
  {
   "cell_type": "code",
   "execution_count": null,
   "id": "fbb182f8",
   "metadata": {},
   "outputs": [
    {
     "name": "stdout",
     "output_type": "stream",
     "text": [
      "\n",
      "GPR 10-Fold CV R² Score GPLVM Median: 0.730 ± 0.037\n"
     ]
    }
   ],
   "source": [
    "print(r2_score_gpr)"
   ]
  },
  {
   "cell_type": "markdown",
   "id": "05d1084d",
   "metadata": {},
   "source": [
    "### **2.3** Mode Pre-Imputation"
   ]
  },
  {
   "cell_type": "code",
   "execution_count": null,
   "id": "efcc0425",
   "metadata": {},
   "outputs": [],
   "source": [
    "input = pd.read_csv('GPLVM IMPUTATION/imputed_gplvm_mode_df.csv')\n",
    "target = pd.read_csv('DATA/target_COMPLETE_DATA.csv')\n",
    "\n",
    "scaled_input, y = scale_data(input, target)"
   ]
  },
  {
   "cell_type": "markdown",
   "id": "e750f88f",
   "metadata": {},
   "source": [
    "##### Random Forest"
   ]
  },
  {
   "cell_type": "code",
   "execution_count": null,
   "id": "21bc489e",
   "metadata": {},
   "outputs": [],
   "source": [
    "r2_score_rf = random_forest(scaled_input, y, imp='GPLVM Mode')"
   ]
  },
  {
   "cell_type": "code",
   "execution_count": null,
   "id": "90e17779",
   "metadata": {},
   "outputs": [
    {
     "name": "stdout",
     "output_type": "stream",
     "text": [
      "\n",
      "Random Forest 10-Fold CV R² Score GPLVM Mode: 0.707 ± 0.036\n"
     ]
    }
   ],
   "source": [
    "print(r2_score_rf)"
   ]
  },
  {
   "cell_type": "markdown",
   "id": "d0e405c1",
   "metadata": {},
   "source": [
    "##### Gradient Boosting"
   ]
  },
  {
   "cell_type": "code",
   "execution_count": null,
   "id": "719bed60",
   "metadata": {},
   "outputs": [],
   "source": [
    "r2_score_grad = gradient_boosting(scaled_input, y, imp='GPLVM Mode')"
   ]
  },
  {
   "cell_type": "code",
   "execution_count": null,
   "id": "a6ab8715",
   "metadata": {},
   "outputs": [
    {
     "name": "stdout",
     "output_type": "stream",
     "text": [
      "\n",
      "Gradient Boosting 10-Fold CV R² Score GPLVM Mode: 0.721 ± 0.033\n"
     ]
    }
   ],
   "source": [
    "print(r2_score_grad)"
   ]
  },
  {
   "cell_type": "markdown",
   "id": "0dc277a3",
   "metadata": {},
   "source": [
    "##### Extreme Gradient Boosting"
   ]
  },
  {
   "cell_type": "code",
   "execution_count": null,
   "id": "918c8d31",
   "metadata": {},
   "outputs": [],
   "source": [
    "r2_score_xgb = xgb_regressor(scaled_input, y, imp='GPLVM Mode')"
   ]
  },
  {
   "cell_type": "code",
   "execution_count": null,
   "id": "f7c02b5d",
   "metadata": {},
   "outputs": [
    {
     "name": "stdout",
     "output_type": "stream",
     "text": [
      "\n",
      "XGB Regressor 10-Fold CV R² Score GPLVM Mode: 0.719 ± 0.033\n"
     ]
    }
   ],
   "source": [
    "print(r2_score_xgb)"
   ]
  },
  {
   "cell_type": "markdown",
   "id": "5bbbedc7",
   "metadata": {},
   "source": [
    "##### SVR"
   ]
  },
  {
   "cell_type": "code",
   "execution_count": null,
   "id": "ab8b258f",
   "metadata": {},
   "outputs": [],
   "source": [
    "r2_score_svr = svr(scaled_input, y, imp='GPLVM Mode')"
   ]
  },
  {
   "cell_type": "code",
   "execution_count": null,
   "id": "ed194619",
   "metadata": {},
   "outputs": [
    {
     "name": "stdout",
     "output_type": "stream",
     "text": [
      "\n",
      "SVR 10-Fold CV R² Score GPLVM Mode: 0.732 ± 0.034\n"
     ]
    }
   ],
   "source": [
    "print(r2_score_svr)"
   ]
  },
  {
   "cell_type": "markdown",
   "id": "3ebee43d",
   "metadata": {},
   "source": [
    "##### Ridge Regression"
   ]
  },
  {
   "cell_type": "code",
   "execution_count": null,
   "id": "009a7595",
   "metadata": {},
   "outputs": [],
   "source": [
    "r2_score_ridge = ridge_regression(scaled_input, y, imp='GPLVM Mode')"
   ]
  },
  {
   "cell_type": "code",
   "execution_count": null,
   "id": "f8bd83cc",
   "metadata": {},
   "outputs": [
    {
     "name": "stdout",
     "output_type": "stream",
     "text": [
      "\n",
      "Ridge Regression 10-Fold CV R² Score GPLVM Mode: 0.731 ± 0.036\n"
     ]
    }
   ],
   "source": [
    "print(r2_score_ridge)"
   ]
  },
  {
   "cell_type": "markdown",
   "id": "1b7e0461",
   "metadata": {},
   "source": [
    "##### MLP"
   ]
  },
  {
   "cell_type": "code",
   "execution_count": null,
   "id": "d0b9d023",
   "metadata": {},
   "outputs": [],
   "source": [
    "r2_score_mlp = mlp(scaled_input, y, imp='GPLVM Mode')"
   ]
  },
  {
   "cell_type": "code",
   "execution_count": null,
   "id": "8d9313d6",
   "metadata": {},
   "outputs": [
    {
     "name": "stdout",
     "output_type": "stream",
     "text": [
      "\n",
      "MLP 10-Fold CV R² Score GPLVM Mode: 0.729 ± 0.035\n"
     ]
    }
   ],
   "source": [
    "print(r2_score_mlp)"
   ]
  },
  {
   "cell_type": "markdown",
   "id": "54df1ed2",
   "metadata": {},
   "source": [
    "##### GP Regression"
   ]
  },
  {
   "cell_type": "code",
   "execution_count": null,
   "id": "69edd4e4",
   "metadata": {},
   "outputs": [],
   "source": [
    "r2_score_gpr = gp_regressor(scaled_input, y, imp='GPLVM Mode')"
   ]
  },
  {
   "cell_type": "code",
   "execution_count": null,
   "id": "564c3fb6",
   "metadata": {},
   "outputs": [
    {
     "name": "stdout",
     "output_type": "stream",
     "text": [
      "\n",
      "GPR 10-Fold CV R² Score GPLVM Mode: 0.731 ± 0.038\n"
     ]
    }
   ],
   "source": [
    "print(r2_score_gpr)"
   ]
  },
  {
   "cell_type": "markdown",
   "id": "c57d319a",
   "metadata": {},
   "source": [
    "### **2.4** KNN Pre-Imputation"
   ]
  },
  {
   "cell_type": "code",
   "execution_count": null,
   "id": "e7519027",
   "metadata": {},
   "outputs": [],
   "source": [
    "input = pd.read_csv('GPLVM IMPUTATION/imputed_gplvm_knn_df.csv')\n",
    "target = pd.read_csv('DATA/target_COMPLETE_DATA.csv')\n",
    "\n",
    "scaled_input, y = scale_data(input, target)"
   ]
  },
  {
   "cell_type": "markdown",
   "id": "0e93259e",
   "metadata": {},
   "source": [
    "##### Random Forest"
   ]
  },
  {
   "cell_type": "code",
   "execution_count": null,
   "id": "5e28cf5d",
   "metadata": {},
   "outputs": [],
   "source": [
    "r2_score_rf = random_forest(scaled_input, y, imp='GPLVM KNN')"
   ]
  },
  {
   "cell_type": "code",
   "execution_count": null,
   "id": "b9aa5034",
   "metadata": {},
   "outputs": [
    {
     "name": "stdout",
     "output_type": "stream",
     "text": [
      "\n",
      "Random Forest 10-Fold CV R² Score GPLVM KNN: 0.715 ± 0.036\n"
     ]
    }
   ],
   "source": [
    "print(r2_score_rf)"
   ]
  },
  {
   "cell_type": "markdown",
   "id": "820840a4",
   "metadata": {},
   "source": [
    "##### Gradient Boosting"
   ]
  },
  {
   "cell_type": "code",
   "execution_count": null,
   "id": "94277b20",
   "metadata": {},
   "outputs": [],
   "source": [
    "r2_score_grad = gradient_boosting(scaled_input, y, imp='GPLVM KNN')"
   ]
  },
  {
   "cell_type": "code",
   "execution_count": null,
   "id": "ade59d88",
   "metadata": {},
   "outputs": [
    {
     "name": "stdout",
     "output_type": "stream",
     "text": [
      "\n",
      "Gradient Boosting 10-Fold CV R² Score GPLVM KNN: 0.719 ± 0.035\n"
     ]
    }
   ],
   "source": [
    "print(r2_score_grad)"
   ]
  },
  {
   "cell_type": "markdown",
   "id": "ada29504",
   "metadata": {},
   "source": [
    "##### Extreme Gradient Boosting"
   ]
  },
  {
   "cell_type": "code",
   "execution_count": null,
   "id": "2360c19b",
   "metadata": {},
   "outputs": [],
   "source": [
    "r2_score_xgb = xgb_regressor(scaled_input, y, imp='GPLVM KNN')"
   ]
  },
  {
   "cell_type": "code",
   "execution_count": null,
   "id": "2c4cfec3",
   "metadata": {},
   "outputs": [
    {
     "name": "stdout",
     "output_type": "stream",
     "text": [
      "\n",
      "XGB Regressor 10-Fold CV R² Score GPLVM KNN: 0.720 ± 0.034\n"
     ]
    }
   ],
   "source": [
    "print(r2_score_xgb)"
   ]
  },
  {
   "cell_type": "markdown",
   "id": "2d0dd28c",
   "metadata": {},
   "source": [
    "##### SVR"
   ]
  },
  {
   "cell_type": "code",
   "execution_count": null,
   "id": "40ac3f62",
   "metadata": {},
   "outputs": [],
   "source": [
    "r2_score_svr = svr(scaled_input, y, imp='GPLVM KNN')"
   ]
  },
  {
   "cell_type": "code",
   "execution_count": null,
   "id": "98a91811",
   "metadata": {},
   "outputs": [
    {
     "name": "stdout",
     "output_type": "stream",
     "text": [
      "\n",
      "SVR 10-Fold CV R² Score GPLVM KNN: 0.730 ± 0.034\n"
     ]
    }
   ],
   "source": [
    "print(r2_score_svr)"
   ]
  },
  {
   "cell_type": "markdown",
   "id": "312ca521",
   "metadata": {},
   "source": [
    "##### Ridge Regression"
   ]
  },
  {
   "cell_type": "code",
   "execution_count": null,
   "id": "e8fd1b18",
   "metadata": {},
   "outputs": [],
   "source": [
    "r2_score_ridge = ridge_regression(scaled_input, y, imp='GPLVM KNN')"
   ]
  },
  {
   "cell_type": "code",
   "execution_count": null,
   "id": "b8fceeb4",
   "metadata": {},
   "outputs": [
    {
     "name": "stdout",
     "output_type": "stream",
     "text": [
      "\n",
      "Ridge Regression 10-Fold CV R² Score GPLVM KNN: 0.730 ± 0.034\n"
     ]
    }
   ],
   "source": [
    "print(r2_score_ridge)"
   ]
  },
  {
   "cell_type": "markdown",
   "id": "706d7216",
   "metadata": {},
   "source": [
    "##### MLP"
   ]
  },
  {
   "cell_type": "code",
   "execution_count": null,
   "id": "6102d76a",
   "metadata": {},
   "outputs": [],
   "source": [
    "r2_score_mlp = mlp(scaled_input, y, imp='GPLVM KNN')"
   ]
  },
  {
   "cell_type": "code",
   "execution_count": null,
   "id": "9213f8dc",
   "metadata": {},
   "outputs": [
    {
     "name": "stdout",
     "output_type": "stream",
     "text": [
      "\n",
      "MLP 10-Fold CV R² Score GPLVM KNN: 0.728 ± 0.037\n"
     ]
    }
   ],
   "source": [
    "print(r2_score_mlp)"
   ]
  },
  {
   "cell_type": "markdown",
   "id": "39d813c5",
   "metadata": {},
   "source": [
    "##### GP Regression"
   ]
  },
  {
   "cell_type": "code",
   "execution_count": null,
   "id": "c501530c",
   "metadata": {},
   "outputs": [],
   "source": [
    "r2_score_gpr = gp_regressor(scaled_input, y, imp='GPLVM KNN')"
   ]
  },
  {
   "cell_type": "code",
   "execution_count": null,
   "id": "121ecdfd",
   "metadata": {},
   "outputs": [
    {
     "name": "stdout",
     "output_type": "stream",
     "text": [
      "\n",
      "GPR 10-Fold CV R² Score GPLVM KNN: 0.731 ± 0.037\n"
     ]
    }
   ],
   "source": [
    "print(r2_score_gpr)"
   ]
  },
  {
   "cell_type": "markdown",
   "id": "f0f4cabd",
   "metadata": {},
   "source": [
    "### **2.5** Iterative Pre-Imputation"
   ]
  },
  {
   "cell_type": "code",
   "execution_count": null,
   "id": "5a0976ca",
   "metadata": {},
   "outputs": [],
   "source": [
    "input = pd.read_csv('GPLVM IMPUTATION/imputed_gplvm_iter_df.csv')\n",
    "target = pd.read_csv('DATA/target_COMPLETE_DATA.csv')\n",
    "\n",
    "scaled_input, y = scale_data(input, target)"
   ]
  },
  {
   "cell_type": "markdown",
   "id": "185cdd4e",
   "metadata": {},
   "source": [
    "##### Random Forest"
   ]
  },
  {
   "cell_type": "code",
   "execution_count": null,
   "id": "07b0848e",
   "metadata": {},
   "outputs": [],
   "source": [
    "r2_score_rf = random_forest(scaled_input, y, imp='GPLVM Iterative')"
   ]
  },
  {
   "cell_type": "code",
   "execution_count": null,
   "id": "d046538a",
   "metadata": {},
   "outputs": [
    {
     "name": "stdout",
     "output_type": "stream",
     "text": [
      "\n",
      "Random Forest 10-Fold CV R² Score GPLVM Iterative: 0.715 ± 0.036\n"
     ]
    }
   ],
   "source": [
    "print(r2_score_rf)"
   ]
  },
  {
   "cell_type": "markdown",
   "id": "98221317",
   "metadata": {},
   "source": [
    "##### Gradient Boosting"
   ]
  },
  {
   "cell_type": "code",
   "execution_count": null,
   "id": "c5a7cc58",
   "metadata": {},
   "outputs": [],
   "source": [
    "r2_score_grad = gradient_boosting(scaled_input, y, imp='GPLVM Iterative')"
   ]
  },
  {
   "cell_type": "code",
   "execution_count": null,
   "id": "4848a4ab",
   "metadata": {},
   "outputs": [
    {
     "name": "stdout",
     "output_type": "stream",
     "text": [
      "\n",
      "Gradient Boosting 10-Fold CV R² Score GPLVM Iterative: 0.717 ± 0.035\n"
     ]
    }
   ],
   "source": [
    "print(r2_score_grad)"
   ]
  },
  {
   "cell_type": "markdown",
   "id": "f72c8ea5",
   "metadata": {},
   "source": [
    "##### Extreme Gradient Boosting"
   ]
  },
  {
   "cell_type": "code",
   "execution_count": null,
   "id": "436502b0",
   "metadata": {},
   "outputs": [],
   "source": [
    "r2_score_xgb = xgb_regressor(scaled_input, y, imp='GPLVM Iterative')"
   ]
  },
  {
   "cell_type": "code",
   "execution_count": null,
   "id": "cb8db0a9",
   "metadata": {},
   "outputs": [
    {
     "name": "stdout",
     "output_type": "stream",
     "text": [
      "\n",
      "XGB Regressor 10-Fold CV R² Score GPLVM Iterative: 0.718 ± 0.035\n"
     ]
    }
   ],
   "source": [
    "print(r2_score_xgb)"
   ]
  },
  {
   "cell_type": "markdown",
   "id": "9d7f07e4",
   "metadata": {},
   "source": [
    "##### SVR"
   ]
  },
  {
   "cell_type": "code",
   "execution_count": null,
   "id": "92d6f117",
   "metadata": {},
   "outputs": [],
   "source": [
    "r2_score_svr = svr(scaled_input, y, imp='GPLVM Iterative')"
   ]
  },
  {
   "cell_type": "code",
   "execution_count": null,
   "id": "aa56969d",
   "metadata": {},
   "outputs": [
    {
     "name": "stdout",
     "output_type": "stream",
     "text": [
      "\n",
      "SVR 10-Fold CV R² Score GPLVM Iterative: 0.723 ± 0.037\n"
     ]
    }
   ],
   "source": [
    "print(r2_score_svr)"
   ]
  },
  {
   "cell_type": "markdown",
   "id": "574becfd",
   "metadata": {},
   "source": [
    "##### Ridge Regression"
   ]
  },
  {
   "cell_type": "code",
   "execution_count": null,
   "id": "ad335ce0",
   "metadata": {},
   "outputs": [],
   "source": [
    "r2_score_ridge = ridge_regression(scaled_input, y, imp='GPLVM Iterative')"
   ]
  },
  {
   "cell_type": "code",
   "execution_count": null,
   "id": "e0a14172",
   "metadata": {},
   "outputs": [
    {
     "name": "stdout",
     "output_type": "stream",
     "text": [
      "\n",
      "Ridge Regression 10-Fold CV R² Score GPLVM Iterative: 0.729 ± 0.035\n"
     ]
    }
   ],
   "source": [
    "print(r2_score_ridge)"
   ]
  },
  {
   "cell_type": "markdown",
   "id": "ed2261d5",
   "metadata": {},
   "source": [
    "##### MLP"
   ]
  },
  {
   "cell_type": "code",
   "execution_count": null,
   "id": "6d464f11",
   "metadata": {},
   "outputs": [],
   "source": [
    "r2_score_mlp = mlp(scaled_input, y, imp='GPLVM Iterative')"
   ]
  },
  {
   "cell_type": "code",
   "execution_count": null,
   "id": "3b6a73f1",
   "metadata": {},
   "outputs": [
    {
     "name": "stdout",
     "output_type": "stream",
     "text": [
      "\n",
      "MLP 10-Fold CV R² Score GPLVM Iterative: 0.729 ± 0.038\n"
     ]
    }
   ],
   "source": [
    "print(r2_score_mlp)"
   ]
  },
  {
   "cell_type": "markdown",
   "id": "5f00aa61",
   "metadata": {},
   "source": [
    "##### GP Regression"
   ]
  },
  {
   "cell_type": "code",
   "execution_count": null,
   "id": "7d15123c",
   "metadata": {},
   "outputs": [],
   "source": [
    "r2_score_gpr = gp_regressor(scaled_input, y, imp='GPLVM Iterative')"
   ]
  },
  {
   "cell_type": "code",
   "execution_count": null,
   "id": "6b59dd95",
   "metadata": {},
   "outputs": [
    {
     "name": "stdout",
     "output_type": "stream",
     "text": [
      "\n",
      "GPR 10-Fold CV R² Score GPLVM Iterative: 0.730 ± 0.037\n"
     ]
    }
   ],
   "source": [
    "print(r2_score_gpr)"
   ]
  },
  {
   "cell_type": "markdown",
   "id": "7546ffcd",
   "metadata": {},
   "source": [
    "### **2.6** MICE Pre-Imputation"
   ]
  },
  {
   "cell_type": "code",
   "execution_count": null,
   "id": "96170480",
   "metadata": {},
   "outputs": [],
   "source": [
    "input = pd.read_csv('GPLVM IMPUTATION/imputed_gplvm_mice_df.csv')\n",
    "target = pd.read_csv('DATA/target_COMPLETE_DATA.csv')\n",
    "\n",
    "scaled_input, y = scale_data(input, target)"
   ]
  },
  {
   "cell_type": "markdown",
   "id": "32f9c176",
   "metadata": {},
   "source": [
    "##### Random Forest"
   ]
  },
  {
   "cell_type": "code",
   "execution_count": null,
   "id": "3c3a1ab5",
   "metadata": {},
   "outputs": [],
   "source": [
    "r2_score_rf = random_forest(scaled_input, y,)"
   ]
  },
  {
   "cell_type": "code",
   "execution_count": null,
   "id": "75117934",
   "metadata": {},
   "outputs": [
    {
     "name": "stdout",
     "output_type": "stream",
     "text": [
      "\n",
      "Random Forest 10-Fold CV R² Score None: 0.709 ± 0.039\n"
     ]
    }
   ],
   "source": [
    "print(r2_score_rf)"
   ]
  },
  {
   "cell_type": "markdown",
   "id": "3dcfc22d",
   "metadata": {},
   "source": [
    "##### Gradient Boosting"
   ]
  },
  {
   "cell_type": "code",
   "execution_count": null,
   "id": "2d86dc29",
   "metadata": {},
   "outputs": [],
   "source": [
    "r2_score_grad = gradient_boosting(scaled_input, y, imp='GPLVM MICE')"
   ]
  },
  {
   "cell_type": "code",
   "execution_count": null,
   "id": "58abbee5",
   "metadata": {},
   "outputs": [
    {
     "name": "stdout",
     "output_type": "stream",
     "text": [
      "\n",
      "Gradient Boosting 10-Fold CV R² Score GPLVM MICE: 0.721 ± 0.034\n"
     ]
    }
   ],
   "source": [
    "print(r2_score_grad)"
   ]
  },
  {
   "cell_type": "markdown",
   "id": "63ae29bc",
   "metadata": {},
   "source": [
    "##### Extreme Gradient Boosting"
   ]
  },
  {
   "cell_type": "code",
   "execution_count": null,
   "id": "450884db",
   "metadata": {},
   "outputs": [],
   "source": [
    "r2_score_xgb = xgb_regressor(scaled_input, y, imp='GPLVM MICE')"
   ]
  },
  {
   "cell_type": "code",
   "execution_count": null,
   "id": "16a00550",
   "metadata": {},
   "outputs": [
    {
     "name": "stdout",
     "output_type": "stream",
     "text": [
      "\n",
      "XGB Regressor 10-Fold CV R² Score GPLVM MICE: 0.717 ± 0.033\n"
     ]
    }
   ],
   "source": [
    "print(r2_score_xgb)"
   ]
  },
  {
   "cell_type": "markdown",
   "id": "8cde3b4b",
   "metadata": {},
   "source": [
    "##### SVR"
   ]
  },
  {
   "cell_type": "code",
   "execution_count": null,
   "id": "7bcf99cc",
   "metadata": {},
   "outputs": [],
   "source": [
    "r2_score_svr = svr(scaled_input, y, imp='GPLVM MICE')"
   ]
  },
  {
   "cell_type": "code",
   "execution_count": null,
   "id": "890a4c0e",
   "metadata": {},
   "outputs": [
    {
     "name": "stdout",
     "output_type": "stream",
     "text": [
      "\n",
      "SVR 10-Fold CV R² Score GPLVM MICE: 0.730 ± 0.034\n"
     ]
    }
   ],
   "source": [
    "print(r2_score_svr)"
   ]
  },
  {
   "cell_type": "markdown",
   "id": "49012521",
   "metadata": {},
   "source": [
    "##### Ridge Regression"
   ]
  },
  {
   "cell_type": "code",
   "execution_count": null,
   "id": "da87fb5b",
   "metadata": {},
   "outputs": [],
   "source": [
    "r2_score_ridge = ridge_regression(scaled_input, y, imp='GPLVM MICE')"
   ]
  },
  {
   "cell_type": "code",
   "execution_count": null,
   "id": "f8add924",
   "metadata": {},
   "outputs": [
    {
     "name": "stdout",
     "output_type": "stream",
     "text": [
      "\n",
      "Ridge Regression 10-Fold CV R² Score GPLVM MICE: 0.730 ± 0.035\n"
     ]
    }
   ],
   "source": [
    "print(r2_score_ridge)"
   ]
  },
  {
   "cell_type": "markdown",
   "id": "8bb3525a",
   "metadata": {},
   "source": [
    "##### MLP"
   ]
  },
  {
   "cell_type": "code",
   "execution_count": null,
   "id": "effc01b3",
   "metadata": {},
   "outputs": [],
   "source": [
    "r2_score_mlp = mlp(scaled_input, y, imp='GPLVM MICE')"
   ]
  },
  {
   "cell_type": "code",
   "execution_count": null,
   "id": "1bdbbbe3",
   "metadata": {},
   "outputs": [
    {
     "name": "stdout",
     "output_type": "stream",
     "text": [
      "\n",
      "MLP 10-Fold CV R² Score GPLVM MICE: 0.729 ± 0.038\n"
     ]
    }
   ],
   "source": [
    "print(r2_score_mlp)"
   ]
  },
  {
   "cell_type": "markdown",
   "id": "48cec5d1",
   "metadata": {},
   "source": [
    "##### GP Regression"
   ]
  },
  {
   "cell_type": "code",
   "execution_count": null,
   "id": "14d17148",
   "metadata": {},
   "outputs": [],
   "source": [
    "r2_score_gpr = gp_regressor(scaled_input, y, imp='GPLVM MICE')"
   ]
  },
  {
   "cell_type": "code",
   "execution_count": null,
   "id": "1f3bed6a",
   "metadata": {},
   "outputs": [
    {
     "name": "stdout",
     "output_type": "stream",
     "text": [
      "\n",
      "GPR 10-Fold CV R² Score GPLVM MICE: 0.730 ± 0.037\n"
     ]
    }
   ],
   "source": [
    "print(r2_score_gpr)"
   ]
  },
  {
   "cell_type": "markdown",
   "id": "e9774a10",
   "metadata": {},
   "source": [
    "## **3.** GPLVM Latent Spaces"
   ]
  },
  {
   "cell_type": "markdown",
   "id": "bb84f40b",
   "metadata": {},
   "source": [
    "### **3.1** Mean Pre-Imputation"
   ]
  },
  {
   "cell_type": "code",
   "execution_count": null,
   "id": "2525a4e8",
   "metadata": {},
   "outputs": [],
   "source": [
    "input = pd.read_csv('GPLVM IMPUTATION/latent_mean_df.csv')\n",
    "target = pd.read_csv('DATA/target_COMPLETE_DATA.csv')\n",
    "\n",
    "all_data = pd.concat([input, target], axis=1)\n",
    "all_data = all_data.dropna(subset=['ADAS13'])\n",
    "\n",
    "# Divide again in input and target\n",
    "input = all_data.drop(columns=['ADAS13'])\n",
    "target = all_data['ADAS13']\n",
    "\n",
    "# Scale the data\n",
    "scaler = StandardScaler()\n",
    "input_scaled = scaler.fit_transform(input)\n",
    "\n",
    "scaled_input = pd.DataFrame(input_scaled, columns=input.columns)\n",
    "y = target"
   ]
  },
  {
   "cell_type": "markdown",
   "id": "1415a020",
   "metadata": {},
   "source": [
    "##### Random Forest"
   ]
  },
  {
   "cell_type": "code",
   "execution_count": null,
   "id": "7cf04232",
   "metadata": {},
   "outputs": [],
   "source": [
    "r2_score_rf = random_forest(scaled_input, y, imp='Latent GPLVM Mean')"
   ]
  },
  {
   "cell_type": "code",
   "execution_count": null,
   "id": "26c0b3fb",
   "metadata": {},
   "outputs": [
    {
     "name": "stdout",
     "output_type": "stream",
     "text": [
      "\n",
      "Random Forest 10-Fold CV R² Score Latent GPLVM Mean: 0.198 ± 0.037\n"
     ]
    }
   ],
   "source": [
    "print(r2_score_rf)"
   ]
  },
  {
   "cell_type": "markdown",
   "id": "3a8ee5e4",
   "metadata": {},
   "source": [
    "##### Gradient Boosting"
   ]
  },
  {
   "cell_type": "code",
   "execution_count": null,
   "id": "3696417c",
   "metadata": {},
   "outputs": [],
   "source": [
    "r2_score_grad = gradient_boosting(scaled_input, y, imp='Latent GPLVM Mean')"
   ]
  },
  {
   "cell_type": "code",
   "execution_count": null,
   "id": "b241e15d",
   "metadata": {},
   "outputs": [
    {
     "name": "stdout",
     "output_type": "stream",
     "text": [
      "\n",
      "Gradient Boosting 10-Fold CV R² Score Latent GPLVM Mean: 0.199 ± 0.033\n"
     ]
    }
   ],
   "source": [
    "print(r2_score_grad)"
   ]
  },
  {
   "cell_type": "markdown",
   "id": "c7d8afb5",
   "metadata": {},
   "source": [
    "##### Extreme Gradient Boosting"
   ]
  },
  {
   "cell_type": "code",
   "execution_count": null,
   "id": "ec8aa868",
   "metadata": {},
   "outputs": [],
   "source": [
    "r2_score_xgb = xgb_regressor(scaled_input, y, imp='Latent GPLVM Mean')"
   ]
  },
  {
   "cell_type": "code",
   "execution_count": null,
   "id": "ba9abaf8",
   "metadata": {},
   "outputs": [
    {
     "name": "stdout",
     "output_type": "stream",
     "text": [
      "\n",
      "XGB Regressor 10-Fold CV R² Score Latent GPLVM Mean: 0.195 ± 0.028\n"
     ]
    }
   ],
   "source": [
    "print(r2_score_xgb)"
   ]
  },
  {
   "cell_type": "markdown",
   "id": "8b96bf33",
   "metadata": {},
   "source": [
    "##### SVR"
   ]
  },
  {
   "cell_type": "code",
   "execution_count": null,
   "id": "92f6e1c3",
   "metadata": {},
   "outputs": [],
   "source": [
    "r2_score_svr = svr(scaled_input, y, imp='Latent GPLVM Mean')"
   ]
  },
  {
   "cell_type": "code",
   "execution_count": null,
   "id": "0c101a23",
   "metadata": {},
   "outputs": [
    {
     "name": "stdout",
     "output_type": "stream",
     "text": [
      "\n",
      "SVR 10-Fold CV R² Score Latent GPLVM Mean: 0.203 ± 0.032\n"
     ]
    }
   ],
   "source": [
    "print(r2_score_svr)"
   ]
  },
  {
   "cell_type": "markdown",
   "id": "b1e45180",
   "metadata": {},
   "source": [
    "##### Ridge Regression"
   ]
  },
  {
   "cell_type": "code",
   "execution_count": null,
   "id": "a4752059",
   "metadata": {},
   "outputs": [],
   "source": [
    "r2_score_ridge = ridge_regression(scaled_input, y, imp='Latent GPLVM Mean')"
   ]
  },
  {
   "cell_type": "code",
   "execution_count": null,
   "id": "75699344",
   "metadata": {},
   "outputs": [
    {
     "name": "stdout",
     "output_type": "stream",
     "text": [
      "\n",
      "Ridge Regression 10-Fold CV R² Score Latent GPLVM Mean: 0.091 ± 0.040\n"
     ]
    }
   ],
   "source": [
    "print(r2_score_ridge)"
   ]
  },
  {
   "cell_type": "markdown",
   "id": "20d35a6f",
   "metadata": {},
   "source": [
    "##### MLP"
   ]
  },
  {
   "cell_type": "code",
   "execution_count": null,
   "id": "98fb9d1e",
   "metadata": {},
   "outputs": [],
   "source": [
    "r2_score_mlp = mlp(scaled_input, y, imp='Latent GPLVM Mean')"
   ]
  },
  {
   "cell_type": "code",
   "execution_count": null,
   "id": "f18d95f1",
   "metadata": {},
   "outputs": [
    {
     "name": "stdout",
     "output_type": "stream",
     "text": [
      "\n",
      "MLP 10-Fold CV R² Score Latent GPLVM Mean: 0.200 ± 0.044\n"
     ]
    }
   ],
   "source": [
    "print(r2_score_mlp)"
   ]
  },
  {
   "cell_type": "markdown",
   "id": "75366670",
   "metadata": {},
   "source": [
    "##### GP Regression"
   ]
  },
  {
   "cell_type": "code",
   "execution_count": null,
   "id": "0d0449ce",
   "metadata": {},
   "outputs": [],
   "source": [
    "r2_score_gpr = gp_regressor(scaled_input, y, imp='Latent GPLVM Mean')"
   ]
  },
  {
   "cell_type": "code",
   "execution_count": null,
   "id": "3c776961",
   "metadata": {},
   "outputs": [
    {
     "name": "stdout",
     "output_type": "stream",
     "text": [
      "\n",
      "GPR 10-Fold CV R² Score Latent GPLVM Mean: 0.211 ± 0.036\n"
     ]
    }
   ],
   "source": [
    "print(r2_score_gpr)"
   ]
  },
  {
   "cell_type": "markdown",
   "id": "772e209d",
   "metadata": {},
   "source": [
    "### **3.2** Median Pre-Imputation"
   ]
  },
  {
   "cell_type": "code",
   "execution_count": null,
   "id": "8c4c4d05",
   "metadata": {},
   "outputs": [],
   "source": [
    "input = pd.read_csv('GPLVM IMPUTATION/latent_median_df.csv')\n",
    "target = pd.read_csv('DATA/target_COMPLETE_DATA.csv')\n",
    "\n",
    "all_data = pd.concat([input, target], axis=1)\n",
    "all_data = all_data.dropna(subset=['ADAS13'])\n",
    "\n",
    "# Divide again in input and target\n",
    "input = all_data.drop(columns=['ADAS13'])\n",
    "target = all_data['ADAS13']\n",
    "\n",
    "# Scale the data\n",
    "scaler = StandardScaler()\n",
    "input_scaled = scaler.fit_transform(input)\n",
    "\n",
    "scaled_input = pd.DataFrame(input_scaled, columns=input.columns)\n",
    "y = target"
   ]
  },
  {
   "cell_type": "markdown",
   "id": "0b84c426",
   "metadata": {},
   "source": [
    "##### Random Forest"
   ]
  },
  {
   "cell_type": "code",
   "execution_count": null,
   "id": "9cfc018b",
   "metadata": {},
   "outputs": [],
   "source": [
    "r2_score_rf = random_forest(scaled_input, y, imp='Latent GPLVM Median')"
   ]
  },
  {
   "cell_type": "code",
   "execution_count": null,
   "id": "d04083b9",
   "metadata": {},
   "outputs": [
    {
     "name": "stdout",
     "output_type": "stream",
     "text": [
      "\n",
      "Random Forest 10-Fold CV R² Score Latent GPLVM Median: 0.195 ± 0.054\n"
     ]
    }
   ],
   "source": [
    "print(r2_score_rf)"
   ]
  },
  {
   "cell_type": "markdown",
   "id": "e6b7bc19",
   "metadata": {},
   "source": [
    "##### Gradient Boosting"
   ]
  },
  {
   "cell_type": "code",
   "execution_count": null,
   "id": "a4dcaccc",
   "metadata": {},
   "outputs": [],
   "source": [
    "r2_score_grad = gradient_boosting(scaled_input, y, imp='Latent GPLVM Median')"
   ]
  },
  {
   "cell_type": "code",
   "execution_count": null,
   "id": "f519e710",
   "metadata": {},
   "outputs": [
    {
     "name": "stdout",
     "output_type": "stream",
     "text": [
      "\n",
      "Gradient Boosting 10-Fold CV R² Score Latent GPLVM Median: 0.190 ± 0.044\n"
     ]
    }
   ],
   "source": [
    "print(r2_score_grad)"
   ]
  },
  {
   "cell_type": "markdown",
   "id": "1bb40c7b",
   "metadata": {},
   "source": [
    "##### Extreme Gradient Boosting"
   ]
  },
  {
   "cell_type": "code",
   "execution_count": null,
   "id": "19a15927",
   "metadata": {},
   "outputs": [],
   "source": [
    "r2_score_xgb = xgb_regressor(scaled_input, y, imp='Latent GPLVM Median')"
   ]
  },
  {
   "cell_type": "code",
   "execution_count": null,
   "id": "f30ea628",
   "metadata": {},
   "outputs": [
    {
     "name": "stdout",
     "output_type": "stream",
     "text": [
      "\n",
      "XGB Regressor 10-Fold CV R² Score Latent GPLVM Median: 0.181 ± 0.043\n"
     ]
    }
   ],
   "source": [
    "print(r2_score_xgb)"
   ]
  },
  {
   "cell_type": "markdown",
   "id": "b1e52792",
   "metadata": {},
   "source": [
    "##### SVR"
   ]
  },
  {
   "cell_type": "code",
   "execution_count": null,
   "id": "7353868d",
   "metadata": {},
   "outputs": [],
   "source": [
    "r2_score_svr = svr(scaled_input, y, imp='Latent GPLVM Median')"
   ]
  },
  {
   "cell_type": "code",
   "execution_count": null,
   "id": "e5e14e92",
   "metadata": {},
   "outputs": [
    {
     "name": "stdout",
     "output_type": "stream",
     "text": [
      "\n",
      "SVR 10-Fold CV R² Score Latent GPLVM Median: 0.189 ± 0.039\n"
     ]
    }
   ],
   "source": [
    "print(r2_score_svr)"
   ]
  },
  {
   "cell_type": "markdown",
   "id": "e2231090",
   "metadata": {},
   "source": [
    "##### Ridge Regression"
   ]
  },
  {
   "cell_type": "code",
   "execution_count": null,
   "id": "02b71c94",
   "metadata": {},
   "outputs": [],
   "source": [
    "r2_score_ridge = ridge_regression(scaled_input, y, imp='Latent GPLVM Median')"
   ]
  },
  {
   "cell_type": "code",
   "execution_count": null,
   "id": "bfd36f6b",
   "metadata": {},
   "outputs": [
    {
     "name": "stdout",
     "output_type": "stream",
     "text": [
      "\n",
      "Ridge Regression 10-Fold CV R² Score Latent GPLVM Median: 0.186 ± 0.047\n"
     ]
    }
   ],
   "source": [
    "print(r2_score_ridge)"
   ]
  },
  {
   "cell_type": "markdown",
   "id": "0ad65a96",
   "metadata": {},
   "source": [
    "##### MLP"
   ]
  },
  {
   "cell_type": "code",
   "execution_count": null,
   "id": "cba39370",
   "metadata": {},
   "outputs": [],
   "source": [
    "r2_score_mlp = mlp(scaled_input, y, imp='Latent GPLVM Median')"
   ]
  },
  {
   "cell_type": "code",
   "execution_count": null,
   "id": "21dc466b",
   "metadata": {},
   "outputs": [
    {
     "name": "stdout",
     "output_type": "stream",
     "text": [
      "\n",
      "MLP 10-Fold CV R² Score Latent GPLVM Median: 0.189 ± 0.056\n"
     ]
    }
   ],
   "source": [
    "print(r2_score_mlp)"
   ]
  },
  {
   "cell_type": "markdown",
   "id": "a994ffec",
   "metadata": {},
   "source": [
    "##### GP Regression"
   ]
  },
  {
   "cell_type": "code",
   "execution_count": null,
   "id": "835a9658",
   "metadata": {},
   "outputs": [],
   "source": [
    "r2_score_gpr = gp_regressor(scaled_input, y, imp='Latent GPLVM Median')"
   ]
  },
  {
   "cell_type": "code",
   "execution_count": null,
   "id": "fe32005f",
   "metadata": {},
   "outputs": [
    {
     "name": "stdout",
     "output_type": "stream",
     "text": [
      "\n",
      "GPR 10-Fold CV R² Score Latent GPLVM Median: 0.201 ± 0.052\n"
     ]
    }
   ],
   "source": [
    "print(r2_score_gpr)"
   ]
  },
  {
   "cell_type": "markdown",
   "id": "0e9ddfad",
   "metadata": {},
   "source": [
    "### **3.3** Mode Pre-Imputation"
   ]
  },
  {
   "cell_type": "code",
   "execution_count": null,
   "id": "50913cb1",
   "metadata": {},
   "outputs": [],
   "source": [
    "input = pd.read_csv('GPLVM IMPUTATION/latent_mode_df.csv')\n",
    "target = pd.read_csv('DATA/target_COMPLETE_DATA.csv')\n",
    "\n",
    "all_data = pd.concat([input, target], axis=1)\n",
    "all_data = all_data.dropna(subset=['ADAS13'])\n",
    "\n",
    "# Divide again in input and target\n",
    "input = all_data.drop(columns=['ADAS13'])\n",
    "target = all_data['ADAS13']\n",
    "\n",
    "# Scale the data\n",
    "scaler = StandardScaler()\n",
    "input_scaled = scaler.fit_transform(input)\n",
    "\n",
    "scaled_input = pd.DataFrame(input_scaled, columns=input.columns)\n",
    "y = target"
   ]
  },
  {
   "cell_type": "markdown",
   "id": "73153de2",
   "metadata": {},
   "source": [
    "##### Random Forest"
   ]
  },
  {
   "cell_type": "code",
   "execution_count": null,
   "id": "f8b8dc59",
   "metadata": {},
   "outputs": [],
   "source": [
    "r2_score_rf = random_forest(scaled_input, y, imp='Latent GPLVM Mode')"
   ]
  },
  {
   "cell_type": "code",
   "execution_count": null,
   "id": "162a4b7c",
   "metadata": {},
   "outputs": [
    {
     "name": "stdout",
     "output_type": "stream",
     "text": [
      "\n",
      "Random Forest 10-Fold CV R² Score Latent GPLVM Mode: 0.203 ± 0.045\n"
     ]
    }
   ],
   "source": [
    "print(r2_score_rf)"
   ]
  },
  {
   "cell_type": "markdown",
   "id": "8a64da57",
   "metadata": {},
   "source": [
    "##### Gradient Boosting"
   ]
  },
  {
   "cell_type": "code",
   "execution_count": null,
   "id": "9ec23d39",
   "metadata": {},
   "outputs": [],
   "source": [
    "r2_score_grad = gradient_boosting(scaled_input, y, imp='Latent GPLVM Mode')"
   ]
  },
  {
   "cell_type": "code",
   "execution_count": null,
   "id": "e36c4aeb",
   "metadata": {},
   "outputs": [
    {
     "name": "stdout",
     "output_type": "stream",
     "text": [
      "\n",
      "Gradient Boosting 10-Fold CV R² Score Latent GPLVM Mode: 0.200 ± 0.040\n"
     ]
    }
   ],
   "source": [
    "print(r2_score_grad)"
   ]
  },
  {
   "cell_type": "markdown",
   "id": "e71ee501",
   "metadata": {},
   "source": [
    "##### Extreme Gradient Boosting"
   ]
  },
  {
   "cell_type": "code",
   "execution_count": null,
   "id": "a2013d15",
   "metadata": {},
   "outputs": [],
   "source": [
    "r2_score_xgb = xgb_regressor(scaled_input, y, imp='Latent GPLVM Mode')"
   ]
  },
  {
   "cell_type": "code",
   "execution_count": null,
   "id": "091b11fb",
   "metadata": {},
   "outputs": [
    {
     "name": "stdout",
     "output_type": "stream",
     "text": [
      "\n",
      "XGB Regressor 10-Fold CV R² Score Latent GPLVM Mode: 0.207 ± 0.043\n"
     ]
    }
   ],
   "source": [
    "print(r2_score_xgb)"
   ]
  },
  {
   "cell_type": "markdown",
   "id": "6e37f027",
   "metadata": {},
   "source": [
    "##### SVR"
   ]
  },
  {
   "cell_type": "code",
   "execution_count": null,
   "id": "4a74c32f",
   "metadata": {},
   "outputs": [],
   "source": [
    "r2_score_svr = svr(scaled_input, y, imp='Latent GPLVM Mode')"
   ]
  },
  {
   "cell_type": "code",
   "execution_count": null,
   "id": "07289ffa",
   "metadata": {},
   "outputs": [
    {
     "name": "stdout",
     "output_type": "stream",
     "text": [
      "\n",
      "SVR 10-Fold CV R² Score Latent GPLVM Mode: 0.203 ± 0.036\n"
     ]
    }
   ],
   "source": [
    "print(r2_score_svr)"
   ]
  },
  {
   "cell_type": "markdown",
   "id": "7971fe9f",
   "metadata": {},
   "source": [
    "##### Ridge Regression"
   ]
  },
  {
   "cell_type": "code",
   "execution_count": null,
   "id": "8dc9b2be",
   "metadata": {},
   "outputs": [],
   "source": [
    "r2_score_ridge = ridge_regression(scaled_input, y, imp='Latent GPLVM Mode')"
   ]
  },
  {
   "cell_type": "code",
   "execution_count": null,
   "id": "fe22dda3",
   "metadata": {},
   "outputs": [
    {
     "name": "stdout",
     "output_type": "stream",
     "text": [
      "\n",
      "Ridge Regression 10-Fold CV R² Score Latent GPLVM Mode: 0.155 ± 0.046\n"
     ]
    }
   ],
   "source": [
    "print(r2_score_ridge)"
   ]
  },
  {
   "cell_type": "markdown",
   "id": "dddc6ecc",
   "metadata": {},
   "source": [
    "##### MLP"
   ]
  },
  {
   "cell_type": "code",
   "execution_count": null,
   "id": "0fed3c2c",
   "metadata": {},
   "outputs": [],
   "source": [
    "r2_score_mlp = mlp(scaled_input, y, imp='Latent GPLVM Mode')"
   ]
  },
  {
   "cell_type": "code",
   "execution_count": null,
   "id": "2f5b8f3a",
   "metadata": {},
   "outputs": [
    {
     "name": "stdout",
     "output_type": "stream",
     "text": [
      "\n",
      "MLP 10-Fold CV R² Score Latent GPLVM Mode: 0.197 ± 0.043\n"
     ]
    }
   ],
   "source": [
    "print(r2_score_mlp)"
   ]
  },
  {
   "cell_type": "markdown",
   "id": "c4516be8",
   "metadata": {},
   "source": [
    "##### GP Regression"
   ]
  },
  {
   "cell_type": "code",
   "execution_count": null,
   "id": "261a160f",
   "metadata": {},
   "outputs": [],
   "source": [
    "r2_score_gpr = gp_regressor(scaled_input, y, imp='Latent GPLVM Mode')"
   ]
  },
  {
   "cell_type": "code",
   "execution_count": null,
   "id": "4a02dbfb",
   "metadata": {},
   "outputs": [
    {
     "name": "stdout",
     "output_type": "stream",
     "text": [
      "\n",
      "GPR 10-Fold CV R² Score Latent GPLVM Mode: 0.217 ± 0.044\n"
     ]
    }
   ],
   "source": [
    "print(r2_score_gpr)"
   ]
  },
  {
   "cell_type": "markdown",
   "id": "2db1378f",
   "metadata": {},
   "source": [
    "### **3.4** KNN Pre-Imputation"
   ]
  },
  {
   "cell_type": "code",
   "execution_count": null,
   "id": "1428ed98",
   "metadata": {},
   "outputs": [],
   "source": [
    "input = pd.read_csv('GPLVM IMPUTATION/latent_knn_df.csv')\n",
    "target = pd.read_csv('DATA/target_COMPLETE_DATA.csv')\n",
    "\n",
    "all_data = pd.concat([input, target], axis=1)\n",
    "all_data = all_data.dropna(subset=['ADAS13'])\n",
    "\n",
    "# Divide again in input and target\n",
    "input = all_data.drop(columns=['ADAS13'])\n",
    "target = all_data['ADAS13']\n",
    "\n",
    "# Scale the data\n",
    "scaler = StandardScaler()\n",
    "input_scaled = scaler.fit_transform(input)\n",
    "\n",
    "scaled_input = pd.DataFrame(input_scaled, columns=input.columns)\n",
    "y = target"
   ]
  },
  {
   "cell_type": "markdown",
   "id": "77635dd8",
   "metadata": {},
   "source": [
    "##### Random Forest"
   ]
  },
  {
   "cell_type": "code",
   "execution_count": null,
   "id": "a8042c68",
   "metadata": {},
   "outputs": [],
   "source": [
    "r2_score_rf = random_forest(scaled_input, y, imp='Latent GPLVM KNN')"
   ]
  },
  {
   "cell_type": "code",
   "execution_count": null,
   "id": "5c2f3a92",
   "metadata": {},
   "outputs": [
    {
     "name": "stdout",
     "output_type": "stream",
     "text": [
      "\n",
      "Random Forest 10-Fold CV R² Score Latent GPLVM KNN: 0.166 ± 0.063\n"
     ]
    }
   ],
   "source": [
    "print(r2_score_rf)"
   ]
  },
  {
   "cell_type": "markdown",
   "id": "dac10a43",
   "metadata": {},
   "source": [
    "##### Gradient Boosting"
   ]
  },
  {
   "cell_type": "code",
   "execution_count": null,
   "id": "458bfae6",
   "metadata": {},
   "outputs": [],
   "source": [
    "r2_score_grad = gradient_boosting(scaled_input, y, imp='Latent GPLVM KNN')"
   ]
  },
  {
   "cell_type": "code",
   "execution_count": null,
   "id": "34be9eeb",
   "metadata": {},
   "outputs": [
    {
     "name": "stdout",
     "output_type": "stream",
     "text": [
      "\n",
      "Gradient Boosting 10-Fold CV R² Score Latent GPLVM KNN: 0.177 ± 0.046\n"
     ]
    }
   ],
   "source": [
    "print(r2_score_grad)"
   ]
  },
  {
   "cell_type": "markdown",
   "id": "432c2a87",
   "metadata": {},
   "source": [
    "##### Extreme Gradient Boosting"
   ]
  },
  {
   "cell_type": "code",
   "execution_count": null,
   "id": "eec32f23",
   "metadata": {},
   "outputs": [],
   "source": [
    "r2_score_xgb = xgb_regressor(scaled_input, y, imp='Latent GPLVM KNN')"
   ]
  },
  {
   "cell_type": "code",
   "execution_count": null,
   "id": "94f602bb",
   "metadata": {},
   "outputs": [
    {
     "name": "stdout",
     "output_type": "stream",
     "text": [
      "\n",
      "XGB Regressor 10-Fold CV R² Score Latent GPLVM KNN: 0.180 ± 0.047\n"
     ]
    }
   ],
   "source": [
    "print(r2_score_xgb)"
   ]
  },
  {
   "cell_type": "markdown",
   "id": "59c833b9",
   "metadata": {},
   "source": [
    "##### SVR"
   ]
  },
  {
   "cell_type": "code",
   "execution_count": null,
   "id": "20c381d4",
   "metadata": {},
   "outputs": [],
   "source": [
    "r2_score_svr = svr(scaled_input, y, imp='Latent GPLVM KNN')"
   ]
  },
  {
   "cell_type": "code",
   "execution_count": null,
   "id": "46e52fd4",
   "metadata": {},
   "outputs": [
    {
     "name": "stdout",
     "output_type": "stream",
     "text": [
      "\n",
      "SVR 10-Fold CV R² Score Latent GPLVM KNN: 0.152 ± 0.044\n"
     ]
    }
   ],
   "source": [
    "print(r2_score_svr)"
   ]
  },
  {
   "cell_type": "markdown",
   "id": "a4f3e7fb",
   "metadata": {},
   "source": [
    "##### Ridge Regression"
   ]
  },
  {
   "cell_type": "code",
   "execution_count": null,
   "id": "5eb0331a",
   "metadata": {},
   "outputs": [],
   "source": [
    "r2_score_ridge = ridge_regression(scaled_input, y, imp='Latent GPLVM KNN')"
   ]
  },
  {
   "cell_type": "code",
   "execution_count": null,
   "id": "1ba3c898",
   "metadata": {},
   "outputs": [
    {
     "name": "stdout",
     "output_type": "stream",
     "text": [
      "\n",
      "Ridge Regression 10-Fold CV R² Score Latent GPLVM KNN: 0.168 ± 0.049\n"
     ]
    }
   ],
   "source": [
    "print(r2_score_ridge)"
   ]
  },
  {
   "cell_type": "markdown",
   "id": "894d58e1",
   "metadata": {},
   "source": [
    "##### MLP"
   ]
  },
  {
   "cell_type": "code",
   "execution_count": null,
   "id": "f6ef33cc",
   "metadata": {},
   "outputs": [],
   "source": [
    "r2_score_mlp = mlp(scaled_input, y, imp='Latent GPLVM KNN')"
   ]
  },
  {
   "cell_type": "code",
   "execution_count": null,
   "id": "7467e123",
   "metadata": {},
   "outputs": [
    {
     "name": "stdout",
     "output_type": "stream",
     "text": [
      "\n",
      "MLP 10-Fold CV R² Score Latent GPLVM KNN: 0.186 ± 0.046\n"
     ]
    }
   ],
   "source": [
    "print(r2_score_mlp)"
   ]
  },
  {
   "cell_type": "markdown",
   "id": "9aba0845",
   "metadata": {},
   "source": [
    "##### GP Regression"
   ]
  },
  {
   "cell_type": "code",
   "execution_count": null,
   "id": "6db7b7d6",
   "metadata": {},
   "outputs": [],
   "source": [
    "r2_score_gpr = gp_regressor(scaled_input, y, imp='Latent GPLVM KNN')"
   ]
  },
  {
   "cell_type": "code",
   "execution_count": null,
   "id": "feee73cc",
   "metadata": {},
   "outputs": [
    {
     "name": "stdout",
     "output_type": "stream",
     "text": [
      "\n",
      "GPR 10-Fold CV R² Score Latent GPLVM KNN: 0.196 ± 0.056\n"
     ]
    }
   ],
   "source": [
    "print(r2_score_gpr)"
   ]
  },
  {
   "cell_type": "markdown",
   "id": "5ae9c699",
   "metadata": {},
   "source": [
    "### **3.5** Iterative Pre-Imputation"
   ]
  },
  {
   "cell_type": "code",
   "execution_count": null,
   "id": "66ae589b",
   "metadata": {},
   "outputs": [],
   "source": [
    "input = pd.read_csv('GPLVM IMPUTATION/latent_iter_df.csv')\n",
    "target = pd.read_csv('DATA/target_COMPLETE_DATA.csv')\n",
    "\n",
    "all_data = pd.concat([input, target], axis=1)\n",
    "all_data = all_data.dropna(subset=['ADAS13'])\n",
    "\n",
    "# Divide again in input and target\n",
    "input = all_data.drop(columns=['ADAS13'])\n",
    "target = all_data['ADAS13']\n",
    "\n",
    "# Scale the data\n",
    "scaler = StandardScaler()\n",
    "input_scaled = scaler.fit_transform(input)\n",
    "\n",
    "scaled_input = pd.DataFrame(input_scaled, columns=input.columns)\n",
    "y = target"
   ]
  },
  {
   "cell_type": "markdown",
   "id": "c339b0de",
   "metadata": {},
   "source": [
    "##### Random Forest"
   ]
  },
  {
   "cell_type": "code",
   "execution_count": null,
   "id": "abac0f23",
   "metadata": {},
   "outputs": [],
   "source": [
    "r2_score_rf = random_forest(scaled_input, y, imp='Latent GPLVM Iterative')"
   ]
  },
  {
   "cell_type": "code",
   "execution_count": null,
   "id": "2781338c",
   "metadata": {},
   "outputs": [
    {
     "name": "stdout",
     "output_type": "stream",
     "text": [
      "\n",
      "Random Forest 10-Fold CV R² Score Latent GPLVM Iterative: 0.197 ± 0.048\n"
     ]
    }
   ],
   "source": [
    "print(r2_score_rf)"
   ]
  },
  {
   "cell_type": "markdown",
   "id": "0f7c12b7",
   "metadata": {},
   "source": [
    "##### Gradient Boosting"
   ]
  },
  {
   "cell_type": "code",
   "execution_count": null,
   "id": "e662219a",
   "metadata": {},
   "outputs": [],
   "source": [
    "r2_score_grad = gradient_boosting(scaled_input, y, imp='Latent GPLVM Iterative')"
   ]
  },
  {
   "cell_type": "code",
   "execution_count": null,
   "id": "fc31be12",
   "metadata": {},
   "outputs": [
    {
     "name": "stdout",
     "output_type": "stream",
     "text": [
      "\n",
      "Gradient Boosting 10-Fold CV R² Score Latent GPLVM Iterative: 0.203 ± 0.045\n"
     ]
    }
   ],
   "source": [
    "print(r2_score_grad)"
   ]
  },
  {
   "cell_type": "markdown",
   "id": "21378780",
   "metadata": {},
   "source": [
    "##### Extreme Gradient Boosting"
   ]
  },
  {
   "cell_type": "code",
   "execution_count": null,
   "id": "075455cb",
   "metadata": {},
   "outputs": [],
   "source": [
    "r2_score_xgb = xgb_regressor(scaled_input, y, imp='Latent GPLVM Iterative')"
   ]
  },
  {
   "cell_type": "code",
   "execution_count": null,
   "id": "35ec84cb",
   "metadata": {},
   "outputs": [
    {
     "name": "stdout",
     "output_type": "stream",
     "text": [
      "\n",
      "XGB Regressor 10-Fold CV R² Score Latent GPLVM Iterative: 0.205 ± 0.046\n"
     ]
    }
   ],
   "source": [
    "print(r2_score_xgb)"
   ]
  },
  {
   "cell_type": "markdown",
   "id": "acd00191",
   "metadata": {},
   "source": [
    "##### SVR"
   ]
  },
  {
   "cell_type": "code",
   "execution_count": null,
   "id": "0d361c10",
   "metadata": {},
   "outputs": [],
   "source": [
    "r2_score_svr = svr(scaled_input, y, imp='Latent GPLVM Iterative')"
   ]
  },
  {
   "cell_type": "code",
   "execution_count": null,
   "id": "33a8862d",
   "metadata": {},
   "outputs": [
    {
     "name": "stdout",
     "output_type": "stream",
     "text": [
      "\n",
      "SVR 10-Fold CV R² Score Latent GPLVM Iterative: 0.186 ± 0.052\n"
     ]
    }
   ],
   "source": [
    "print(r2_score_svr)"
   ]
  },
  {
   "cell_type": "markdown",
   "id": "d82b972e",
   "metadata": {},
   "source": [
    "##### Ridge Regression"
   ]
  },
  {
   "cell_type": "code",
   "execution_count": null,
   "id": "109ee5ab",
   "metadata": {},
   "outputs": [],
   "source": [
    "r2_score_ridge = ridge_regression(scaled_input, y, imp='Latent GPLVM Iterative')"
   ]
  },
  {
   "cell_type": "code",
   "execution_count": null,
   "id": "425f1df2",
   "metadata": {},
   "outputs": [
    {
     "name": "stdout",
     "output_type": "stream",
     "text": [
      "\n",
      "Ridge Regression 10-Fold CV R² Score Latent GPLVM Iterative: 0.187 ± 0.051\n"
     ]
    }
   ],
   "source": [
    "print(r2_score_ridge)"
   ]
  },
  {
   "cell_type": "markdown",
   "id": "cfe70919",
   "metadata": {},
   "source": [
    "##### MLP"
   ]
  },
  {
   "cell_type": "code",
   "execution_count": null,
   "id": "f507f779",
   "metadata": {},
   "outputs": [],
   "source": [
    "r2_score_mlp = mlp(scaled_input, y, imp='Latent GPLVM Iterative')"
   ]
  },
  {
   "cell_type": "code",
   "execution_count": null,
   "id": "e13cc343",
   "metadata": {},
   "outputs": [
    {
     "name": "stdout",
     "output_type": "stream",
     "text": [
      "\n",
      "MLP 10-Fold CV R² Score Latent GPLVM Iterative: 0.194 ± 0.048\n"
     ]
    }
   ],
   "source": [
    "print(r2_score_mlp)"
   ]
  },
  {
   "cell_type": "markdown",
   "id": "316f4146",
   "metadata": {},
   "source": [
    "##### GP Regression"
   ]
  },
  {
   "cell_type": "code",
   "execution_count": null,
   "id": "374ad517",
   "metadata": {},
   "outputs": [],
   "source": [
    "r2_score_gpr = gp_regressor(scaled_input, y, imp='Latent GPLVM Iterative')"
   ]
  },
  {
   "cell_type": "code",
   "execution_count": null,
   "id": "0c513770",
   "metadata": {},
   "outputs": [
    {
     "name": "stdout",
     "output_type": "stream",
     "text": [
      "\n",
      "GPR 10-Fold CV R² Score Latent GPLVM Iterative: 0.204 ± 0.046\n"
     ]
    }
   ],
   "source": [
    "print(r2_score_gpr)"
   ]
  },
  {
   "cell_type": "markdown",
   "id": "9ee5affe",
   "metadata": {},
   "source": [
    "### **3.6** MICE Pre-Imputation"
   ]
  },
  {
   "cell_type": "code",
   "execution_count": null,
   "id": "1accef28",
   "metadata": {},
   "outputs": [],
   "source": [
    "input = pd.read_csv('GPLVM IMPUTATION/latent_mice_df.csv')\n",
    "target = pd.read_csv('DATA/target_COMPLETE_DATA.csv')\n",
    "\n",
    "all_data = pd.concat([input, target], axis=1)\n",
    "all_data = all_data.dropna(subset=['ADAS13'])\n",
    "\n",
    "# Divide again in input and target\n",
    "input = all_data.drop(columns=['ADAS13'])\n",
    "target = all_data['ADAS13']\n",
    "\n",
    "# Scale the data\n",
    "scaler = StandardScaler()\n",
    "input_scaled = scaler.fit_transform(input)\n",
    "\n",
    "scaled_input = pd.DataFrame(input_scaled, columns=input.columns)\n",
    "y = target"
   ]
  },
  {
   "cell_type": "markdown",
   "id": "5401b5f3",
   "metadata": {},
   "source": [
    "##### Random Forest"
   ]
  },
  {
   "cell_type": "code",
   "execution_count": null,
   "id": "3e4f8ba6",
   "metadata": {},
   "outputs": [],
   "source": [
    "r2_score_rf = random_forest(scaled_input, y, imp='Latent GPLVM MICE')"
   ]
  },
  {
   "cell_type": "code",
   "execution_count": null,
   "id": "9a653a13",
   "metadata": {},
   "outputs": [
    {
     "name": "stdout",
     "output_type": "stream",
     "text": [
      "\n",
      "Random Forest 10-Fold CV R² Score Latent GPLVM MICE: 0.209 ± 0.049\n"
     ]
    }
   ],
   "source": [
    "print(r2_score_rf)"
   ]
  },
  {
   "cell_type": "markdown",
   "id": "5dc71c02",
   "metadata": {},
   "source": [
    "##### Gradient Boosting"
   ]
  },
  {
   "cell_type": "code",
   "execution_count": null,
   "id": "9bb326cc",
   "metadata": {},
   "outputs": [],
   "source": [
    "r2_score_grad = gradient_boosting(scaled_input, y, imp='Latent GPLVM MICE')"
   ]
  },
  {
   "cell_type": "code",
   "execution_count": null,
   "id": "5210eaeb",
   "metadata": {},
   "outputs": [
    {
     "name": "stdout",
     "output_type": "stream",
     "text": [
      "\n",
      "Gradient Boosting 10-Fold CV R² Score Latent GPLVM MICE: 0.198 ± 0.050\n"
     ]
    }
   ],
   "source": [
    "print(r2_score_grad)"
   ]
  },
  {
   "cell_type": "markdown",
   "id": "e6be2f76",
   "metadata": {},
   "source": [
    "##### Extreme Gradient Boosting"
   ]
  },
  {
   "cell_type": "code",
   "execution_count": null,
   "id": "6b386b45",
   "metadata": {},
   "outputs": [],
   "source": [
    "r2_score_xgb = xgb_regressor(scaled_input, y, imp='Latent GPLVM MICE')"
   ]
  },
  {
   "cell_type": "code",
   "execution_count": null,
   "id": "4d3427f2",
   "metadata": {},
   "outputs": [
    {
     "name": "stdout",
     "output_type": "stream",
     "text": [
      "\n",
      "XGB Regressor 10-Fold CV R² Score Latent GPLVM MICE: 0.194 ± 0.045\n"
     ]
    }
   ],
   "source": [
    "print(r2_score_xgb)"
   ]
  },
  {
   "cell_type": "markdown",
   "id": "cbc7537d",
   "metadata": {},
   "source": [
    "##### SVR"
   ]
  },
  {
   "cell_type": "code",
   "execution_count": null,
   "id": "503fc67c",
   "metadata": {},
   "outputs": [],
   "source": [
    "r2_score_svr = svr(scaled_input, y, imp='Latent GPLVM MICE')"
   ]
  },
  {
   "cell_type": "code",
   "execution_count": null,
   "id": "690e7a3d",
   "metadata": {},
   "outputs": [
    {
     "name": "stdout",
     "output_type": "stream",
     "text": [
      "\n",
      "SVR 10-Fold CV R² Score Latent GPLVM MICE: 0.192 ± 0.044\n"
     ]
    }
   ],
   "source": [
    "print(r2_score_svr)"
   ]
  },
  {
   "cell_type": "markdown",
   "id": "28543c2c",
   "metadata": {},
   "source": [
    "##### Ridge Regression"
   ]
  },
  {
   "cell_type": "code",
   "execution_count": null,
   "id": "45719ecb",
   "metadata": {},
   "outputs": [],
   "source": [
    "r2_score_ridge = ridge_regression(scaled_input, y, imp='Latent GPLVM MICE')"
   ]
  },
  {
   "cell_type": "code",
   "execution_count": null,
   "id": "fac51fc1",
   "metadata": {},
   "outputs": [
    {
     "name": "stdout",
     "output_type": "stream",
     "text": [
      "\n",
      "Ridge Regression 10-Fold CV R² Score Latent GPLVM MICE: 0.166 ± 0.049\n"
     ]
    }
   ],
   "source": [
    "print(r2_score_ridge)"
   ]
  },
  {
   "cell_type": "markdown",
   "id": "91508352",
   "metadata": {},
   "source": [
    "##### MLP"
   ]
  },
  {
   "cell_type": "code",
   "execution_count": null,
   "id": "7898c736",
   "metadata": {},
   "outputs": [],
   "source": [
    "r2_score_mlp = mlp(scaled_input, y, imp='Latent GPLVM MICE')"
   ]
  },
  {
   "cell_type": "code",
   "execution_count": null,
   "id": "b9452dee",
   "metadata": {},
   "outputs": [
    {
     "name": "stdout",
     "output_type": "stream",
     "text": [
      "\n",
      "MLP 10-Fold CV R² Score Latent GPLVM MICE: 0.205 ± 0.045\n"
     ]
    }
   ],
   "source": [
    "print(r2_score_mlp)"
   ]
  },
  {
   "cell_type": "markdown",
   "id": "95028a3f",
   "metadata": {},
   "source": [
    "##### GP Regression"
   ]
  },
  {
   "cell_type": "code",
   "execution_count": null,
   "id": "2fdeae41",
   "metadata": {},
   "outputs": [],
   "source": [
    "r2_score_gpr = gp_regressor(scaled_input, y, imp='Latent GPLVM MICE')"
   ]
  },
  {
   "cell_type": "code",
   "execution_count": null,
   "id": "ae69ec95",
   "metadata": {},
   "outputs": [
    {
     "name": "stdout",
     "output_type": "stream",
     "text": [
      "\n",
      "GPR 10-Fold CV R² Score Latent GPLVM MICE: 0.213 ± 0.046\n"
     ]
    }
   ],
   "source": [
    "print(r2_score_gpr)"
   ]
  }
 ],
 "metadata": {
  "language_info": {
   "name": "python"
  }
 },
 "nbformat": 4,
 "nbformat_minor": 5
}
