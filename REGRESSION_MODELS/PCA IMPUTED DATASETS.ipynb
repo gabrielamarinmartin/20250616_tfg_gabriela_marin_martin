{
 "cells": [
  {
   "cell_type": "markdown",
   "id": "64ebc2a7",
   "metadata": {},
   "source": [
    "# REGRESSION MODELS: PCA IMPUTATION\n",
    "\n",
    "## Description of this notebook\n",
    "\n",
    "This notebook evaluates the performance of the regression models using the datasets imputed using the Principal Component Analysis (PCA)."
   ]
  },
  {
   "cell_type": "code",
   "execution_count": null,
   "id": "702c09ea",
   "metadata": {},
   "outputs": [],
   "source": [
    "# Import all the necessary libraries \n",
    "\n",
    "import pandas as pd\n",
    "import numpy as np\n",
    "from sklearn.metrics import mean_squared_error, r2_score, mean_absolute_error\n",
    "from sklearn.ensemble import RandomForestRegressor, GradientBoostingRegressor\n",
    "import joblib\n",
    "from xgboost import XGBRegressor\n",
    "from sklearn.svm import SVR\n",
    "from sklearn.gaussian_process.kernels import RBF, Matern, RationalQuadratic, WhiteKernel, ExpSineSquared, DotProduct\n",
    "from sklearn.linear_model import Ridge\n",
    "from sklearn.model_selection import GridSearchCV, KFold, train_test_split, cross_val_score\n",
    "from sklearn.metrics import make_scorer\n",
    "from sklearn.preprocessing import StandardScaler\n",
    "import os\n",
    "from sklearn.neural_network import MLPRegressor\n",
    "from GPy import models\n",
    "from GPy import kern\n",
    "from sklearn.gaussian_process import GaussianProcessRegressor\n",
    "import warnings\n",
    "warnings.filterwarnings(\"ignore\")\n",
    "from sklearn.base import clone"
   ]
  },
  {
   "cell_type": "code",
   "execution_count": null,
   "id": "eb5d784e",
   "metadata": {},
   "outputs": [],
   "source": [
    "#os.chdir('..') # move to the general directory"
   ]
  },
  {
   "cell_type": "code",
   "execution_count": null,
   "id": "52418a85",
   "metadata": {},
   "outputs": [],
   "source": [
    "def scale_data(input, target):\n",
    "    all_data = pd.concat([input, target], axis=1)\n",
    "\n",
    "    all_data = all_data.dropna(subset=['ADAS13'])\n",
    "\n",
    "    # Divide again in input and target\n",
    "\n",
    "    input = all_data.drop(columns=['ADAS13'])\n",
    "    target = all_data['ADAS13']\n",
    "\n",
    "    # Divide numerical and categorical variables\n",
    "    input_num = input.drop(columns=['PTGENDER', 'APOE4'])\n",
    "    input_cat = input[['PTGENDER', 'APOE4']]\n",
    "\n",
    "    # Scale the data\n",
    "    scaler = StandardScaler()\n",
    "    input_scaled = scaler.fit_transform(input_num)\n",
    "    input_scaled = pd.DataFrame(input_scaled, columns=input_num.columns).reset_index(drop=True)\n",
    "    input_cat = input_cat.reset_index(drop=True)\n",
    "\n",
    "    # Concatenate scaled data with categorical variables\n",
    "    input = pd.concat([input_scaled, input_cat], axis=1)\n",
    "    \n",
    "    return input, target"
   ]
  },
  {
   "cell_type": "markdown",
   "id": "2bea15e9",
   "metadata": {},
   "source": [
    "## **1.** Models Definitions"
   ]
  },
  {
   "cell_type": "markdown",
   "id": "77921918",
   "metadata": {},
   "source": [
    "### **1.1** Random Forest Model"
   ]
  },
  {
   "cell_type": "code",
   "execution_count": null,
   "id": "90644dbd",
   "metadata": {},
   "outputs": [],
   "source": [
    "def random_forest(X, y, imp='None'):\n",
    "    rf = RandomForestRegressor(random_state=42)\n",
    "\n",
    "    param_grid_rf = {\n",
    "        'n_estimators': [30, 40, 50, 55],\n",
    "        'max_depth': [1, 5, 10, 20, 30],\n",
    "        'min_samples_split': [2, 5, 10, 15, 20],\n",
    "        'min_samples_leaf': [1, 2, 4, 6, 8, 10],\n",
    "        'max_features': [15, 16, 17, 18, 19, 20]\n",
    "    }\n",
    "\n",
    "    scorer = make_scorer(mean_absolute_error, greater_is_better=False)\n",
    "\n",
    "    kf_outer = KFold(n_splits=10, shuffle=True, random_state=42)\n",
    "\n",
    "    r2_scores = []\n",
    "\n",
    "    fold = 1\n",
    "    for train_index, test_index in kf_outer.split(X):\n",
    "        print(f\"Fold {fold}:\")\n",
    "\n",
    "        X_train, X_test = X.iloc[train_index], X.iloc[test_index]\n",
    "        y_train, y_test = y.iloc[train_index], y.iloc[test_index]\n",
    "\n",
    "        grid_search_rf = GridSearchCV(\n",
    "            estimator=rf,\n",
    "            param_grid=param_grid_rf,\n",
    "            cv=KFold(n_splits=3, shuffle=True, random_state=42), \n",
    "            scoring=scorer,\n",
    "            verbose=0,\n",
    "            n_jobs=-1\n",
    "        )\n",
    "\n",
    "        grid_search_rf.fit(X_train, y_train)\n",
    "\n",
    "        best_rf_model = grid_search_rf.best_estimator_\n",
    "\n",
    "        y_pred_test = best_rf_model.predict(X_test)\n",
    "\n",
    "        r2 = r2_score(y_test, y_pred_test)\n",
    "\n",
    "        print(f\"Fold R²: {r2:.3f}\")\n",
    "\n",
    "        r2_scores.append(r2)\n",
    "\n",
    "        fold += 1\n",
    "\n",
    "    return (f\"\\nRandom Forest 10-Fold CV R² Score {imp}: {np.mean(r2_scores):.3f} ± {np.std(r2_scores):.3f}\")\n"
   ]
  },
  {
   "cell_type": "markdown",
   "id": "4eac343f",
   "metadata": {},
   "source": [
    "### **1.2** Gradient Boosting Regressor"
   ]
  },
  {
   "cell_type": "code",
   "execution_count": null,
   "id": "0c8d20e3",
   "metadata": {},
   "outputs": [],
   "source": [
    "def gradient_boosting(X, y, imp='None'):\n",
    "    gradboosting = GradientBoostingRegressor(random_state=42)\n",
    "\n",
    "    param_grid = {\n",
    "        'n_estimators': [500, 700, 900],\n",
    "        'learning_rate': [0.0001, 0.001, 0.01],\n",
    "        'max_depth': [1, 2, 3],\n",
    "        'min_samples_split': [3, 4, 5],\n",
    "        'min_samples_leaf': [1, 2, 3]\n",
    "    }\n",
    "\n",
    "    scorer = make_scorer(mean_absolute_error, greater_is_better=False)\n",
    "\n",
    "    kf_outer = KFold(n_splits=10, shuffle=True, random_state=42)\n",
    "\n",
    "    r2_scores = []\n",
    "\n",
    "    fold = 1\n",
    "    for train_index, test_index in kf_outer.split(X):\n",
    "        print(f\"Fold {fold}:\")\n",
    "\n",
    "        X_train, X_test = X.iloc[train_index], X.iloc[test_index]\n",
    "        y_train, y_test = y.iloc[train_index], y.iloc[test_index]\n",
    "\n",
    "        grid_search = GridSearchCV(\n",
    "            estimator=gradboosting,\n",
    "            param_grid=param_grid,\n",
    "            cv=KFold(n_splits=3, shuffle=True, random_state=42), \n",
    "            scoring=scorer,\n",
    "            verbose=0,\n",
    "            n_jobs=-1\n",
    "        )\n",
    "\n",
    "        grid_search.fit(X_train, y_train)\n",
    "\n",
    "        best_model = grid_search.best_estimator_\n",
    "\n",
    "        y_pred_test = best_model.predict(X_test)\n",
    "\n",
    "        r2 = r2_score(y_test, y_pred_test)\n",
    "\n",
    "        print(f\"  Fold R²: {r2:.3f}\")\n",
    "\n",
    "        r2_scores.append(r2)\n",
    "\n",
    "        fold += 1\n",
    "\n",
    "    return (f\"\\nGradient Boosting 10-Fold CV R² Score {imp}: {np.mean(r2_scores):.3f} ± {np.std(r2_scores):.3f}\")\n"
   ]
  },
  {
   "cell_type": "markdown",
   "id": "47f54e72",
   "metadata": {},
   "source": [
    "### **1.3** XGBRegressor"
   ]
  },
  {
   "cell_type": "code",
   "execution_count": null,
   "id": "d8cd9c4f",
   "metadata": {},
   "outputs": [],
   "source": [
    "def xgb_regressor(X, y, imp='None'):\n",
    "    xgb = XGBRegressor(random_state=42)\n",
    "\n",
    "    param_grid = {\n",
    "        'n_estimators': [100, 500, 1000],\n",
    "        'learning_rate': [1e-4, 1e-3, 1e-2, 1e-1],\n",
    "        'max_depth': [1, 3, 5, 7]\n",
    "    }\n",
    "\n",
    "    scorer = make_scorer(mean_absolute_error, greater_is_better=False)\n",
    "\n",
    "    kf_outer = KFold(n_splits=10, shuffle=True, random_state=42)\n",
    "\n",
    "    r2_scores = []\n",
    "\n",
    "    fold = 1\n",
    "    for train_index, test_index in kf_outer.split(X):\n",
    "        print(f\"Fold {fold}:\")\n",
    "\n",
    "        X_train, X_test = X.iloc[train_index], X.iloc[test_index]\n",
    "        y_train, y_test = y.iloc[train_index], y.iloc[test_index]\n",
    "\n",
    "        grid_search = GridSearchCV(\n",
    "            estimator=xgb,\n",
    "            param_grid=param_grid,\n",
    "            cv=KFold(n_splits=3, shuffle=True, random_state=42),\n",
    "            scoring=scorer,\n",
    "            verbose=0,\n",
    "            n_jobs=-1\n",
    "        )\n",
    "\n",
    "        grid_search.fit(X_train, y_train)\n",
    "\n",
    "        best_model = grid_search.best_estimator_\n",
    "\n",
    "        y_pred_test = best_model.predict(X_test)\n",
    "\n",
    "        r2 = r2_score(y_test, y_pred_test)\n",
    "\n",
    "        print(f\"  Fold R²: {r2:.3f}\")\n",
    "\n",
    "        r2_scores.append(r2)\n",
    "\n",
    "        fold += 1\n",
    "\n",
    "    return (f\"\\nXGB Regressor 10-Fold CV R² Score {imp}: {np.mean(r2_scores):.3f} ± {np.std(r2_scores):.3f}\")\n"
   ]
  },
  {
   "cell_type": "markdown",
   "id": "ee0f2e98",
   "metadata": {},
   "source": [
    "### **1.4** Support Vector Regressor"
   ]
  },
  {
   "cell_type": "code",
   "execution_count": null,
   "id": "a40b6dc9",
   "metadata": {},
   "outputs": [],
   "source": [
    "def svr(X, y, imp='None'):\n",
    "    svr_model = SVR()\n",
    "\n",
    "    param_grid = {\n",
    "        'kernel': ['linear', 'rbf', 'poly', 'sigmoid'],\n",
    "        'C': [1e-3, 1e-2, 1e-1, 1, 10],\n",
    "        'gamma': [1e-4, 1e-3, 1e-2, 1, 10],\n",
    "        'epsilon': [1e-4, 1e-3, 1e-2, 1, 10]\n",
    "    }\n",
    "\n",
    "    scorer = make_scorer(mean_absolute_error, greater_is_better=False)\n",
    "\n",
    "    kf_outer = KFold(n_splits=10, shuffle=True, random_state=42)\n",
    "\n",
    "    r2_scores = []\n",
    "\n",
    "    fold = 1\n",
    "    for train_index, test_index in kf_outer.split(X):\n",
    "        print(f\"Fold {fold}:\")\n",
    "\n",
    "        X_train, X_test = X.iloc[train_index], X.iloc[test_index]\n",
    "        y_train, y_test = y.iloc[train_index], y.iloc[test_index]\n",
    "\n",
    "        grid_search = GridSearchCV(\n",
    "            estimator=svr_model,\n",
    "            param_grid=param_grid,\n",
    "            cv=KFold(n_splits=3, shuffle=True, random_state=42),\n",
    "            scoring=scorer,\n",
    "            verbose=0,\n",
    "            n_jobs=-1\n",
    "        )\n",
    "\n",
    "        grid_search.fit(X_train, y_train)\n",
    "\n",
    "        best_model = grid_search.best_estimator_\n",
    "\n",
    "        y_pred_test = best_model.predict(X_test)\n",
    "\n",
    "        r2 = r2_score(y_test, y_pred_test)\n",
    "\n",
    "        print(f\"  Fold R²: {r2:.3f}\")\n",
    "\n",
    "        r2_scores.append(r2)\n",
    "\n",
    "        fold += 1\n",
    "\n",
    "    return (f\"\\nSVR 10-Fold CV R² Score {imp}: {np.mean(r2_scores):.3f} ± {np.std(r2_scores):.3f}\")\n"
   ]
  },
  {
   "cell_type": "markdown",
   "id": "7fe42063",
   "metadata": {},
   "source": [
    "### **1.5** Ridge Regression Model"
   ]
  },
  {
   "cell_type": "code",
   "execution_count": null,
   "id": "38ed4dbc",
   "metadata": {},
   "outputs": [],
   "source": [
    "def ridge_regression(X, y, imp='None'):\n",
    "    ridge = Ridge(random_state=42)\n",
    "\n",
    "    param_grid = {\n",
    "        'alpha': [1e-10, 1e-5, 1e-4, 1e-3, 1e-2],\n",
    "        'fit_intercept': [True, False],\n",
    "        'tol': [1e-5, 1e-4, 1e-3, 1e-2],\n",
    "        'max_iter': [100, 500, 1000, 2000, 3000],\n",
    "        'solver': ['auto', 'saga'],\n",
    "    }\n",
    "\n",
    "    scorer = make_scorer(mean_absolute_error, greater_is_better=False)\n",
    "\n",
    "    kf_outer = KFold(n_splits=10, shuffle=True, random_state=42)\n",
    "\n",
    "    r2_scores = []\n",
    "\n",
    "    fold = 1\n",
    "    for train_index, test_index in kf_outer.split(X):\n",
    "        print(f\"Fold {fold}:\")\n",
    "\n",
    "        X_train, X_test = X.iloc[train_index], X.iloc[test_index]\n",
    "        y_train, y_test = y.iloc[train_index], y.iloc[test_index]\n",
    "\n",
    "        grid_search = GridSearchCV(\n",
    "            estimator=ridge,\n",
    "            param_grid=param_grid,\n",
    "            cv=KFold(n_splits=3, shuffle=True, random_state=42),\n",
    "            scoring=scorer,\n",
    "            verbose=0,\n",
    "            n_jobs=-1\n",
    "        )\n",
    "\n",
    "        grid_search.fit(X_train, y_train)\n",
    "\n",
    "        best_model = grid_search.best_estimator_\n",
    "\n",
    "        y_pred_test = best_model.predict(X_test)\n",
    "\n",
    "        r2 = r2_score(y_test, y_pred_test)\n",
    "\n",
    "        print(f\"  Fold R²: {r2:.3f}\")\n",
    "\n",
    "        r2_scores.append(r2)\n",
    "\n",
    "        fold += 1\n",
    "\n",
    "    return (f\"\\nRidge Regression 10-Fold CV R² Score {imp}: {np.mean(r2_scores):.3f} ± {np.std(r2_scores):.3f}\")\n"
   ]
  },
  {
   "cell_type": "markdown",
   "id": "9075d987",
   "metadata": {},
   "source": [
    "### **1.6** MultiLayer Perceptron (MLP)"
   ]
  },
  {
   "cell_type": "code",
   "execution_count": null,
   "id": "a0844630",
   "metadata": {},
   "outputs": [],
   "source": [
    "def mlp(X, y, imp='None'):\n",
    "    mlp = MLPRegressor(random_state=42, max_iter=1000000)\n",
    "\n",
    "    param_grid = {\n",
    "        'hidden_layer_sizes': [(2,), (5,), (10,), (2, 2), (5, 2), (10, 2)],\n",
    "        'activation': ['relu', 'tanh'],\n",
    "        'solver': ['adam', 'lbfgs'],\n",
    "        'alpha': [1e-10, 1e-5, 1e-4, 1e-3, 1e-2]\n",
    "    }\n",
    "\n",
    "    scorer = make_scorer(mean_absolute_error, greater_is_better=False)\n",
    "\n",
    "    kf_outer = KFold(n_splits=10, shuffle=True, random_state=42)\n",
    "\n",
    "    r2_scores = []\n",
    "\n",
    "    fold = 1\n",
    "    for train_index, test_index in kf_outer.split(X):\n",
    "        print(f\"Fold {fold}:\")\n",
    "\n",
    "        X_train, X_test = X.iloc[train_index], X.iloc[test_index]\n",
    "        y_train, y_test = y.iloc[train_index], y.iloc[test_index]\n",
    "\n",
    "        grid_search = GridSearchCV(\n",
    "            estimator=mlp,\n",
    "            param_grid=param_grid,\n",
    "            cv=KFold(n_splits=3, shuffle=True, random_state=42),\n",
    "            scoring=scorer,\n",
    "            verbose=0,\n",
    "            n_jobs=-1\n",
    "        )\n",
    "\n",
    "        grid_search.fit(X_train, y_train)\n",
    "\n",
    "        best_model = grid_search.best_estimator_\n",
    "\n",
    "        y_pred_test = best_model.predict(X_test)\n",
    "\n",
    "        r2 = r2_score(y_test, y_pred_test)\n",
    "\n",
    "        print(f\"  Fold R²: {r2:.3f}\")\n",
    "\n",
    "        r2_scores.append(r2)\n",
    "\n",
    "        fold += 1\n",
    "\n",
    "    return (f\"\\nMLP 10-Fold CV R² Score {imp}: {np.mean(r2_scores):.3f} ± {np.std(r2_scores):.3f}\")"
   ]
  },
  {
   "cell_type": "markdown",
   "id": "092aa8d1",
   "metadata": {},
   "source": [
    "### **1.7** GP Regressor"
   ]
  },
  {
   "cell_type": "code",
   "execution_count": null,
   "id": "aecf9e2d",
   "metadata": {},
   "outputs": [],
   "source": [
    "def gp_regressor(X, y, imp='None'):\n",
    "\n",
    "    gpr = GaussianProcessRegressor(random_state=42, normalize_y=True)\n",
    "\n",
    "    # Define kernels with tunable hyperparameters\n",
    "    kernel_options = [\n",
    "        RBF(length_scale=1.0, length_scale_bounds=(1e-2, 1e3)) +\n",
    "        WhiteKernel(noise_level=1.0, noise_level_bounds=(1e-10, 1e1)) +\n",
    "        Matern(length_scale=1.0, length_scale_bounds=(1e-2, 1e3)),\n",
    "        \n",
    "        RBF(length_scale=1.0, length_scale_bounds=(1e-2, 1e3)) +\n",
    "        WhiteKernel(noise_level=1.0, noise_level_bounds=(1e-10, 1e1)) +\n",
    "        RationalQuadratic(alpha=1.0, alpha_bounds=(1e-2, 1e3),\n",
    "                  length_scale=1.0, length_scale_bounds=(1e-2, 1e3)),\n",
    "\n",
    "        \n",
    "        RBF(length_scale=1.0, length_scale_bounds=(1e-2, 1e3)) +\n",
    "        WhiteKernel(noise_level=1.0, noise_level_bounds=(1e-10, 1e1)) +\n",
    "        ExpSineSquared(length_scale=1.0, length_scale_bounds=(1e-2, 1e3),\n",
    "                    periodicity=3.0, periodicity_bounds=(1e-2, 10.0)),\n",
    "        \n",
    "        RBF(length_scale=1.0, length_scale_bounds=(1e-2, 1e3)) +\n",
    "        WhiteKernel(noise_level=1.0, noise_level_bounds=(1e-10, 1e1)) +\n",
    "        DotProduct(sigma_0=1.0, sigma_0_bounds=(1e-2, 1e3)),\n",
    "        \n",
    "        Matern(length_scale=1.0, length_scale_bounds=(1e-2, 1e3)),\n",
    "        WhiteKernel(noise_level=1.0, noise_level_bounds=(1e-10, 1e1)) +\n",
    "        RationalQuadratic(alpha=1.0, alpha_bounds=(1e-2, 1e3),\n",
    "                  length_scale=1.0, length_scale_bounds=(1e-2, 1e3)),\n",
    "        \n",
    "        Matern(length_scale=1.0, length_scale_bounds=(1e-2, 1e3)) +\n",
    "        WhiteKernel(noise_level=1.0, noise_level_bounds=(1e-10, 1e1)) +\n",
    "        ExpSineSquared(length_scale=1.0, length_scale_bounds=(1e-2, 1e3),\n",
    "               periodicity=3.0, periodicity_bounds=(1e-2, 10.0)),\n",
    "        \n",
    "        Matern(length_scale=1.0, length_scale_bounds=(1e-2, 1e3)) +\n",
    "        WhiteKernel(noise_level=1.0, noise_level_bounds=(1e-10, 1e1)) +\n",
    "        DotProduct(sigma_0=1.0, sigma_0_bounds=(1e-2, 1e3)),\n",
    "        \n",
    "        RationalQuadratic(alpha=1.0, alpha_bounds=(1e-2, 1e3),\n",
    "                  length_scale=1.0, length_scale_bounds=(1e-2, 1e3)),\n",
    "        WhiteKernel(noise_level=1.0, noise_level_bounds=(1e-10, 1e1)) +\n",
    "        ExpSineSquared(length_scale=1.0, length_scale_bounds=(1e-2, 1e3),\n",
    "               periodicity=3.0, periodicity_bounds=(1e-2, 10.0)),\n",
    "        \n",
    "        RationalQuadratic(alpha=1.0, alpha_bounds=(1e-2, 1e3),\n",
    "                  length_scale=1.0, length_scale_bounds=(1e-2, 1e3)) +\n",
    "        WhiteKernel(noise_level=1.0, noise_level_bounds=(1e-10, 1e1)) +\n",
    "        DotProduct(sigma_0=1.0, sigma_0_bounds=(1e-2, 1e3)),\n",
    "        \n",
    "        ExpSineSquared(length_scale=1.0, length_scale_bounds=(1e-2, 1e3),\n",
    "               periodicity=3.0, periodicity_bounds=(1e-2, 10.0)) +  \n",
    "        WhiteKernel(noise_level=1.0, noise_level_bounds=(1e-10, 1e1)) +\n",
    "        DotProduct(sigma_0=1.0, sigma_0_bounds=(1e-2, 1e3)),\n",
    "        \n",
    "        DotProduct(sigma_0=1.0, sigma_0_bounds=(1e-2, 1e3)) +\n",
    "        WhiteKernel(noise_level=1.0, noise_level_bounds=(1e-10, 1e1)),\n",
    "        \n",
    "        RBF(length_scale=1.0, length_scale_bounds=(1e-2, 1e3)) +         \n",
    "        WhiteKernel(noise_level=1.0, noise_level_bounds=(1e-10, 1e1)),\n",
    "        \n",
    "        Matern(length_scale=1.0, length_scale_bounds=(1e-2, 1e3)) +\n",
    "        WhiteKernel(noise_level=1.0, noise_level_bounds=(1e-10, 1e1)),\n",
    "        \n",
    "        RationalQuadratic(alpha=1.0, alpha_bounds=(1e-2, 1e3),\n",
    "                  length_scale=1.0, length_scale_bounds=(1e-2, 1e3)) + \n",
    "        WhiteKernel(noise_level=1.0, noise_level_bounds=(1e-10, 1e1)),\n",
    "        \n",
    "        ExpSineSquared(length_scale=1.0, length_scale_bounds=(1e-2, 1e3),\n",
    "                    periodicity=3.0, periodicity_bounds=(1e-2, 10.0)) +\n",
    "        WhiteKernel(noise_level=1.0, noise_level_bounds=(1e-10, 1e1))\n",
    "\n",
    "    ]\n",
    "\n",
    "    scorer = make_scorer(mean_absolute_error, greater_is_better=False)\n",
    "\n",
    "    kf_outer = KFold(n_splits=10, shuffle=True, random_state=42)\n",
    "\n",
    "    r2_scores = []\n",
    "\n",
    "    param_grid = {\n",
    "        'kernel': [clone(k) for k in kernel_options]\n",
    "    }\n",
    "\n",
    "    fold = 1\n",
    "    for train_index, test_index in kf_outer.split(X):\n",
    "        print(f\"Fold {fold}:\")\n",
    "\n",
    "        X_train, X_test = X.iloc[train_index], X.iloc[test_index]\n",
    "        y_train, y_test = y.iloc[train_index], y.iloc[test_index]\n",
    "\n",
    "        grid_search = GridSearchCV(\n",
    "            estimator=gpr,\n",
    "            param_grid=param_grid,\n",
    "            cv=KFold(n_splits=3, shuffle=True, random_state=42),\n",
    "            scoring=scorer,\n",
    "            verbose=0,\n",
    "            n_jobs=-1\n",
    "        )\n",
    "\n",
    "        grid_search.fit(X_train, y_train)\n",
    "        best_model = grid_search.best_estimator_\n",
    "\n",
    "        y_pred, y_std = best_model.predict(X_test, return_std=True)\n",
    "\n",
    "        r2 = r2_score(y_test, y_pred)\n",
    "\n",
    "        print(f\"  Fold R²: {r2:.3f}\")\n",
    "\n",
    "        r2_scores.append(r2)\n",
    "\n",
    "        fold += 1\n",
    "\n",
    "    return (f\"\\nGPR 10-Fold CV R² Score {imp}: {np.mean(r2_scores):.3f} ± {np.std(r2_scores):.3f}\")\n",
    "    \n"
   ]
  },
  {
   "cell_type": "markdown",
   "id": "1ebcefec",
   "metadata": {},
   "source": [
    "## **2.** PCA Imputed Datasets"
   ]
  },
  {
   "cell_type": "markdown",
   "id": "6de16c3c",
   "metadata": {},
   "source": [
    "### **2.1** Mean Pre-Imputation"
   ]
  },
  {
   "cell_type": "code",
   "execution_count": null,
   "id": "8f8fd6e3",
   "metadata": {},
   "outputs": [],
   "source": [
    "input = pd.read_csv('PCA IMPUTATION/imputed_pca_mean_df.csv')\n",
    "target = pd.read_csv('DATA/target_COMPLETE_DATA.csv')\n",
    "\n",
    "scaled_input, y = scale_data(input, target)"
   ]
  },
  {
   "cell_type": "markdown",
   "id": "a193d8b6",
   "metadata": {},
   "source": [
    "##### Random Forest"
   ]
  },
  {
   "cell_type": "code",
   "execution_count": null,
   "id": "1dbd848c",
   "metadata": {},
   "outputs": [],
   "source": [
    "r2_score_rf = random_forest(scaled_input, y, imp='PCA Mean')"
   ]
  },
  {
   "cell_type": "code",
   "execution_count": null,
   "id": "491f53cb",
   "metadata": {},
   "outputs": [
    {
     "name": "stdout",
     "output_type": "stream",
     "text": [
      "\n",
      "Random Forest 10-Fold CV R² Score PCA Mean: 0.709 ± 0.039\n"
     ]
    }
   ],
   "source": [
    "print(r2_score_rf)"
   ]
  },
  {
   "cell_type": "markdown",
   "id": "b664d208",
   "metadata": {},
   "source": [
    "##### Gradient Boosting"
   ]
  },
  {
   "cell_type": "code",
   "execution_count": null,
   "id": "1a00179c",
   "metadata": {},
   "outputs": [],
   "source": [
    "r2_score_grad = gradient_boosting(scaled_input, y, imp='PCA Mean')"
   ]
  },
  {
   "cell_type": "code",
   "execution_count": null,
   "id": "5a87e537",
   "metadata": {},
   "outputs": [
    {
     "name": "stdout",
     "output_type": "stream",
     "text": [
      "\n",
      "Gradient Boosting 10-Fold CV R² Score PCA Mean: 0.721 ± 0.034\n"
     ]
    }
   ],
   "source": [
    "print(r2_score_grad)"
   ]
  },
  {
   "cell_type": "markdown",
   "id": "f836bb6d",
   "metadata": {},
   "source": [
    "##### Extreme Gradient Boosting"
   ]
  },
  {
   "cell_type": "code",
   "execution_count": null,
   "id": "79fcf3e3",
   "metadata": {},
   "outputs": [],
   "source": [
    "r2_score_xgb = xgb_regressor(scaled_input, y, imp='PCA Mean')"
   ]
  },
  {
   "cell_type": "code",
   "execution_count": null,
   "id": "8b493a4e",
   "metadata": {},
   "outputs": [
    {
     "name": "stdout",
     "output_type": "stream",
     "text": [
      "\n",
      "XGB Regressor 10-Fold CV R² Score PCA Mean: 0.717 ± 0.033\n"
     ]
    }
   ],
   "source": [
    "print(r2_score_xgb)"
   ]
  },
  {
   "cell_type": "markdown",
   "id": "b3ba7f00",
   "metadata": {},
   "source": [
    "##### SVR"
   ]
  },
  {
   "cell_type": "code",
   "execution_count": null,
   "id": "bb985ccc",
   "metadata": {},
   "outputs": [],
   "source": [
    "r2_score_svr = svr(scaled_input, y, imp='PCA Mean')"
   ]
  },
  {
   "cell_type": "code",
   "execution_count": null,
   "id": "e80b923e",
   "metadata": {},
   "outputs": [
    {
     "name": "stdout",
     "output_type": "stream",
     "text": [
      "\n",
      "SVR 10-Fold CV R² Score PCA Mean: 0.730 ± 0.034\n"
     ]
    }
   ],
   "source": [
    "print(r2_score_svr)"
   ]
  },
  {
   "cell_type": "markdown",
   "id": "d3326615",
   "metadata": {},
   "source": [
    "##### Ridge Regression"
   ]
  },
  {
   "cell_type": "code",
   "execution_count": null,
   "id": "2e641bd1",
   "metadata": {},
   "outputs": [],
   "source": [
    "r2_score_ridge = ridge_regression(scaled_input, y, imp='PCA Mean')"
   ]
  },
  {
   "cell_type": "code",
   "execution_count": null,
   "id": "cbb36934",
   "metadata": {},
   "outputs": [
    {
     "name": "stdout",
     "output_type": "stream",
     "text": [
      "\n",
      "Ridge Regression 10-Fold CV R² Score PCA Mean: 0.730 ± 0.035\n"
     ]
    }
   ],
   "source": [
    "print(r2_score_ridge)"
   ]
  },
  {
   "cell_type": "markdown",
   "id": "294e7120",
   "metadata": {},
   "source": [
    "##### MLP"
   ]
  },
  {
   "cell_type": "code",
   "execution_count": null,
   "id": "f697f6ea",
   "metadata": {},
   "outputs": [],
   "source": [
    "r2_score_mlp = mlp(scaled_input, y, imp='PCA Mean')"
   ]
  },
  {
   "cell_type": "code",
   "execution_count": null,
   "id": "d01ae607",
   "metadata": {},
   "outputs": [
    {
     "name": "stdout",
     "output_type": "stream",
     "text": [
      "\n",
      "MLP 10-Fold CV R² Score PCA Mean: 0.729 ± 0.038\n"
     ]
    }
   ],
   "source": [
    "print(r2_score_mlp)"
   ]
  },
  {
   "cell_type": "markdown",
   "id": "b56f1380",
   "metadata": {},
   "source": [
    "##### GP Regression"
   ]
  },
  {
   "cell_type": "code",
   "execution_count": null,
   "id": "da5028cd",
   "metadata": {},
   "outputs": [],
   "source": [
    "r2_score_gpr = gp_regressor(scaled_input, y, imp='PCA Mean')"
   ]
  },
  {
   "cell_type": "code",
   "execution_count": null,
   "id": "1ffaa883",
   "metadata": {},
   "outputs": [
    {
     "name": "stdout",
     "output_type": "stream",
     "text": [
      "\n",
      "GPR 10-Fold CV R² Score PCA Mean: 0.730 ± 0.037\n"
     ]
    }
   ],
   "source": [
    "print(r2_score_gpr)"
   ]
  },
  {
   "cell_type": "markdown",
   "id": "47ef01ec",
   "metadata": {},
   "source": [
    "### **2.2** Median Pre-Imputation"
   ]
  },
  {
   "cell_type": "code",
   "execution_count": null,
   "id": "672aa2d3",
   "metadata": {},
   "outputs": [],
   "source": [
    "input = pd.read_csv('PCA IMPUTATION/imputed_pca_median_df.csv')\n",
    "target = pd.read_csv('DATA/target_COMPLETE_DATA.csv')\n",
    "\n",
    "scaled_input, y = scale_data(input, target)"
   ]
  },
  {
   "cell_type": "markdown",
   "id": "203a3070",
   "metadata": {},
   "source": [
    "##### Random Forest"
   ]
  },
  {
   "cell_type": "code",
   "execution_count": null,
   "id": "efe1163b",
   "metadata": {},
   "outputs": [],
   "source": [
    "r2_score_rf = random_forest(scaled_input, y, imp='PCA Median')"
   ]
  },
  {
   "cell_type": "code",
   "execution_count": null,
   "id": "2ac379f8",
   "metadata": {},
   "outputs": [
    {
     "name": "stdout",
     "output_type": "stream",
     "text": [
      "\n",
      "Random Forest 10-Fold CV R² Score PCA Median: 0.716 ± 0.038\n"
     ]
    }
   ],
   "source": [
    "print(r2_score_rf)"
   ]
  },
  {
   "cell_type": "markdown",
   "id": "91039475",
   "metadata": {},
   "source": [
    "##### Gradient Boosting"
   ]
  },
  {
   "cell_type": "code",
   "execution_count": null,
   "id": "4314d886",
   "metadata": {},
   "outputs": [],
   "source": [
    "r2_score_grad = gradient_boosting(scaled_input, y, imp='PCA Median')"
   ]
  },
  {
   "cell_type": "code",
   "execution_count": null,
   "id": "1ca1e3d6",
   "metadata": {},
   "outputs": [
    {
     "name": "stdout",
     "output_type": "stream",
     "text": [
      "\n",
      "Gradient Boosting 10-Fold CV R² Score PCA Median: 0.720 ± 0.034\n"
     ]
    }
   ],
   "source": [
    "print(r2_score_grad)"
   ]
  },
  {
   "cell_type": "markdown",
   "id": "a3958af7",
   "metadata": {},
   "source": [
    "##### Extreme Gradient Boosting"
   ]
  },
  {
   "cell_type": "code",
   "execution_count": null,
   "id": "7bc6814f",
   "metadata": {},
   "outputs": [],
   "source": [
    "r2_score_xgb = xgb_regressor(scaled_input, y, imp='PCA Median')"
   ]
  },
  {
   "cell_type": "code",
   "execution_count": null,
   "id": "6beb86d2",
   "metadata": {},
   "outputs": [
    {
     "name": "stdout",
     "output_type": "stream",
     "text": [
      "\n",
      "XGB Regressor 10-Fold CV R² Score PCA Median: 0.721 ± 0.034\n"
     ]
    }
   ],
   "source": [
    "print(r2_score_xgb)"
   ]
  },
  {
   "cell_type": "markdown",
   "id": "57990e0b",
   "metadata": {},
   "source": [
    "##### SVR"
   ]
  },
  {
   "cell_type": "code",
   "execution_count": null,
   "id": "bb75f4ad",
   "metadata": {},
   "outputs": [],
   "source": [
    "r2_score_svr = svr(scaled_input, y, imp='PCA Median')"
   ]
  },
  {
   "cell_type": "code",
   "execution_count": null,
   "id": "68848f38",
   "metadata": {},
   "outputs": [
    {
     "name": "stdout",
     "output_type": "stream",
     "text": [
      "\n",
      "SVR 10-Fold CV R² Score PCA Median: 0.730 ± 0.035\n"
     ]
    }
   ],
   "source": [
    "print(r2_score_svr)"
   ]
  },
  {
   "cell_type": "markdown",
   "id": "85c07b88",
   "metadata": {},
   "source": [
    "##### Ridge Regression"
   ]
  },
  {
   "cell_type": "code",
   "execution_count": null,
   "id": "d28c283d",
   "metadata": {},
   "outputs": [],
   "source": [
    "r2_score_ridge = ridge_regression(scaled_input, y, imp='PCA Median')"
   ]
  },
  {
   "cell_type": "code",
   "execution_count": null,
   "id": "3090bc76",
   "metadata": {},
   "outputs": [
    {
     "name": "stdout",
     "output_type": "stream",
     "text": [
      "\n",
      "Ridge Regression 10-Fold CV R² Score PCA Median: 0.731 ± 0.035\n"
     ]
    }
   ],
   "source": [
    "print(r2_score_ridge)"
   ]
  },
  {
   "cell_type": "markdown",
   "id": "8f9826a6",
   "metadata": {},
   "source": [
    "##### MLP"
   ]
  },
  {
   "cell_type": "code",
   "execution_count": null,
   "id": "19d4292f",
   "metadata": {},
   "outputs": [],
   "source": [
    "r2_score_mlp = mlp(scaled_input, y, imp='PCA Median')"
   ]
  },
  {
   "cell_type": "code",
   "execution_count": null,
   "id": "8dc365b2",
   "metadata": {},
   "outputs": [
    {
     "name": "stdout",
     "output_type": "stream",
     "text": [
      "\n",
      "MLP 10-Fold CV R² Score PCA Median: 0.726 ± 0.037\n"
     ]
    }
   ],
   "source": [
    "print(r2_score_mlp)"
   ]
  },
  {
   "cell_type": "markdown",
   "id": "af797942",
   "metadata": {},
   "source": [
    "##### GP Regression"
   ]
  },
  {
   "cell_type": "code",
   "execution_count": null,
   "id": "b4629e11",
   "metadata": {},
   "outputs": [],
   "source": [
    "r2_score_gpr = gp_regressor(scaled_input, y, imp='PCA Median')"
   ]
  },
  {
   "cell_type": "code",
   "execution_count": null,
   "id": "e414c13c",
   "metadata": {},
   "outputs": [
    {
     "name": "stdout",
     "output_type": "stream",
     "text": [
      "\n",
      "GPR 10-Fold CV R² Score PCA Median: 0.730 ± 0.037\n"
     ]
    }
   ],
   "source": [
    "print(r2_score_gpr)"
   ]
  },
  {
   "cell_type": "markdown",
   "id": "2f2ebc29",
   "metadata": {},
   "source": [
    "### **2.3** Mode Pre-Imputation"
   ]
  },
  {
   "cell_type": "code",
   "execution_count": null,
   "id": "e33e9766",
   "metadata": {},
   "outputs": [],
   "source": [
    "input = pd.read_csv('PCA IMPUTATION/imputed_pca_mode_df.csv')\n",
    "target = pd.read_csv('DATA/target_COMPLETE_DATA.csv')\n",
    "\n",
    "scaled_input, y = scale_data(input, target)\n",
    "\n",
    "#X_train, X_test, y_train, y_test = train_test_split(scaled_input, y, test_size=0.2, random_state=42)"
   ]
  },
  {
   "cell_type": "markdown",
   "id": "51d27b52",
   "metadata": {},
   "source": [
    "##### Random Forest"
   ]
  },
  {
   "cell_type": "code",
   "execution_count": null,
   "id": "4619fdc8",
   "metadata": {},
   "outputs": [],
   "source": [
    "r2_score_rf = random_forest(scaled_input, y, imp='PCA Mode')"
   ]
  },
  {
   "cell_type": "code",
   "execution_count": null,
   "id": "bf136fea",
   "metadata": {},
   "outputs": [
    {
     "name": "stdout",
     "output_type": "stream",
     "text": [
      "\n",
      "Random Forest 10-Fold CV R² Score PCA Mode: 0.713 ± 0.037\n"
     ]
    }
   ],
   "source": [
    "print(r2_score_rf)"
   ]
  },
  {
   "cell_type": "markdown",
   "id": "3a75e429",
   "metadata": {},
   "source": [
    "##### Gradient Boosting"
   ]
  },
  {
   "cell_type": "code",
   "execution_count": null,
   "id": "c09c841d",
   "metadata": {},
   "outputs": [],
   "source": [
    "r2_score_grad = gradient_boosting(scaled_input, y, imp='PCA Mode')"
   ]
  },
  {
   "cell_type": "code",
   "execution_count": null,
   "id": "1fbc0668",
   "metadata": {},
   "outputs": [
    {
     "name": "stdout",
     "output_type": "stream",
     "text": [
      "\n",
      "Gradient Boosting 10-Fold CV R² Score PCA Mode: 0.722 ± 0.035\n"
     ]
    }
   ],
   "source": [
    "print(r2_score_grad)"
   ]
  },
  {
   "cell_type": "markdown",
   "id": "43f64a9e",
   "metadata": {},
   "source": [
    "##### Extreme Gradient Boosting"
   ]
  },
  {
   "cell_type": "code",
   "execution_count": null,
   "id": "5522ca9c",
   "metadata": {},
   "outputs": [],
   "source": [
    "r2_score_xgb = xgb_regressor(scaled_input, y, imp='PCA Mode')"
   ]
  },
  {
   "cell_type": "code",
   "execution_count": null,
   "id": "b28edf75",
   "metadata": {},
   "outputs": [
    {
     "name": "stdout",
     "output_type": "stream",
     "text": [
      "\n",
      "XGB Regressor 10-Fold CV R² Score PCA Mode: 0.717 ± 0.031\n"
     ]
    }
   ],
   "source": [
    "print(r2_score_xgb)"
   ]
  },
  {
   "cell_type": "markdown",
   "id": "ead9e7ee",
   "metadata": {},
   "source": [
    "##### SVR"
   ]
  },
  {
   "cell_type": "code",
   "execution_count": null,
   "id": "dddb51bb",
   "metadata": {},
   "outputs": [],
   "source": [
    "r2_score_svr = svr(scaled_input, y, imp='Latent PCA Mode')"
   ]
  },
  {
   "cell_type": "code",
   "execution_count": null,
   "id": "00915d7e",
   "metadata": {},
   "outputs": [
    {
     "name": "stdout",
     "output_type": "stream",
     "text": [
      "SVR 10-Fold CV R² Score PCA Mode: 0.732 ± 0.035\n"
     ]
    }
   ],
   "source": [
    "print(r2_score_svr)"
   ]
  },
  {
   "cell_type": "markdown",
   "id": "fe6e1dff",
   "metadata": {},
   "source": [
    "##### Ridge Regression"
   ]
  },
  {
   "cell_type": "code",
   "execution_count": null,
   "id": "4baa9481",
   "metadata": {},
   "outputs": [],
   "source": [
    "r2_score_ridge = ridge_regression(scaled_input, y, imp='Latent PCA Mode')"
   ]
  },
  {
   "cell_type": "code",
   "execution_count": null,
   "id": "e998439f",
   "metadata": {},
   "outputs": [
    {
     "name": "stdout",
     "output_type": "stream",
     "text": [
      "Ridge Regression 10-Fold CV R² Score PCA Mode: 0.732 ± 0.036\n"
     ]
    }
   ],
   "source": [
    "print(r2_score_ridge)"
   ]
  },
  {
   "cell_type": "markdown",
   "id": "6c6aac77",
   "metadata": {},
   "source": [
    "##### MLP"
   ]
  },
  {
   "cell_type": "code",
   "execution_count": null,
   "id": "7e56fdcc",
   "metadata": {},
   "outputs": [],
   "source": [
    "r2_score_mlp = mlp(scaled_input, y, imp='Latent PCA Mode')"
   ]
  },
  {
   "cell_type": "code",
   "execution_count": null,
   "id": "fa0366fe",
   "metadata": {},
   "outputs": [
    {
     "name": "stdout",
     "output_type": "stream",
     "text": [
      "MLP 10-Fold CV R² Score PCA Mode: 0.725 ± 0.037\n"
     ]
    }
   ],
   "source": [
    "print(r2_score_mlp)"
   ]
  },
  {
   "cell_type": "markdown",
   "id": "7afa031d",
   "metadata": {},
   "source": [
    "##### GP Regression"
   ]
  },
  {
   "cell_type": "code",
   "execution_count": null,
   "id": "eb187a8c",
   "metadata": {},
   "outputs": [],
   "source": [
    "r2_score_gpr = gp_regressor(scaled_input, y, imp='Latent PCA Mode')"
   ]
  },
  {
   "cell_type": "code",
   "execution_count": null,
   "id": "db7eedee",
   "metadata": {},
   "outputs": [
    {
     "name": "stdout",
     "output_type": "stream",
     "text": [
      "GPR 10-Fold CV R² Score PCA Mode: 0.731 ± 0.037\n"
     ]
    }
   ],
   "source": [
    "print(r2_score_gpr)"
   ]
  },
  {
   "cell_type": "markdown",
   "id": "ce1e8a42",
   "metadata": {},
   "source": [
    "### **2.4** KNN Pre-Imputation"
   ]
  },
  {
   "cell_type": "code",
   "execution_count": null,
   "id": "a646dc0e",
   "metadata": {},
   "outputs": [],
   "source": [
    "input = pd.read_csv('PCA IMPUTATION/imputed_pca_knn_df.csv')\n",
    "target = pd.read_csv('DATA/target_COMPLETE_DATA.csv')\n",
    "\n",
    "scaled_input, y = scale_data(input, target)"
   ]
  },
  {
   "cell_type": "markdown",
   "id": "d5558a4f",
   "metadata": {},
   "source": [
    "##### Random Forest"
   ]
  },
  {
   "cell_type": "code",
   "execution_count": null,
   "id": "628834c4",
   "metadata": {},
   "outputs": [],
   "source": [
    "r2_score_rf = random_forest(scaled_input, y, imp='PCA KNN')"
   ]
  },
  {
   "cell_type": "code",
   "execution_count": null,
   "id": "4f71cea6",
   "metadata": {},
   "outputs": [
    {
     "name": "stdout",
     "output_type": "stream",
     "text": [
      "\n",
      "Random Forest 10-Fold CV R² Score PCA KNN: 0.710 ± 0.040\n"
     ]
    }
   ],
   "source": [
    "print(r2_score_rf)"
   ]
  },
  {
   "cell_type": "markdown",
   "id": "f53c11b4",
   "metadata": {},
   "source": [
    "##### Gradient Boosting"
   ]
  },
  {
   "cell_type": "code",
   "execution_count": null,
   "id": "170f6733",
   "metadata": {},
   "outputs": [],
   "source": [
    "r2_score_grad = gradient_boosting(scaled_input, y, imp='PCA KNN')"
   ]
  },
  {
   "cell_type": "code",
   "execution_count": null,
   "id": "4c7c6cba",
   "metadata": {},
   "outputs": [
    {
     "name": "stdout",
     "output_type": "stream",
     "text": [
      "\n",
      "Gradient Boosting 10-Fold CV R² Score PCA KNN: 0.720 ± 0.035\n"
     ]
    }
   ],
   "source": [
    "print(r2_score_grad)"
   ]
  },
  {
   "cell_type": "markdown",
   "id": "ee444a18",
   "metadata": {},
   "source": [
    "##### Extreme Gradient Boosting"
   ]
  },
  {
   "cell_type": "code",
   "execution_count": null,
   "id": "1fbea04f",
   "metadata": {},
   "outputs": [],
   "source": [
    "r2_score_xgb = xgb_regressor(scaled_input, y, imp='PCA KNN')"
   ]
  },
  {
   "cell_type": "code",
   "execution_count": null,
   "id": "af1cb574",
   "metadata": {},
   "outputs": [
    {
     "name": "stdout",
     "output_type": "stream",
     "text": [
      "\n",
      "XGB Regressor 10-Fold CV R² Score PCA KNN: 0.716 ± 0.034\n"
     ]
    }
   ],
   "source": [
    "print(r2_score_xgb)"
   ]
  },
  {
   "cell_type": "markdown",
   "id": "29ad8d14",
   "metadata": {},
   "source": [
    "##### SVR"
   ]
  },
  {
   "cell_type": "code",
   "execution_count": null,
   "id": "d22ba9cb",
   "metadata": {},
   "outputs": [],
   "source": [
    "r2_score_svr = svr(scaled_input, y, imp='PCA KNN')"
   ]
  },
  {
   "cell_type": "code",
   "execution_count": null,
   "id": "fe01a509",
   "metadata": {},
   "outputs": [
    {
     "name": "stdout",
     "output_type": "stream",
     "text": [
      "\n",
      "SVR 10-Fold CV R² Score PCA KNN: 0.730 ± 0.035\n"
     ]
    }
   ],
   "source": [
    "print(r2_score_svr)"
   ]
  },
  {
   "cell_type": "markdown",
   "id": "564367b0",
   "metadata": {},
   "source": [
    "##### Ridge Regression"
   ]
  },
  {
   "cell_type": "code",
   "execution_count": null,
   "id": "c27bfdd2",
   "metadata": {},
   "outputs": [],
   "source": [
    "r2_score_ridge = ridge_regression(scaled_input, y, imp='PCA KNN')"
   ]
  },
  {
   "cell_type": "code",
   "execution_count": null,
   "id": "fd6074a0",
   "metadata": {},
   "outputs": [
    {
     "name": "stdout",
     "output_type": "stream",
     "text": [
      "\n",
      "Ridge Regression 10-Fold CV R² Score PCA KNN: 0.730 ± 0.035\n"
     ]
    }
   ],
   "source": [
    "print(r2_score_ridge)"
   ]
  },
  {
   "cell_type": "markdown",
   "id": "33d7cccb",
   "metadata": {},
   "source": [
    "##### MLP"
   ]
  },
  {
   "cell_type": "code",
   "execution_count": null,
   "id": "946b9aa2",
   "metadata": {},
   "outputs": [],
   "source": [
    "r2_score_mlp = mlp(scaled_input, y, imp='PCA KNN')"
   ]
  },
  {
   "cell_type": "code",
   "execution_count": null,
   "id": "ee4ca242",
   "metadata": {},
   "outputs": [
    {
     "name": "stdout",
     "output_type": "stream",
     "text": [
      "\n",
      "MLP 10-Fold CV R² Score PCA KNN: 0.729 ± 0.038\n"
     ]
    }
   ],
   "source": [
    "print(r2_score_mlp)"
   ]
  },
  {
   "cell_type": "markdown",
   "id": "f675df92",
   "metadata": {},
   "source": [
    "##### GP Regression"
   ]
  },
  {
   "cell_type": "code",
   "execution_count": null,
   "id": "fc05cc76",
   "metadata": {},
   "outputs": [],
   "source": [
    "r2_score_gpr = gp_regressor(scaled_input, y, imp='PCA KNN')"
   ]
  },
  {
   "cell_type": "code",
   "execution_count": null,
   "id": "1281a2ec",
   "metadata": {},
   "outputs": [
    {
     "name": "stdout",
     "output_type": "stream",
     "text": [
      "\n",
      "GPR 10-Fold CV R² Score PCA KNN: 0.730 ± 0.036\n"
     ]
    }
   ],
   "source": [
    "print(r2_score_gpr)"
   ]
  },
  {
   "cell_type": "markdown",
   "id": "53421483",
   "metadata": {},
   "source": [
    "### **2.5** Iterative Pre-Imputation"
   ]
  },
  {
   "cell_type": "code",
   "execution_count": null,
   "id": "78eaadea",
   "metadata": {},
   "outputs": [],
   "source": [
    "input = pd.read_csv('PCA IMPUTATION/imputed_pca_iter_df.csv')\n",
    "target = pd.read_csv('DATA/target_COMPLETE_DATA.csv')\n",
    "\n",
    "scaled_input, y = scale_data(input, target)"
   ]
  },
  {
   "cell_type": "markdown",
   "id": "8f0d82d5",
   "metadata": {},
   "source": [
    "##### Random Forest"
   ]
  },
  {
   "cell_type": "code",
   "execution_count": null,
   "id": "cbde85da",
   "metadata": {},
   "outputs": [],
   "source": [
    "r2_score_rf = random_forest(scaled_input, y, imp='PCA Iterative')"
   ]
  },
  {
   "cell_type": "code",
   "execution_count": null,
   "id": "43387fc0",
   "metadata": {},
   "outputs": [
    {
     "name": "stdout",
     "output_type": "stream",
     "text": [
      "\n",
      "Random Forest 10-Fold CV R² Score PCA Iterative: 0.712 ± 0.035\n"
     ]
    }
   ],
   "source": [
    "print(r2_score_rf)"
   ]
  },
  {
   "cell_type": "markdown",
   "id": "69c511ae",
   "metadata": {},
   "source": [
    "##### Gradient Boosting"
   ]
  },
  {
   "cell_type": "code",
   "execution_count": null,
   "id": "dbf189fb",
   "metadata": {},
   "outputs": [],
   "source": [
    "r2_score_grad = gradient_boosting(scaled_input, y, imp='PCA Iterative')"
   ]
  },
  {
   "cell_type": "code",
   "execution_count": null,
   "id": "bdff9561",
   "metadata": {},
   "outputs": [
    {
     "name": "stdout",
     "output_type": "stream",
     "text": [
      "\n",
      "Gradient Boosting 10-Fold CV R² Score PCA Iterative: 0.721 ± 0.035\n"
     ]
    }
   ],
   "source": [
    "print(r2_score_grad)"
   ]
  },
  {
   "cell_type": "markdown",
   "id": "3c02b787",
   "metadata": {},
   "source": [
    "##### Extreme Gradient Boosting"
   ]
  },
  {
   "cell_type": "code",
   "execution_count": null,
   "id": "c99f812a",
   "metadata": {},
   "outputs": [],
   "source": [
    "r2_score_xgb = xgb_regressor(scaled_input, y, imp='PCA Iterative')"
   ]
  },
  {
   "cell_type": "code",
   "execution_count": null,
   "id": "9d48d4e5",
   "metadata": {},
   "outputs": [
    {
     "name": "stdout",
     "output_type": "stream",
     "text": [
      "\n",
      "XGB Regressor 10-Fold CV R² Score PCA Iterative: 0.716 ± 0.033\n"
     ]
    }
   ],
   "source": [
    "print(r2_score_xgb)"
   ]
  },
  {
   "cell_type": "markdown",
   "id": "0ab92f1c",
   "metadata": {},
   "source": [
    "##### SVR"
   ]
  },
  {
   "cell_type": "code",
   "execution_count": null,
   "id": "0e659842",
   "metadata": {},
   "outputs": [],
   "source": [
    "r2_score_svr = svr(scaled_input, y, imp='PCA Iterative')"
   ]
  },
  {
   "cell_type": "code",
   "execution_count": null,
   "id": "7ef26c53",
   "metadata": {},
   "outputs": [
    {
     "name": "stdout",
     "output_type": "stream",
     "text": [
      "\n",
      "SVR 10-Fold CV R² Score PCA Iterative: 0.729 ± 0.034\n"
     ]
    }
   ],
   "source": [
    "print(r2_score_svr)"
   ]
  },
  {
   "cell_type": "markdown",
   "id": "67f86e59",
   "metadata": {},
   "source": [
    "##### Ridge Regression"
   ]
  },
  {
   "cell_type": "code",
   "execution_count": null,
   "id": "546f2758",
   "metadata": {},
   "outputs": [],
   "source": [
    "r2_score_ridge = ridge_regression(scaled_input, y, imp='PCA Iterative')"
   ]
  },
  {
   "cell_type": "code",
   "execution_count": null,
   "id": "88bf175e",
   "metadata": {},
   "outputs": [
    {
     "name": "stdout",
     "output_type": "stream",
     "text": [
      "\n",
      "Ridge Regression 10-Fold CV R² Score PCA Iterative: 0.729 ± 0.035\n"
     ]
    }
   ],
   "source": [
    "print(r2_score_ridge)"
   ]
  },
  {
   "cell_type": "markdown",
   "id": "991ce245",
   "metadata": {},
   "source": [
    "##### MLP"
   ]
  },
  {
   "cell_type": "code",
   "execution_count": null,
   "id": "757b07ff",
   "metadata": {},
   "outputs": [],
   "source": [
    "r2_score_mlp = mlp(scaled_input, y, imp='PCA Iterative')"
   ]
  },
  {
   "cell_type": "code",
   "execution_count": null,
   "id": "1062ee54",
   "metadata": {},
   "outputs": [
    {
     "name": "stdout",
     "output_type": "stream",
     "text": [
      "\n",
      "MLP 10-Fold CV R² Score PCA Iterative: 0.730 ± 0.039\n"
     ]
    }
   ],
   "source": [
    "print(r2_score_mlp)"
   ]
  },
  {
   "cell_type": "markdown",
   "id": "4e4407b3",
   "metadata": {},
   "source": [
    "##### GP Regression"
   ]
  },
  {
   "cell_type": "code",
   "execution_count": null,
   "id": "f3f73dab",
   "metadata": {},
   "outputs": [],
   "source": [
    "r2_score_gpr = gp_regressor(scaled_input, y, imp='PCA Iterative')"
   ]
  },
  {
   "cell_type": "code",
   "execution_count": null,
   "id": "8d74e5ab",
   "metadata": {},
   "outputs": [
    {
     "name": "stdout",
     "output_type": "stream",
     "text": [
      "\n",
      "GPR 10-Fold CV R² Score PCA Iterative: 0.731 ± 0.037\n"
     ]
    }
   ],
   "source": [
    "print(r2_score_gpr)"
   ]
  },
  {
   "cell_type": "markdown",
   "id": "0a5d495d",
   "metadata": {},
   "source": [
    "### **2.6** MICE Pre-Imputation"
   ]
  },
  {
   "cell_type": "code",
   "execution_count": null,
   "id": "c74dc48a",
   "metadata": {},
   "outputs": [],
   "source": [
    "input = pd.read_csv('PCA IMPUTATION/imputed_pca_mice_df.csv')\n",
    "target = pd.read_csv('DATA/target_COMPLETE_DATA.csv')\n",
    "\n",
    "scaled_input, y = scale_data(input, target)"
   ]
  },
  {
   "cell_type": "markdown",
   "id": "bfa3169a",
   "metadata": {},
   "source": [
    "##### Random Forest"
   ]
  },
  {
   "cell_type": "code",
   "execution_count": null,
   "id": "b3988360",
   "metadata": {},
   "outputs": [],
   "source": [
    "r2_score_rf = random_forest(scaled_input, y, imp='PCA MICE')"
   ]
  },
  {
   "cell_type": "code",
   "execution_count": null,
   "id": "5c629886",
   "metadata": {},
   "outputs": [
    {
     "name": "stdout",
     "output_type": "stream",
     "text": [
      "\n",
      "Random Forest 10-Fold CV R² Score PCA MICE: 0.714 ± 0.040\n"
     ]
    }
   ],
   "source": [
    "print(r2_score_rf)"
   ]
  },
  {
   "cell_type": "markdown",
   "id": "9d248265",
   "metadata": {},
   "source": [
    "##### Gradient Boosting"
   ]
  },
  {
   "cell_type": "code",
   "execution_count": null,
   "id": "f1f41777",
   "metadata": {},
   "outputs": [],
   "source": [
    "r2_score_grad = gradient_boosting(scaled_input, y, imp='PCA MICE')"
   ]
  },
  {
   "cell_type": "code",
   "execution_count": null,
   "id": "0c3772a6",
   "metadata": {},
   "outputs": [
    {
     "name": "stdout",
     "output_type": "stream",
     "text": [
      "\n",
      "Gradient Boosting 10-Fold CV R² Score PCA MICE: 0.719 ± 0.035\n"
     ]
    }
   ],
   "source": [
    "print(r2_score_grad)"
   ]
  },
  {
   "cell_type": "markdown",
   "id": "f3c2ad56",
   "metadata": {},
   "source": [
    "##### Extreme Gradient Boosting"
   ]
  },
  {
   "cell_type": "code",
   "execution_count": null,
   "id": "acd56b3a",
   "metadata": {},
   "outputs": [],
   "source": [
    "r2_score_xgb = xgb_regressor(scaled_input, y, imp='PCA MICE')"
   ]
  },
  {
   "cell_type": "code",
   "execution_count": null,
   "id": "28cc5fd2",
   "metadata": {},
   "outputs": [
    {
     "name": "stdout",
     "output_type": "stream",
     "text": [
      "\n",
      "XGB Regressor 10-Fold CV R² Score PCA MICE: 0.717 ± 0.034\n"
     ]
    }
   ],
   "source": [
    "print(r2_score_xgb)"
   ]
  },
  {
   "cell_type": "markdown",
   "id": "5529f19a",
   "metadata": {},
   "source": [
    "##### SVR"
   ]
  },
  {
   "cell_type": "code",
   "execution_count": null,
   "id": "308d92fd",
   "metadata": {},
   "outputs": [],
   "source": [
    "r2_score_svr = svr(scaled_input, y, imp='PCA MICE')"
   ]
  },
  {
   "cell_type": "code",
   "execution_count": null,
   "id": "73e28a96",
   "metadata": {},
   "outputs": [
    {
     "name": "stdout",
     "output_type": "stream",
     "text": [
      "\n",
      "SVR 10-Fold CV R² Score PCA MICE: 0.730 ± 0.035\n"
     ]
    }
   ],
   "source": [
    "print(r2_score_svr)"
   ]
  },
  {
   "cell_type": "markdown",
   "id": "bf5f8152",
   "metadata": {},
   "source": [
    "##### Ridge Regression"
   ]
  },
  {
   "cell_type": "code",
   "execution_count": null,
   "id": "991d5c43",
   "metadata": {},
   "outputs": [],
   "source": [
    "r2_score_ridge = ridge_regression(scaled_input, y, imp='PCA MICE')"
   ]
  },
  {
   "cell_type": "code",
   "execution_count": null,
   "id": "eadcba0a",
   "metadata": {},
   "outputs": [
    {
     "name": "stdout",
     "output_type": "stream",
     "text": [
      "\n",
      "Ridge Regression 10-Fold CV R² Score PCA MICE: 0.730 ± 0.035\n"
     ]
    }
   ],
   "source": [
    "print(r2_score_ridge)"
   ]
  },
  {
   "cell_type": "markdown",
   "id": "149043fb",
   "metadata": {},
   "source": [
    "##### MLP"
   ]
  },
  {
   "cell_type": "code",
   "execution_count": null,
   "id": "b946d8c5",
   "metadata": {},
   "outputs": [],
   "source": [
    "r2_score_mlp = mlp(scaled_input, y, imp='PCA MICE')"
   ]
  },
  {
   "cell_type": "code",
   "execution_count": null,
   "id": "fc7d673a",
   "metadata": {},
   "outputs": [
    {
     "name": "stdout",
     "output_type": "stream",
     "text": [
      "\n",
      "MLP 10-Fold CV R² Score PCA MICE: 0.729 ± 0.038\n"
     ]
    }
   ],
   "source": [
    "print(r2_score_mlp)"
   ]
  },
  {
   "cell_type": "markdown",
   "id": "82706c30",
   "metadata": {},
   "source": [
    "##### GP Regression"
   ]
  },
  {
   "cell_type": "code",
   "execution_count": null,
   "id": "45b685c2",
   "metadata": {},
   "outputs": [],
   "source": [
    "r2_score_gpr = gp_regressor(scaled_input, y, imp='PCA MICE')"
   ]
  },
  {
   "cell_type": "code",
   "execution_count": null,
   "id": "45ffd0b8",
   "metadata": {},
   "outputs": [
    {
     "name": "stdout",
     "output_type": "stream",
     "text": [
      "\n",
      "GPR 10-Fold CV R² Score PCA MICE: 0.730 ± 0.037\n"
     ]
    }
   ],
   "source": [
    "print(r2_score_gpr)"
   ]
  },
  {
   "cell_type": "markdown",
   "id": "4a341dbe",
   "metadata": {},
   "source": [
    "## **3.** PCA Latent Spaces"
   ]
  },
  {
   "cell_type": "markdown",
   "id": "959a20e4",
   "metadata": {},
   "source": [
    "### **3.1** Mean Pre-Imputation"
   ]
  },
  {
   "cell_type": "code",
   "execution_count": null,
   "id": "600f584c",
   "metadata": {},
   "outputs": [],
   "source": [
    "input = pd.read_csv('PCA IMPUTATION/imputed_pca_latent_mean_df.csv')\n",
    "target = pd.read_csv('DATA/target_COMPLETE_DATA.csv')\n",
    "\n",
    "all_data = pd.concat([input, target], axis=1)\n",
    "all_data = all_data.dropna(subset=['ADAS13'])\n",
    "\n",
    "# Divide again in input and target\n",
    "input = all_data.drop(columns=['ADAS13'])\n",
    "target = all_data['ADAS13']\n",
    "\n",
    "# Scale the data\n",
    "scaler = StandardScaler()\n",
    "input_scaled = scaler.fit_transform(input)\n",
    "\n",
    "scaled_input = pd.DataFrame(input_scaled, columns=input.columns)\n",
    "y = target"
   ]
  },
  {
   "cell_type": "markdown",
   "id": "ee8d6a8c",
   "metadata": {},
   "source": [
    "##### Random Forest"
   ]
  },
  {
   "cell_type": "code",
   "execution_count": null,
   "id": "c2555b1a",
   "metadata": {},
   "outputs": [],
   "source": [
    "r2_score_rf = random_forest(scaled_input, y, imp='Latent PCA Mean')"
   ]
  },
  {
   "cell_type": "code",
   "execution_count": null,
   "id": "f7bd01ed",
   "metadata": {},
   "outputs": [
    {
     "name": "stdout",
     "output_type": "stream",
     "text": [
      "\n",
      "Random Forest 10-Fold CV R² Score Latent PCA Mean: 0.668 ± 0.045\n"
     ]
    }
   ],
   "source": [
    "print(r2_score_rf)"
   ]
  },
  {
   "cell_type": "markdown",
   "id": "fa4266e9",
   "metadata": {},
   "source": [
    "##### Gradient Boosting"
   ]
  },
  {
   "cell_type": "code",
   "execution_count": null,
   "id": "1aac013a",
   "metadata": {},
   "outputs": [],
   "source": [
    "r2_score_grad = gradient_boosting(scaled_input, y, imp='Latent PCA Mean')"
   ]
  },
  {
   "cell_type": "code",
   "execution_count": null,
   "id": "8f25b817",
   "metadata": {},
   "outputs": [
    {
     "name": "stdout",
     "output_type": "stream",
     "text": [
      "\n",
      "Gradient Boosting 10-Fold CV R² Score Latent PCA Mean: 0.676 ± 0.040\n"
     ]
    }
   ],
   "source": [
    "print(r2_score_grad)"
   ]
  },
  {
   "cell_type": "markdown",
   "id": "2a3c9efb",
   "metadata": {},
   "source": [
    "##### Extreme Gradient Boosting"
   ]
  },
  {
   "cell_type": "code",
   "execution_count": null,
   "id": "d3b2bb92",
   "metadata": {},
   "outputs": [],
   "source": [
    "r2_score_xgb = xgb_regressor(scaled_input, y, imp='Latent PCA Mean')"
   ]
  },
  {
   "cell_type": "code",
   "execution_count": null,
   "id": "6ab33b84",
   "metadata": {},
   "outputs": [
    {
     "name": "stdout",
     "output_type": "stream",
     "text": [
      "\n",
      "XGB Regressor 10-Fold CV R² Score Latent PCA Mean: 0.695 ± 0.041\n"
     ]
    }
   ],
   "source": [
    "print(r2_score_xgb)"
   ]
  },
  {
   "cell_type": "markdown",
   "id": "021d6eaa",
   "metadata": {},
   "source": [
    "##### SVR"
   ]
  },
  {
   "cell_type": "code",
   "execution_count": null,
   "id": "96bb5f44",
   "metadata": {},
   "outputs": [],
   "source": [
    "r2_score_svr = svr(scaled_input, y, imp='Latent PCA Mean')"
   ]
  },
  {
   "cell_type": "code",
   "execution_count": null,
   "id": "e89a5d7f",
   "metadata": {},
   "outputs": [
    {
     "name": "stdout",
     "output_type": "stream",
     "text": [
      "\n",
      "SVR 10-Fold CV R² Score Latent PCA Mean: 0.711 ± 0.035\n"
     ]
    }
   ],
   "source": [
    "print(r2_score_svr)"
   ]
  },
  {
   "cell_type": "markdown",
   "id": "6d98fc49",
   "metadata": {},
   "source": [
    "##### Ridge Regression"
   ]
  },
  {
   "cell_type": "code",
   "execution_count": null,
   "id": "93c2a685",
   "metadata": {},
   "outputs": [],
   "source": [
    "r2_score_ridge = ridge_regression(scaled_input, y, imp='Latent PCA Mean')"
   ]
  },
  {
   "cell_type": "code",
   "execution_count": null,
   "id": "3592d48e",
   "metadata": {},
   "outputs": [
    {
     "name": "stdout",
     "output_type": "stream",
     "text": [
      "\n",
      "Ridge Regression 10-Fold CV R² Score Latent PCA Mean: 0.714 ± 0.036\n"
     ]
    }
   ],
   "source": [
    "print(r2_score_ridge)"
   ]
  },
  {
   "cell_type": "markdown",
   "id": "401412af",
   "metadata": {},
   "source": [
    "##### MLP"
   ]
  },
  {
   "cell_type": "code",
   "execution_count": null,
   "id": "3def5010",
   "metadata": {},
   "outputs": [],
   "source": [
    "r2_score_mlp = mlp(scaled_input, y, imp='Latent PCA Mean')"
   ]
  },
  {
   "cell_type": "code",
   "execution_count": null,
   "id": "0ff43ea0",
   "metadata": {},
   "outputs": [
    {
     "name": "stdout",
     "output_type": "stream",
     "text": [
      "\n",
      "MLP 10-Fold CV R² Score Latent PCA Mean: 0.716 ± 0.037\n"
     ]
    }
   ],
   "source": [
    "print(r2_score_mlp)"
   ]
  },
  {
   "cell_type": "markdown",
   "id": "0fa1737f",
   "metadata": {},
   "source": [
    "##### GP Regression"
   ]
  },
  {
   "cell_type": "code",
   "execution_count": null,
   "id": "234e132d",
   "metadata": {},
   "outputs": [],
   "source": [
    "r2_score_gpr = gp_regressor(scaled_input, y, imp='Latent PCA Mean')"
   ]
  },
  {
   "cell_type": "code",
   "execution_count": null,
   "id": "0455e520",
   "metadata": {},
   "outputs": [
    {
     "name": "stdout",
     "output_type": "stream",
     "text": [
      "\n",
      "GPR 10-Fold CV R² Score Latent PCA Mean: 0.714 ± 0.037\n"
     ]
    }
   ],
   "source": [
    "print(r2_score_gpr)"
   ]
  },
  {
   "cell_type": "markdown",
   "id": "f1573a6d",
   "metadata": {},
   "source": [
    "### **3.2** Median Pre-Imputation"
   ]
  },
  {
   "cell_type": "code",
   "execution_count": null,
   "id": "62e836cd",
   "metadata": {},
   "outputs": [],
   "source": [
    "input = pd.read_csv('PCA IMPUTATION/imputed_pca_latent_median_df.csv')\n",
    "target = pd.read_csv('DATA/target_COMPLETE_DATA.csv')\n",
    "\n",
    "all_data = pd.concat([input, target], axis=1)\n",
    "all_data = all_data.dropna(subset=['ADAS13'])\n",
    "\n",
    "# Divide again in input and target\n",
    "input = all_data.drop(columns=['ADAS13'])\n",
    "target = all_data['ADAS13']\n",
    "\n",
    "# Scale the data\n",
    "scaler = StandardScaler()\n",
    "input_scaled = scaler.fit_transform(input)\n",
    "\n",
    "scaled_input = pd.DataFrame(input_scaled, columns=input.columns)\n",
    "y = target"
   ]
  },
  {
   "cell_type": "markdown",
   "id": "3c2e4406",
   "metadata": {},
   "source": [
    "##### Random Forest"
   ]
  },
  {
   "cell_type": "code",
   "execution_count": null,
   "id": "44bd3b1e",
   "metadata": {},
   "outputs": [],
   "source": [
    "r2_score_rf = random_forest(scaled_input, y, imp='Latent PCA Median')"
   ]
  },
  {
   "cell_type": "code",
   "execution_count": null,
   "id": "448fb579",
   "metadata": {},
   "outputs": [
    {
     "name": "stdout",
     "output_type": "stream",
     "text": [
      "\n",
      "Random Forest 10-Fold CV R² Score Latent PCA Median: 0.662 ± 0.044\n"
     ]
    }
   ],
   "source": [
    "print(r2_score_rf)"
   ]
  },
  {
   "cell_type": "markdown",
   "id": "4c494421",
   "metadata": {},
   "source": [
    "##### Gradient Boosting"
   ]
  },
  {
   "cell_type": "code",
   "execution_count": null,
   "id": "b8225492",
   "metadata": {},
   "outputs": [],
   "source": [
    "r2_score_grad = gradient_boosting(scaled_input, y, imp='Latent PCA Median')"
   ]
  },
  {
   "cell_type": "code",
   "execution_count": null,
   "id": "9f7f97e0",
   "metadata": {},
   "outputs": [
    {
     "name": "stdout",
     "output_type": "stream",
     "text": [
      "\n",
      "Gradient Boosting 10-Fold CV R² Score Latent PCA Median: 0.670 ± 0.042\n"
     ]
    }
   ],
   "source": [
    "print(r2_score_grad)"
   ]
  },
  {
   "cell_type": "markdown",
   "id": "81fc8e91",
   "metadata": {},
   "source": [
    "##### Extreme Gradient Boosting"
   ]
  },
  {
   "cell_type": "code",
   "execution_count": null,
   "id": "3c03c07e",
   "metadata": {},
   "outputs": [],
   "source": [
    "r2_score_xgb = xgb_regressor(scaled_input, y, imp='Latent PCA Median')"
   ]
  },
  {
   "cell_type": "code",
   "execution_count": null,
   "id": "20372523",
   "metadata": {},
   "outputs": [
    {
     "name": "stdout",
     "output_type": "stream",
     "text": [
      "\n",
      "XGB Regressor 10-Fold CV R² Score Latent PCA Median: 0.689 ± 0.041\n"
     ]
    }
   ],
   "source": [
    "print(r2_score_xgb)"
   ]
  },
  {
   "cell_type": "markdown",
   "id": "62dc7318",
   "metadata": {},
   "source": [
    "##### SVR"
   ]
  },
  {
   "cell_type": "code",
   "execution_count": null,
   "id": "40105884",
   "metadata": {},
   "outputs": [],
   "source": [
    "r2_score_svr = svr(scaled_input, y, imp='Latent PCA Median')"
   ]
  },
  {
   "cell_type": "code",
   "execution_count": null,
   "id": "f0723752",
   "metadata": {},
   "outputs": [
    {
     "name": "stdout",
     "output_type": "stream",
     "text": [
      "\n",
      "SVR 10-Fold CV R² Score Latent PCA Median: 0.712 ± 0.035\n"
     ]
    }
   ],
   "source": [
    "print(r2_score_svr)"
   ]
  },
  {
   "cell_type": "markdown",
   "id": "707eefde",
   "metadata": {},
   "source": [
    "##### Ridge Regression"
   ]
  },
  {
   "cell_type": "code",
   "execution_count": null,
   "id": "d6bd5b44",
   "metadata": {},
   "outputs": [],
   "source": [
    "r2_score_ridge = ridge_regression(scaled_input, y, imp='Latent PCA Median')"
   ]
  },
  {
   "cell_type": "code",
   "execution_count": null,
   "id": "d0a6d6bf",
   "metadata": {},
   "outputs": [
    {
     "name": "stdout",
     "output_type": "stream",
     "text": [
      "\n",
      "Ridge Regression 10-Fold CV R² Score Latent PCA Median: 0.714 ± 0.035\n"
     ]
    }
   ],
   "source": [
    "print(r2_score_ridge)"
   ]
  },
  {
   "cell_type": "markdown",
   "id": "db46fdce",
   "metadata": {},
   "source": [
    "##### MLP"
   ]
  },
  {
   "cell_type": "code",
   "execution_count": null,
   "id": "6e9d3cbb",
   "metadata": {},
   "outputs": [],
   "source": [
    "r2_score_mlp = mlp(scaled_input, y, imp='Latent PCA Median')"
   ]
  },
  {
   "cell_type": "code",
   "execution_count": null,
   "id": "d290f47d",
   "metadata": {},
   "outputs": [
    {
     "name": "stdout",
     "output_type": "stream",
     "text": [
      "\n",
      "MLP 10-Fold CV R² Score Latent PCA Median: 0.713 ± 0.035\n"
     ]
    }
   ],
   "source": [
    "print(r2_score_mlp)"
   ]
  },
  {
   "cell_type": "markdown",
   "id": "0ff6d315",
   "metadata": {},
   "source": [
    "##### GP Regression"
   ]
  },
  {
   "cell_type": "code",
   "execution_count": null,
   "id": "bee09dd4",
   "metadata": {},
   "outputs": [],
   "source": [
    "r2_score_gpr = gp_regressor(scaled_input, y, imp='Latent PCA Median')"
   ]
  },
  {
   "cell_type": "code",
   "execution_count": null,
   "id": "b9f94524",
   "metadata": {},
   "outputs": [
    {
     "name": "stdout",
     "output_type": "stream",
     "text": [
      "\n",
      "GPR 10-Fold CV R² Score Latent PCA Median: 0.714 ± 0.037\n"
     ]
    }
   ],
   "source": [
    "print(r2_score_gpr)"
   ]
  },
  {
   "cell_type": "markdown",
   "id": "d8cda227",
   "metadata": {},
   "source": [
    "### **3.3** Mode Pre-Imputation"
   ]
  },
  {
   "cell_type": "code",
   "execution_count": null,
   "id": "89d1bdbb",
   "metadata": {},
   "outputs": [],
   "source": [
    "input = pd.read_csv('PCA IMPUTATION/imputed_pca_latent_mode_df.csv')\n",
    "target = pd.read_csv('DATA/target_COMPLETE_DATA.csv')\n",
    "\n",
    "all_data = pd.concat([input, target], axis=1)\n",
    "all_data = all_data.dropna(subset=['ADAS13'])\n",
    "\n",
    "# Divide again in input and target\n",
    "input = all_data.drop(columns=['ADAS13'])\n",
    "target = all_data['ADAS13']\n",
    "\n",
    "# Scale the data\n",
    "scaler = StandardScaler()\n",
    "input_scaled = scaler.fit_transform(input)\n",
    "\n",
    "scaled_input = pd.DataFrame(input_scaled, columns=input.columns)\n",
    "y = target"
   ]
  },
  {
   "cell_type": "markdown",
   "id": "9bc67374",
   "metadata": {},
   "source": [
    "##### Random Forest"
   ]
  },
  {
   "cell_type": "code",
   "execution_count": null,
   "id": "1aadaf23",
   "metadata": {},
   "outputs": [],
   "source": [
    "r2_score_rf = random_forest(scaled_input, y, imp='Latent PCA Mode')"
   ]
  },
  {
   "cell_type": "code",
   "execution_count": null,
   "id": "78027b37",
   "metadata": {},
   "outputs": [
    {
     "name": "stdout",
     "output_type": "stream",
     "text": [
      "\n",
      "Random Forest 10-Fold CV R² Score Latent PCA Mode: 0.688 ± 0.036\n"
     ]
    }
   ],
   "source": [
    "print(r2_score_rf)"
   ]
  },
  {
   "cell_type": "markdown",
   "id": "62af8715",
   "metadata": {},
   "source": [
    "##### Gradient Boosting"
   ]
  },
  {
   "cell_type": "code",
   "execution_count": null,
   "id": "32c823d2",
   "metadata": {},
   "outputs": [],
   "source": [
    "r2_score_grad = gradient_boosting(scaled_input, y, imp='Latent PCA Mode')"
   ]
  },
  {
   "cell_type": "code",
   "execution_count": null,
   "id": "4ff14349",
   "metadata": {},
   "outputs": [
    {
     "name": "stdout",
     "output_type": "stream",
     "text": [
      "\n",
      "Gradient Boosting 10-Fold CV R² Score Latent PCA Mode: 0.697 ± 0.037\n"
     ]
    }
   ],
   "source": [
    "print(r2_score_grad)"
   ]
  },
  {
   "cell_type": "markdown",
   "id": "22120f29",
   "metadata": {},
   "source": [
    "##### Extreme Gradient Boosting"
   ]
  },
  {
   "cell_type": "code",
   "execution_count": null,
   "id": "33dc48f1",
   "metadata": {},
   "outputs": [],
   "source": [
    "r2_score_xgb = xgb_regressor(scaled_input, y, imp='Latent PCA Mode')"
   ]
  },
  {
   "cell_type": "code",
   "execution_count": null,
   "id": "03f560be",
   "metadata": {},
   "outputs": [
    {
     "name": "stdout",
     "output_type": "stream",
     "text": [
      "\n",
      "XGB Regressor 10-Fold CV R² Score Latent PCA Mode: 0.702 ± 0.035\n"
     ]
    }
   ],
   "source": [
    "print(r2_score_xgb)"
   ]
  },
  {
   "cell_type": "markdown",
   "id": "e2575fac",
   "metadata": {},
   "source": [
    "##### SVR"
   ]
  },
  {
   "cell_type": "code",
   "execution_count": null,
   "id": "2f7d1593",
   "metadata": {},
   "outputs": [],
   "source": [
    "r2_score_svr = svr(scaled_input, y, imp='Latent PCA Mode')"
   ]
  },
  {
   "cell_type": "code",
   "execution_count": null,
   "id": "5a7b2482",
   "metadata": {},
   "outputs": [
    {
     "name": "stdout",
     "output_type": "stream",
     "text": [
      "\n",
      "SVR 10-Fold CV R² Score Latent PCA Mode: 0.714 ± 0.035\n"
     ]
    }
   ],
   "source": [
    "print(r2_score_svr)"
   ]
  },
  {
   "cell_type": "markdown",
   "id": "f69aeb56",
   "metadata": {},
   "source": [
    "##### Ridge Regression"
   ]
  },
  {
   "cell_type": "code",
   "execution_count": null,
   "id": "18b911e2",
   "metadata": {},
   "outputs": [],
   "source": [
    "r2_score_ridge = ridge_regression(scaled_input, y, imp='Latent PCA Mode')"
   ]
  },
  {
   "cell_type": "code",
   "execution_count": null,
   "id": "bb5ddcea",
   "metadata": {},
   "outputs": [
    {
     "name": "stdout",
     "output_type": "stream",
     "text": [
      "\n",
      "Ridge Regression 10-Fold CV R² Score Latent PCA Mode: 0.719 ± 0.034\n"
     ]
    }
   ],
   "source": [
    "print(r2_score_ridge)"
   ]
  },
  {
   "cell_type": "markdown",
   "id": "7d32aab3",
   "metadata": {},
   "source": [
    "##### MLP"
   ]
  },
  {
   "cell_type": "code",
   "execution_count": null,
   "id": "c3af0a5d",
   "metadata": {},
   "outputs": [],
   "source": [
    "r2_score_mlp = mlp(scaled_input, y, imp='Latent PCA Mode')"
   ]
  },
  {
   "cell_type": "code",
   "execution_count": null,
   "id": "a5c16d00",
   "metadata": {},
   "outputs": [
    {
     "name": "stdout",
     "output_type": "stream",
     "text": [
      "\n",
      "MLP 10-Fold CV R² Score Latent PCA Mode: 0.722 ± 0.035\n"
     ]
    }
   ],
   "source": [
    "print(r2_score_mlp)"
   ]
  },
  {
   "cell_type": "markdown",
   "id": "91ec5c15",
   "metadata": {},
   "source": [
    "##### GP Regression"
   ]
  },
  {
   "cell_type": "code",
   "execution_count": null,
   "id": "546f8b3c",
   "metadata": {},
   "outputs": [],
   "source": [
    "r2_score_gpr = gp_regressor(scaled_input, y, imp='Latent PCA Mode')"
   ]
  },
  {
   "cell_type": "code",
   "execution_count": null,
   "id": "f8124ec4",
   "metadata": {},
   "outputs": [
    {
     "name": "stdout",
     "output_type": "stream",
     "text": [
      "\n",
      "GPR 10-Fold CV R² Score Latent PCA Mode: 0.720 ± 0.035\n"
     ]
    }
   ],
   "source": [
    "print(r2_score_gpr)"
   ]
  },
  {
   "cell_type": "markdown",
   "id": "eb09b309",
   "metadata": {},
   "source": [
    "### **3.4** KNN Pre-Imputation"
   ]
  },
  {
   "cell_type": "code",
   "execution_count": null,
   "id": "a2214812",
   "metadata": {},
   "outputs": [],
   "source": [
    "input = pd.read_csv('PCA IMPUTATION/imputed_pca_latent_knn_df.csv')\n",
    "target = pd.read_csv('DATA/target_COMPLETE_DATA.csv')\n",
    "\n",
    "all_data = pd.concat([input, target], axis=1)\n",
    "all_data = all_data.dropna(subset=['ADAS13'])\n",
    "\n",
    "# Divide again in input and target\n",
    "input = all_data.drop(columns=['ADAS13'])\n",
    "target = all_data['ADAS13']\n",
    "\n",
    "# Scale the data\n",
    "scaler = StandardScaler()\n",
    "input_scaled = scaler.fit_transform(input)\n",
    "\n",
    "scaled_input = pd.DataFrame(input_scaled, columns=input.columns)\n",
    "y = target"
   ]
  },
  {
   "cell_type": "markdown",
   "id": "42ab2239",
   "metadata": {},
   "source": [
    "##### Random Forest"
   ]
  },
  {
   "cell_type": "code",
   "execution_count": null,
   "id": "3ab221ef",
   "metadata": {},
   "outputs": [],
   "source": [
    "r2_score_rf = random_forest(scaled_input, y, imp='Latent PCA KNN')"
   ]
  },
  {
   "cell_type": "code",
   "execution_count": null,
   "id": "be87816f",
   "metadata": {},
   "outputs": [
    {
     "name": "stdout",
     "output_type": "stream",
     "text": [
      "\n",
      "Random Forest 10-Fold CV R² Score Latent PCA KNN: 0.680 ± 0.026\n"
     ]
    }
   ],
   "source": [
    "print(r2_score_rf)"
   ]
  },
  {
   "cell_type": "markdown",
   "id": "1d4fad2a",
   "metadata": {},
   "source": [
    "##### Gradient Boosting"
   ]
  },
  {
   "cell_type": "code",
   "execution_count": null,
   "id": "fc494588",
   "metadata": {},
   "outputs": [],
   "source": [
    "r2_score_grad = gradient_boosting(scaled_input, y, imp='Latent PCA KNN')"
   ]
  },
  {
   "cell_type": "code",
   "execution_count": null,
   "id": "c2b8653c",
   "metadata": {},
   "outputs": [
    {
     "name": "stdout",
     "output_type": "stream",
     "text": [
      "\n",
      "Gradient Boosting 10-Fold CV R² Score Latent PCA KNN: 0.693 ± 0.025\n"
     ]
    }
   ],
   "source": [
    "print(r2_score_grad)"
   ]
  },
  {
   "cell_type": "markdown",
   "id": "827d8251",
   "metadata": {},
   "source": [
    "##### Extreme Gradient Boosting"
   ]
  },
  {
   "cell_type": "code",
   "execution_count": null,
   "id": "da54b263",
   "metadata": {},
   "outputs": [],
   "source": [
    "r2_score_xgb = xgb_regressor(scaled_input, y, imp='Latent PCA KNN')"
   ]
  },
  {
   "cell_type": "code",
   "execution_count": null,
   "id": "9127851d",
   "metadata": {},
   "outputs": [
    {
     "name": "stdout",
     "output_type": "stream",
     "text": [
      "\n",
      "XGB Regressor 10-Fold CV R² Score Latent PCA KNN: 0.702 ± 0.026\n"
     ]
    }
   ],
   "source": [
    "print(r2_score_xgb)"
   ]
  },
  {
   "cell_type": "markdown",
   "id": "07fa4254",
   "metadata": {},
   "source": [
    "##### SVR"
   ]
  },
  {
   "cell_type": "code",
   "execution_count": null,
   "id": "5470c670",
   "metadata": {},
   "outputs": [],
   "source": [
    "r2_score_svr = svr(scaled_input, y, imp='Latent PCA KNN')"
   ]
  },
  {
   "cell_type": "code",
   "execution_count": null,
   "id": "b3c969c3",
   "metadata": {},
   "outputs": [
    {
     "name": "stdout",
     "output_type": "stream",
     "text": [
      "\n",
      "SVR 10-Fold CV R² Score Latent PCA KNN: 0.712 ± 0.032\n"
     ]
    }
   ],
   "source": [
    "print(r2_score_svr)"
   ]
  },
  {
   "cell_type": "markdown",
   "id": "34464dac",
   "metadata": {},
   "source": [
    "##### Ridge Regression"
   ]
  },
  {
   "cell_type": "code",
   "execution_count": null,
   "id": "2da54f11",
   "metadata": {},
   "outputs": [],
   "source": [
    "r2_score_ridge = ridge_regression(scaled_input, y, imp='Latent PCA KNN')"
   ]
  },
  {
   "cell_type": "code",
   "execution_count": null,
   "id": "490fe46f",
   "metadata": {},
   "outputs": [
    {
     "name": "stdout",
     "output_type": "stream",
     "text": [
      "\n",
      "Ridge Regression 10-Fold CV R² Score Latent PCA KNN: 0.716 ± 0.033\n"
     ]
    }
   ],
   "source": [
    "print(r2_score_ridge)"
   ]
  },
  {
   "cell_type": "markdown",
   "id": "c44ea66a",
   "metadata": {},
   "source": [
    "##### MLP"
   ]
  },
  {
   "cell_type": "code",
   "execution_count": null,
   "id": "31fe87ad",
   "metadata": {},
   "outputs": [],
   "source": [
    "r2_score_mlp = mlp(scaled_input, y, imp='Latent PCA KNN')"
   ]
  },
  {
   "cell_type": "code",
   "execution_count": null,
   "id": "bb7deb08",
   "metadata": {},
   "outputs": [
    {
     "name": "stdout",
     "output_type": "stream",
     "text": [
      "\n",
      "MLP 10-Fold CV R² Score Latent PCA KNN: 0.719 ± 0.035\n"
     ]
    }
   ],
   "source": [
    "print(r2_score_mlp)"
   ]
  },
  {
   "cell_type": "markdown",
   "id": "db2f1da4",
   "metadata": {},
   "source": [
    "##### GP Regression"
   ]
  },
  {
   "cell_type": "code",
   "execution_count": null,
   "id": "ec496638",
   "metadata": {},
   "outputs": [],
   "source": [
    "r2_score_gpr = gp_regressor(scaled_input, y, imp='Latent PCA KNN')"
   ]
  },
  {
   "cell_type": "code",
   "execution_count": null,
   "id": "347e1805",
   "metadata": {},
   "outputs": [
    {
     "name": "stdout",
     "output_type": "stream",
     "text": [
      "\n",
      "GPR 10-Fold CV R² Score Latent PCA KNN: 0.717 ± 0.033\n"
     ]
    }
   ],
   "source": [
    "print(r2_score_gpr)"
   ]
  },
  {
   "cell_type": "markdown",
   "id": "956e60a4",
   "metadata": {},
   "source": [
    "### **3.5** Iterative Pre-Imputation"
   ]
  },
  {
   "cell_type": "code",
   "execution_count": null,
   "id": "db85f80a",
   "metadata": {},
   "outputs": [],
   "source": [
    "input = pd.read_csv('PCA IMPUTATION/imputed_pca_latent_iter_df.csv')\n",
    "target = pd.read_csv('DATA/target_COMPLETE_DATA.csv')\n",
    "\n",
    "all_data = pd.concat([input, target], axis=1)\n",
    "all_data = all_data.dropna(subset=['ADAS13'])\n",
    "\n",
    "# Divide again in input and target\n",
    "input = all_data.drop(columns=['ADAS13'])\n",
    "target = all_data['ADAS13']\n",
    "\n",
    "# Scale the data\n",
    "scaler = StandardScaler()\n",
    "input_scaled = scaler.fit_transform(input)\n",
    "\n",
    "scaled_input = pd.DataFrame(input_scaled, columns=input.columns)\n",
    "y = target"
   ]
  },
  {
   "cell_type": "markdown",
   "id": "9d008d19",
   "metadata": {},
   "source": [
    "##### Random Forest"
   ]
  },
  {
   "cell_type": "code",
   "execution_count": null,
   "id": "ad218e82",
   "metadata": {},
   "outputs": [],
   "source": [
    "r2_score_rf = random_forest(scaled_input, y, imp='Latent PCA Iterative')"
   ]
  },
  {
   "cell_type": "code",
   "execution_count": null,
   "id": "2ece02c7",
   "metadata": {},
   "outputs": [
    {
     "name": "stdout",
     "output_type": "stream",
     "text": [
      "\n",
      "Random Forest 10-Fold CV R² Score Latent PCA Iterative: 0.685 ± 0.024\n"
     ]
    }
   ],
   "source": [
    "print(r2_score_rf)"
   ]
  },
  {
   "cell_type": "markdown",
   "id": "ff02abf2",
   "metadata": {},
   "source": [
    "##### Gradient Boosting"
   ]
  },
  {
   "cell_type": "code",
   "execution_count": null,
   "id": "756d3550",
   "metadata": {},
   "outputs": [],
   "source": [
    "r2_score_grad = gradient_boosting(scaled_input, y, imp='Latent PCA Iterative')"
   ]
  },
  {
   "cell_type": "code",
   "execution_count": null,
   "id": "78647590",
   "metadata": {},
   "outputs": [
    {
     "name": "stdout",
     "output_type": "stream",
     "text": [
      "\n",
      "Gradient Boosting 10-Fold CV R² Score Latent PCA Iterative: 0.690 ± 0.030\n"
     ]
    }
   ],
   "source": [
    "print(r2_score_grad)"
   ]
  },
  {
   "cell_type": "markdown",
   "id": "dead47b0",
   "metadata": {},
   "source": [
    "##### Extreme Gradient Boosting"
   ]
  },
  {
   "cell_type": "code",
   "execution_count": null,
   "id": "22f15663",
   "metadata": {},
   "outputs": [],
   "source": [
    "r2_score_xgb = xgb_regressor(scaled_input, y, imp='Latent PCA Iterative')"
   ]
  },
  {
   "cell_type": "code",
   "execution_count": null,
   "id": "dbf86d35",
   "metadata": {},
   "outputs": [
    {
     "name": "stdout",
     "output_type": "stream",
     "text": [
      "\n",
      "XGB Regressor 10-Fold CV R² Score Latent PCA Iterative: 0.699 ± 0.036\n"
     ]
    }
   ],
   "source": [
    "print(r2_score_xgb)"
   ]
  },
  {
   "cell_type": "markdown",
   "id": "04ece8e2",
   "metadata": {},
   "source": [
    "##### SVR"
   ]
  },
  {
   "cell_type": "code",
   "execution_count": null,
   "id": "ceff698d",
   "metadata": {},
   "outputs": [],
   "source": [
    "r2_score_svr = svr(scaled_input, y, imp='Latent PCA Iterative')"
   ]
  },
  {
   "cell_type": "code",
   "execution_count": null,
   "id": "0c8a8918",
   "metadata": {},
   "outputs": [
    {
     "name": "stdout",
     "output_type": "stream",
     "text": [
      "\n",
      "SVR 10-Fold CV R² Score Latent PCA Iterative: 0.720 ± 0.031\n"
     ]
    }
   ],
   "source": [
    "print(r2_score_svr)"
   ]
  },
  {
   "cell_type": "markdown",
   "id": "2aaaea03",
   "metadata": {},
   "source": [
    "##### Ridge Regression"
   ]
  },
  {
   "cell_type": "code",
   "execution_count": null,
   "id": "4db411cc",
   "metadata": {},
   "outputs": [],
   "source": [
    "r2_score_ridge = ridge_regression(scaled_input, y, imp='Latent PCA Iterative')"
   ]
  },
  {
   "cell_type": "code",
   "execution_count": null,
   "id": "fa9f793f",
   "metadata": {},
   "outputs": [
    {
     "name": "stdout",
     "output_type": "stream",
     "text": [
      "\n",
      "Ridge Regression 10-Fold CV R² Score Latent PCA Iterative: 0.721 ± 0.033\n"
     ]
    }
   ],
   "source": [
    "print(r2_score_ridge)"
   ]
  },
  {
   "cell_type": "markdown",
   "id": "5bafc8a0",
   "metadata": {},
   "source": [
    "##### MLP"
   ]
  },
  {
   "cell_type": "code",
   "execution_count": null,
   "id": "95f74ec3",
   "metadata": {},
   "outputs": [],
   "source": [
    "r2_score_mlp = mlp(scaled_input, y, imp='Latent PCA Iterative')"
   ]
  },
  {
   "cell_type": "code",
   "execution_count": null,
   "id": "9d92abfb",
   "metadata": {},
   "outputs": [
    {
     "name": "stdout",
     "output_type": "stream",
     "text": [
      "\n",
      "MLP 10-Fold CV R² Score Latent PCA Iterative: 0.723 ± 0.035\n"
     ]
    }
   ],
   "source": [
    "print(r2_score_mlp)"
   ]
  },
  {
   "cell_type": "markdown",
   "id": "1c934c68",
   "metadata": {},
   "source": [
    "##### GP Regression"
   ]
  },
  {
   "cell_type": "code",
   "execution_count": null,
   "id": "6fc5df4c",
   "metadata": {},
   "outputs": [],
   "source": [
    "r2_score_gpr = gp_regressor(scaled_input, y, imp='Latent PCA Iterative')"
   ]
  },
  {
   "cell_type": "code",
   "execution_count": null,
   "id": "82e347a0",
   "metadata": {},
   "outputs": [
    {
     "name": "stdout",
     "output_type": "stream",
     "text": [
      "\n",
      "GPR 10-Fold CV R² Score Latent PCA Iterative: 0.726 ± 0.032\n"
     ]
    }
   ],
   "source": [
    "print(r2_score_gpr)"
   ]
  },
  {
   "cell_type": "markdown",
   "id": "a5765a07",
   "metadata": {},
   "source": [
    "### **3.6** MICE Pre-Imputation"
   ]
  },
  {
   "cell_type": "code",
   "execution_count": null,
   "id": "9b20f544",
   "metadata": {},
   "outputs": [],
   "source": [
    "input = pd.read_csv('PCA IMPUTATION/imputed_pca_latent_mice_df.csv')\n",
    "target = pd.read_csv('DATA/target_COMPLETE_DATA.csv')\n",
    "\n",
    "all_data = pd.concat([input, target], axis=1)\n",
    "all_data = all_data.dropna(subset=['ADAS13'])\n",
    "\n",
    "# Divide again in input and target\n",
    "input = all_data.drop(columns=['ADAS13'])\n",
    "target = all_data['ADAS13']\n",
    "\n",
    "# Scale the data\n",
    "scaler = StandardScaler()\n",
    "input_scaled = scaler.fit_transform(input)\n",
    "\n",
    "scaled_input = pd.DataFrame(input_scaled, columns=input.columns)\n",
    "y = target"
   ]
  },
  {
   "cell_type": "markdown",
   "id": "05e3cfe2",
   "metadata": {},
   "source": [
    "##### Random Forest"
   ]
  },
  {
   "cell_type": "code",
   "execution_count": null,
   "id": "fa34f5e4",
   "metadata": {},
   "outputs": [],
   "source": [
    "r2_score_rf = random_forest(scaled_input, y, imp='Latent PCA MICE')"
   ]
  },
  {
   "cell_type": "code",
   "execution_count": null,
   "id": "051f8418",
   "metadata": {},
   "outputs": [
    {
     "name": "stdout",
     "output_type": "stream",
     "text": [
      "\n",
      "Random Forest 10-Fold CV R² Score Latent PCA MICE: 0.679 ± 0.025\n"
     ]
    }
   ],
   "source": [
    "print(r2_score_rf)"
   ]
  },
  {
   "cell_type": "markdown",
   "id": "7a7c74aa",
   "metadata": {},
   "source": [
    "##### Gradient Boosting"
   ]
  },
  {
   "cell_type": "code",
   "execution_count": null,
   "id": "18e9d320",
   "metadata": {},
   "outputs": [],
   "source": [
    "r2_score_grad = gradient_boosting(scaled_input, y, imp='Latent PCA MICE')"
   ]
  },
  {
   "cell_type": "code",
   "execution_count": null,
   "id": "4b4f1826",
   "metadata": {},
   "outputs": [
    {
     "name": "stdout",
     "output_type": "stream",
     "text": [
      "\n",
      "Gradient Boosting 10-Fold CV R² Score Latent PCA MICE: 0.688 ± 0.028\n"
     ]
    }
   ],
   "source": [
    "print(r2_score_grad)"
   ]
  },
  {
   "cell_type": "markdown",
   "id": "e7087568",
   "metadata": {},
   "source": [
    "##### Extreme Gradient Boosting"
   ]
  },
  {
   "cell_type": "code",
   "execution_count": null,
   "id": "5f275c13",
   "metadata": {},
   "outputs": [],
   "source": [
    "r2_score_xgb = xgb_regressor(scaled_input, y, imp='Latent PCA MICE')"
   ]
  },
  {
   "cell_type": "code",
   "execution_count": null,
   "id": "204fe466",
   "metadata": {},
   "outputs": [
    {
     "name": "stdout",
     "output_type": "stream",
     "text": [
      "\n",
      "XGB Regressor 10-Fold CV R² Score Latent PCA MICE: 0.696 ± 0.027\n"
     ]
    }
   ],
   "source": [
    "print(r2_score_xgb)"
   ]
  },
  {
   "cell_type": "markdown",
   "id": "48e59bb5",
   "metadata": {},
   "source": [
    "##### SVR"
   ]
  },
  {
   "cell_type": "code",
   "execution_count": null,
   "id": "1fecfe37",
   "metadata": {},
   "outputs": [],
   "source": [
    "r2_score_svr = svr(scaled_input, y, imp='Latent PCA MICE')"
   ]
  },
  {
   "cell_type": "code",
   "execution_count": null,
   "id": "aaf8d31d",
   "metadata": {},
   "outputs": [
    {
     "name": "stdout",
     "output_type": "stream",
     "text": [
      "\n",
      "SVR 10-Fold CV R² Score Latent PCA MICE: 0.715 ± 0.032\n"
     ]
    }
   ],
   "source": [
    "print(r2_score_svr)"
   ]
  },
  {
   "cell_type": "markdown",
   "id": "52397d96",
   "metadata": {},
   "source": [
    "##### Ridge Regression"
   ]
  },
  {
   "cell_type": "code",
   "execution_count": null,
   "id": "a4fc8916",
   "metadata": {},
   "outputs": [],
   "source": [
    "r2_score_ridge = ridge_regression(scaled_input, y, imp='Latent PCA MICE')"
   ]
  },
  {
   "cell_type": "code",
   "execution_count": null,
   "id": "0e505c31",
   "metadata": {},
   "outputs": [
    {
     "name": "stdout",
     "output_type": "stream",
     "text": [
      "\n",
      "Ridge Regression 10-Fold CV R² Score Latent PCA MICE: 0.719 ± 0.033\n"
     ]
    }
   ],
   "source": [
    "print(r2_score_ridge)"
   ]
  },
  {
   "cell_type": "markdown",
   "id": "1640e9b9",
   "metadata": {},
   "source": [
    "##### MLP"
   ]
  },
  {
   "cell_type": "code",
   "execution_count": null,
   "id": "1588ff14",
   "metadata": {},
   "outputs": [],
   "source": [
    "r2_score_mlp = mlp(scaled_input, y, imp='Latent PCA MICE')"
   ]
  },
  {
   "cell_type": "code",
   "execution_count": null,
   "id": "ac2fe351",
   "metadata": {},
   "outputs": [
    {
     "name": "stdout",
     "output_type": "stream",
     "text": [
      "\n",
      "MLP 10-Fold CV R² Score Latent PCA MICE: 0.722 ± 0.033\n"
     ]
    }
   ],
   "source": [
    "print(r2_score_mlp)"
   ]
  },
  {
   "cell_type": "markdown",
   "id": "b47945ec",
   "metadata": {},
   "source": [
    "##### GP Regression"
   ]
  },
  {
   "cell_type": "code",
   "execution_count": null,
   "id": "9ea7dfef",
   "metadata": {},
   "outputs": [],
   "source": [
    "r2_score_gpr = gp_regressor(scaled_input, y, imp='Latent PCA MICE')"
   ]
  },
  {
   "cell_type": "code",
   "execution_count": null,
   "id": "fd4ca03b",
   "metadata": {},
   "outputs": [
    {
     "name": "stdout",
     "output_type": "stream",
     "text": [
      "\n",
      "GPR 10-Fold CV R² Score Latent PCA MICE: 0.720 ± 0.034\n"
     ]
    }
   ],
   "source": [
    "print(r2_score_gpr)"
   ]
  }
 ],
 "metadata": {
  "language_info": {
   "name": "python"
  }
 },
 "nbformat": 4,
 "nbformat_minor": 5
}
