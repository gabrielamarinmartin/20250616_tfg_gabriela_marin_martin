{
 "cells": [
  {
   "cell_type": "markdown",
   "id": "2511e776",
   "metadata": {},
   "source": [
    "# REGRESSION MODELS: BASELINE IMPUTATION\n",
    "\n",
    "## Description of this notebook\n",
    "\n",
    "This notebook evaluates the performance of the regression models using the datasets imputed using the baseline imputation techniques."
   ]
  },
  {
   "cell_type": "code",
   "execution_count": 494,
   "id": "7b970e17",
   "metadata": {},
   "outputs": [],
   "source": [
    "# Import all the necessary libraries \n",
    "\n",
    "import pandas as pd\n",
    "import numpy as np\n",
    "from sklearn.metrics import mean_squared_error, r2_score, mean_absolute_error\n",
    "from sklearn.ensemble import RandomForestRegressor, GradientBoostingRegressor\n",
    "import joblib\n",
    "from xgboost import XGBRegressor\n",
    "from sklearn.svm import SVR\n",
    "from sklearn.gaussian_process.kernels import RBF, Matern, RationalQuadratic, WhiteKernel, ExpSineSquared, DotProduct\n",
    "from sklearn.linear_model import Ridge\n",
    "from sklearn.model_selection import GridSearchCV, KFold, train_test_split, cross_val_score\n",
    "from sklearn.metrics import make_scorer\n",
    "from sklearn.preprocessing import StandardScaler\n",
    "import os\n",
    "from sklearn.neural_network import MLPRegressor\n",
    "from GPy import models\n",
    "from GPy import kern\n",
    "from sklearn.gaussian_process import GaussianProcessRegressor\n",
    "import warnings\n",
    "warnings.filterwarnings(\"ignore\")\n",
    "from sklearn.base import clone"
   ]
  },
  {
   "cell_type": "code",
   "execution_count": 495,
   "id": "5012b51d",
   "metadata": {},
   "outputs": [],
   "source": [
    "#os.chdir('..') # move to the general directory"
   ]
  },
  {
   "cell_type": "code",
   "execution_count": 496,
   "id": "459c231b",
   "metadata": {},
   "outputs": [],
   "source": [
    "def scale_data(input, target):\n",
    "    all_data = pd.concat([input, target], axis=1)\n",
    "\n",
    "    all_data = all_data.dropna(subset=['ADAS13'])\n",
    "\n",
    "    # Divide again in input and target\n",
    "\n",
    "    input = all_data.drop(columns=['ADAS13'])\n",
    "    target = all_data['ADAS13']\n",
    "\n",
    "    # Divide numerical and categorical variables\n",
    "    input_num = input.drop(columns=['PTGENDER', 'APOE4'])\n",
    "    input_cat = input[['PTGENDER', 'APOE4']]\n",
    "\n",
    "    # Scale the data\n",
    "    scaler = StandardScaler()\n",
    "    input_scaled = scaler.fit_transform(input_num)\n",
    "    input_scaled = pd.DataFrame(input_scaled, columns=input_num.columns).reset_index(drop=True)\n",
    "    input_cat = input_cat.reset_index(drop=True)\n",
    "\n",
    "    # Concatenate scaled data with categorical variables\n",
    "    input = pd.concat([input_scaled, input_cat], axis=1)\n",
    "    \n",
    "    return input, target"
   ]
  },
  {
   "cell_type": "markdown",
   "id": "0841ae3c",
   "metadata": {},
   "source": [
    "## **1.** Models Definitions"
   ]
  },
  {
   "cell_type": "markdown",
   "id": "3222ae56",
   "metadata": {},
   "source": [
    "### **1.1** Random Forest Model"
   ]
  },
  {
   "cell_type": "code",
   "execution_count": null,
   "id": "4c56755b",
   "metadata": {},
   "outputs": [],
   "source": [
    "def random_forest(X, y, imp='None'):\n",
    "    rf = RandomForestRegressor(random_state=42)\n",
    "\n",
    "    param_grid_rf = {\n",
    "        'n_estimators': [30, 40, 50, 55],\n",
    "        'max_depth': [1, 5, 10, 20, 30],\n",
    "        'min_samples_split': [2, 5, 10, 15, 20],\n",
    "        'min_samples_leaf': [1, 2, 4, 6, 8, 10],\n",
    "        'max_features': [15, 16, 17, 18, 19, 20]\n",
    "    }\n",
    "\n",
    "    scorer = make_scorer(mean_absolute_error, greater_is_better=False)\n",
    "\n",
    "    kf_outer = KFold(n_splits=10, shuffle=True, random_state=42)\n",
    "\n",
    "    r2_scores = []\n",
    "\n",
    "    fold = 1\n",
    "    for train_index, test_index in kf_outer.split(X):\n",
    "        print(f\"Fold {fold}:\")\n",
    "\n",
    "        X_train, X_test = X.iloc[train_index], X.iloc[test_index]\n",
    "        y_train, y_test = y.iloc[train_index], y.iloc[test_index]\n",
    "\n",
    "        grid_search_rf = GridSearchCV(\n",
    "            estimator=rf,\n",
    "            param_grid=param_grid_rf,\n",
    "            cv=KFold(n_splits=3, shuffle=True, random_state=42), \n",
    "            scoring=scorer,\n",
    "            verbose=0,\n",
    "            n_jobs=-1\n",
    "        )\n",
    "\n",
    "        grid_search_rf.fit(X_train, y_train)\n",
    "\n",
    "        best_rf_model = grid_search_rf.best_estimator_\n",
    "\n",
    "        y_pred_test = best_rf_model.predict(X_test)\n",
    "\n",
    "        r2 = r2_score(y_test, y_pred_test)\n",
    "\n",
    "        print(f\"Fold R²: {r2:.3f}\")\n",
    "\n",
    "        r2_scores.append(r2)\n",
    "\n",
    "        fold += 1\n",
    "\n",
    "    return (f\"\\nRandom Forest 10-Fold CV R² Score {imp}: {np.mean(r2_scores):.3f} ± {np.std(r2_scores):.3f}\")\n"
   ]
  },
  {
   "cell_type": "markdown",
   "id": "64d418f3",
   "metadata": {},
   "source": [
    "### **1.2** Gradient Boosting Regressor"
   ]
  },
  {
   "cell_type": "code",
   "execution_count": null,
   "id": "df31d0f8",
   "metadata": {},
   "outputs": [],
   "source": [
    "def gradient_boosting(X, y, imp='None'):\n",
    "    gradboosting = GradientBoostingRegressor(random_state=42)\n",
    "\n",
    "    param_grid = {\n",
    "        'n_estimators': [500, 700, 900],\n",
    "        'learning_rate': [0.0001, 0.001, 0.01],\n",
    "        'max_depth': [1, 2, 3],\n",
    "        'min_samples_split': [3, 4, 5],\n",
    "        'min_samples_leaf': [1, 2, 3]\n",
    "    }\n",
    "\n",
    "    scorer = make_scorer(mean_absolute_error, greater_is_better=False)\n",
    "\n",
    "    kf_outer = KFold(n_splits=10, shuffle=True, random_state=42)\n",
    "\n",
    "    r2_scores = []\n",
    "\n",
    "    fold = 1\n",
    "    for train_index, test_index in kf_outer.split(X):\n",
    "        print(f\"Fold {fold}:\")\n",
    "\n",
    "        X_train, X_test = X.iloc[train_index], X.iloc[test_index]\n",
    "        y_train, y_test = y.iloc[train_index], y.iloc[test_index]\n",
    "\n",
    "        grid_search = GridSearchCV(\n",
    "            estimator=gradboosting,\n",
    "            param_grid=param_grid,\n",
    "            cv=KFold(n_splits=3, shuffle=True, random_state=42), \n",
    "            scoring=scorer,\n",
    "            verbose=0,\n",
    "            n_jobs=-1\n",
    "        )\n",
    "\n",
    "        grid_search.fit(X_train, y_train)\n",
    "\n",
    "        best_model = grid_search.best_estimator_\n",
    "\n",
    "        y_pred_test = best_model.predict(X_test)\n",
    "\n",
    "        r2 = r2_score(y_test, y_pred_test)\n",
    "\n",
    "        print(f\"  Fold R²: {r2:.3f}\")\n",
    "\n",
    "        r2_scores.append(r2)\n",
    "\n",
    "        fold += 1\n",
    "\n",
    "    return (f\"\\nGradient Boosting 10-Fold CV R² Score {imp}: {np.mean(r2_scores):.3f} ± {np.std(r2_scores):.3f}\")\n"
   ]
  },
  {
   "cell_type": "markdown",
   "id": "b6afbd5a",
   "metadata": {},
   "source": [
    "### **1.3** XGBRegressor"
   ]
  },
  {
   "cell_type": "code",
   "execution_count": null,
   "id": "d1404703",
   "metadata": {},
   "outputs": [],
   "source": [
    "def xgb_regressor(X, y, imp='None'):\n",
    "    xgb = XGBRegressor(random_state=42)\n",
    "\n",
    "    param_grid = {\n",
    "        'n_estimators': [100, 500, 1000],\n",
    "        'learning_rate': [1e-4, 1e-3, 1e-2, 1e-1],\n",
    "        'max_depth': [1, 3, 5, 7]\n",
    "    }\n",
    "\n",
    "    scorer = make_scorer(mean_absolute_error, greater_is_better=False)\n",
    "\n",
    "    kf_outer = KFold(n_splits=10, shuffle=True, random_state=42)\n",
    "\n",
    "    r2_scores = []\n",
    "\n",
    "    fold = 1\n",
    "    for train_index, test_index in kf_outer.split(X):\n",
    "        print(f\"Fold {fold}:\")\n",
    "\n",
    "        X_train, X_test = X.iloc[train_index], X.iloc[test_index]\n",
    "        y_train, y_test = y.iloc[train_index], y.iloc[test_index]\n",
    "\n",
    "        grid_search = GridSearchCV(\n",
    "            estimator=xgb,\n",
    "            param_grid=param_grid,\n",
    "            cv=KFold(n_splits=3, shuffle=True, random_state=42),\n",
    "            scoring=scorer,\n",
    "            verbose=0,\n",
    "            n_jobs=-1\n",
    "        )\n",
    "\n",
    "        grid_search.fit(X_train, y_train)\n",
    "\n",
    "        best_model = grid_search.best_estimator_\n",
    "\n",
    "        y_pred_test = best_model.predict(X_test)\n",
    "\n",
    "        r2 = r2_score(y_test, y_pred_test)\n",
    "\n",
    "        print(f\"  Fold R²: {r2:.3f}\")\n",
    "\n",
    "        r2_scores.append(r2)\n",
    "\n",
    "        fold += 1\n",
    "\n",
    "    return (f\"\\nXGB Regressor 10-Fold CV R² Score {imp}: {np.mean(r2_scores):.3f} ± {np.std(r2_scores):.3f}\")\n"
   ]
  },
  {
   "cell_type": "markdown",
   "id": "e03a1c7c",
   "metadata": {},
   "source": [
    "### **1.4** Support Vector Regressor"
   ]
  },
  {
   "cell_type": "code",
   "execution_count": null,
   "id": "76a824d9",
   "metadata": {},
   "outputs": [],
   "source": [
    "def svr(X, y, imp='None'):\n",
    "    svr_model = SVR()\n",
    "\n",
    "    param_grid = {\n",
    "        'kernel': ['linear', 'rbf', 'poly', 'sigmoid'],\n",
    "        'C': [1e-3, 1e-2, 1e-1, 1, 10],\n",
    "        'gamma': [1e-4, 1e-3, 1e-2, 1, 10],\n",
    "        'epsilon': [1e-4, 1e-3, 1e-2, 1, 10]\n",
    "    }\n",
    "\n",
    "    scorer = make_scorer(mean_absolute_error, greater_is_better=False)\n",
    "\n",
    "    kf_outer = KFold(n_splits=10, shuffle=True, random_state=42)\n",
    "\n",
    "    r2_scores = []\n",
    "\n",
    "    fold = 1\n",
    "    for train_index, test_index in kf_outer.split(X):\n",
    "        print(f\"Fold {fold}:\")\n",
    "\n",
    "        X_train, X_test = X.iloc[train_index], X.iloc[test_index]\n",
    "        y_train, y_test = y.iloc[train_index], y.iloc[test_index]\n",
    "\n",
    "        grid_search = GridSearchCV(\n",
    "            estimator=svr_model,\n",
    "            param_grid=param_grid,\n",
    "            cv=KFold(n_splits=3, shuffle=True, random_state=42),\n",
    "            scoring=scorer,\n",
    "            verbose=0,\n",
    "            n_jobs=-1\n",
    "        )\n",
    "\n",
    "        grid_search.fit(X_train, y_train)\n",
    "\n",
    "        best_model = grid_search.best_estimator_\n",
    "\n",
    "        y_pred_test = best_model.predict(X_test)\n",
    "\n",
    "        r2 = r2_score(y_test, y_pred_test)\n",
    "\n",
    "        print(f\"  Fold R²: {r2:.3f}\")\n",
    "\n",
    "        r2_scores.append(r2)\n",
    "\n",
    "        fold += 1\n",
    "\n",
    "    return (f\"\\nSVR 10-Fold CV R² Score {imp}: {np.mean(r2_scores):.3f} ± {np.std(r2_scores):.3f}\")\n"
   ]
  },
  {
   "cell_type": "markdown",
   "id": "b9ac3fe8",
   "metadata": {},
   "source": [
    "### **1.5** Ridge Regression Model"
   ]
  },
  {
   "cell_type": "code",
   "execution_count": null,
   "id": "b8ab2211",
   "metadata": {},
   "outputs": [],
   "source": [
    "def ridge_regression(X, y, imp='None'):\n",
    "    ridge = Ridge(random_state=42)\n",
    "\n",
    "    param_grid = {\n",
    "        'alpha': [1e-10, 1e-5, 1e-4, 1e-3, 1e-2],\n",
    "        'fit_intercept': [True, False],\n",
    "        'tol': [1e-5, 1e-4, 1e-3, 1e-2],\n",
    "        'max_iter': [100, 500, 1000, 2000, 3000],\n",
    "        'solver': ['auto', 'saga'],\n",
    "    }\n",
    "\n",
    "    scorer = make_scorer(mean_absolute_error, greater_is_better=False)\n",
    "\n",
    "    kf_outer = KFold(n_splits=10, shuffle=True, random_state=42)\n",
    "\n",
    "    r2_scores = []\n",
    "\n",
    "    fold = 1\n",
    "    for train_index, test_index in kf_outer.split(X):\n",
    "        print(f\"Fold {fold}:\")\n",
    "\n",
    "        X_train, X_test = X.iloc[train_index], X.iloc[test_index]\n",
    "        y_train, y_test = y.iloc[train_index], y.iloc[test_index]\n",
    "\n",
    "        grid_search = GridSearchCV(\n",
    "            estimator=ridge,\n",
    "            param_grid=param_grid,\n",
    "            cv=KFold(n_splits=3, shuffle=True, random_state=42),\n",
    "            scoring=scorer,\n",
    "            verbose=0,\n",
    "            n_jobs=-1\n",
    "        )\n",
    "\n",
    "        grid_search.fit(X_train, y_train)\n",
    "\n",
    "        best_model = grid_search.best_estimator_\n",
    "\n",
    "        y_pred_test = best_model.predict(X_test)\n",
    "\n",
    "        r2 = r2_score(y_test, y_pred_test)\n",
    "\n",
    "        print(f\"  Fold R²: {r2:.3f}\")\n",
    "\n",
    "        r2_scores.append(r2)\n",
    "\n",
    "        fold += 1\n",
    "\n",
    "    return (f\"\\nRidge Regression 10-Fold CV R² Score {imp}: {np.mean(r2_scores):.3f} ± {np.std(r2_scores):.3f}\")\n"
   ]
  },
  {
   "cell_type": "markdown",
   "id": "ab05fcd9",
   "metadata": {},
   "source": [
    "### **1.6** MultiLayer Perceptron (MLP)"
   ]
  },
  {
   "cell_type": "code",
   "execution_count": null,
   "id": "95c1fb32",
   "metadata": {},
   "outputs": [],
   "source": [
    "def mlp(X, y, imp='None'):\n",
    "    mlp = MLPRegressor(random_state=42, max_iter=1000000)\n",
    "\n",
    "    param_grid = {\n",
    "        'hidden_layer_sizes': [(2,), (5,), (10,), (2, 2), (5, 2), (10, 2)],\n",
    "        'activation': ['relu', 'tanh'],\n",
    "        'solver': ['adam', 'lbfgs'],\n",
    "        'alpha': [1e-10, 1e-5, 1e-4, 1e-3, 1e-2]\n",
    "    }\n",
    "\n",
    "    scorer = make_scorer(mean_absolute_error, greater_is_better=False)\n",
    "\n",
    "    kf_outer = KFold(n_splits=10, shuffle=True, random_state=42)\n",
    "\n",
    "    r2_scores = []\n",
    "\n",
    "    fold = 1\n",
    "    for train_index, test_index in kf_outer.split(X):\n",
    "        print(f\"Fold {fold}:\")\n",
    "\n",
    "        X_train, X_test = X.iloc[train_index], X.iloc[test_index]\n",
    "        y_train, y_test = y.iloc[train_index], y.iloc[test_index]\n",
    "\n",
    "        grid_search = GridSearchCV(\n",
    "            estimator=mlp,\n",
    "            param_grid=param_grid,\n",
    "            cv=KFold(n_splits=3, shuffle=True, random_state=42),\n",
    "            scoring=scorer,\n",
    "            verbose=0,\n",
    "            n_jobs=-1\n",
    "        )\n",
    "\n",
    "        grid_search.fit(X_train, y_train)\n",
    "\n",
    "        best_model = grid_search.best_estimator_\n",
    "\n",
    "        y_pred_test = best_model.predict(X_test)\n",
    "\n",
    "        r2 = r2_score(y_test, y_pred_test)\n",
    "\n",
    "        print(f\"  Fold R²: {r2:.3f}\")\n",
    "\n",
    "        r2_scores.append(r2)\n",
    "\n",
    "        fold += 1\n",
    "\n",
    "    return (f\"\\nMLP 10-Fold CV R² Score {imp}: {np.mean(r2_scores):.3f} ± {np.std(r2_scores):.3f}\")"
   ]
  },
  {
   "cell_type": "markdown",
   "id": "e0afbd80",
   "metadata": {},
   "source": [
    "### **1.7** GP Regressor"
   ]
  },
  {
   "cell_type": "code",
   "execution_count": null,
   "id": "b8c1ae21",
   "metadata": {},
   "outputs": [],
   "source": [
    "def gp_regressor(X, y, imp='None'):\n",
    "\n",
    "    gpr = GaussianProcessRegressor(random_state=42, normalize_y=True)\n",
    "\n",
    "    # Define kernels with tunable hyperparameters\n",
    "    kernel_options = [\n",
    "        RBF(length_scale=1.0, length_scale_bounds=(1e-2, 1e3)) +\n",
    "        WhiteKernel(noise_level=1.0, noise_level_bounds=(1e-10, 1e1)) +\n",
    "        Matern(length_scale=1.0, length_scale_bounds=(1e-2, 1e3)),\n",
    "        \n",
    "        RBF(length_scale=1.0, length_scale_bounds=(1e-2, 1e3)) +\n",
    "        WhiteKernel(noise_level=1.0, noise_level_bounds=(1e-10, 1e1)) +\n",
    "        RationalQuadratic(alpha=1.0, alpha_bounds=(1e-2, 1e3),\n",
    "                  length_scale=1.0, length_scale_bounds=(1e-2, 1e3)),\n",
    "\n",
    "        \n",
    "        RBF(length_scale=1.0, length_scale_bounds=(1e-2, 1e3)) +\n",
    "        WhiteKernel(noise_level=1.0, noise_level_bounds=(1e-10, 1e1)) +\n",
    "        ExpSineSquared(length_scale=1.0, length_scale_bounds=(1e-2, 1e3),\n",
    "                    periodicity=3.0, periodicity_bounds=(1e-2, 10.0)),\n",
    "        \n",
    "        RBF(length_scale=1.0, length_scale_bounds=(1e-2, 1e3)) +\n",
    "        WhiteKernel(noise_level=1.0, noise_level_bounds=(1e-10, 1e1)) +\n",
    "        DotProduct(sigma_0=1.0, sigma_0_bounds=(1e-2, 1e3)),\n",
    "        \n",
    "        Matern(length_scale=1.0, length_scale_bounds=(1e-2, 1e3)),\n",
    "        WhiteKernel(noise_level=1.0, noise_level_bounds=(1e-10, 1e1)) +\n",
    "        RationalQuadratic(alpha=1.0, alpha_bounds=(1e-2, 1e3),\n",
    "                  length_scale=1.0, length_scale_bounds=(1e-2, 1e3)),\n",
    "        \n",
    "        Matern(length_scale=1.0, length_scale_bounds=(1e-2, 1e3)) +\n",
    "        WhiteKernel(noise_level=1.0, noise_level_bounds=(1e-10, 1e1)) +\n",
    "        ExpSineSquared(length_scale=1.0, length_scale_bounds=(1e-2, 1e3),\n",
    "               periodicity=3.0, periodicity_bounds=(1e-2, 10.0)),\n",
    "        \n",
    "        Matern(length_scale=1.0, length_scale_bounds=(1e-2, 1e3)) +\n",
    "        WhiteKernel(noise_level=1.0, noise_level_bounds=(1e-10, 1e1)) +\n",
    "        DotProduct(sigma_0=1.0, sigma_0_bounds=(1e-2, 1e3)),\n",
    "        \n",
    "        RationalQuadratic(alpha=1.0, alpha_bounds=(1e-2, 1e3),\n",
    "                  length_scale=1.0, length_scale_bounds=(1e-2, 1e3)),\n",
    "        WhiteKernel(noise_level=1.0, noise_level_bounds=(1e-10, 1e1)) +\n",
    "        ExpSineSquared(length_scale=1.0, length_scale_bounds=(1e-2, 1e3),\n",
    "               periodicity=3.0, periodicity_bounds=(1e-2, 10.0)),\n",
    "        \n",
    "        RationalQuadratic(alpha=1.0, alpha_bounds=(1e-2, 1e3),\n",
    "                  length_scale=1.0, length_scale_bounds=(1e-2, 1e3)) +\n",
    "        WhiteKernel(noise_level=1.0, noise_level_bounds=(1e-10, 1e1)) +\n",
    "        DotProduct(sigma_0=1.0, sigma_0_bounds=(1e-2, 1e3)),\n",
    "        \n",
    "        ExpSineSquared(length_scale=1.0, length_scale_bounds=(1e-2, 1e3),\n",
    "               periodicity=3.0, periodicity_bounds=(1e-2, 10.0)) +  \n",
    "        WhiteKernel(noise_level=1.0, noise_level_bounds=(1e-10, 1e1)) +\n",
    "        DotProduct(sigma_0=1.0, sigma_0_bounds=(1e-2, 1e3)),\n",
    "        \n",
    "        DotProduct(sigma_0=1.0, sigma_0_bounds=(1e-2, 1e3)) +\n",
    "        WhiteKernel(noise_level=1.0, noise_level_bounds=(1e-10, 1e1)),\n",
    "        \n",
    "        RBF(length_scale=1.0, length_scale_bounds=(1e-2, 1e3)) +         \n",
    "        WhiteKernel(noise_level=1.0, noise_level_bounds=(1e-10, 1e1)),\n",
    "        \n",
    "        Matern(length_scale=1.0, length_scale_bounds=(1e-2, 1e3)) +\n",
    "        WhiteKernel(noise_level=1.0, noise_level_bounds=(1e-10, 1e1)),\n",
    "        \n",
    "        RationalQuadratic(alpha=1.0, alpha_bounds=(1e-2, 1e3),\n",
    "                  length_scale=1.0, length_scale_bounds=(1e-2, 1e3)) + \n",
    "        WhiteKernel(noise_level=1.0, noise_level_bounds=(1e-10, 1e1)),\n",
    "        \n",
    "        ExpSineSquared(length_scale=1.0, length_scale_bounds=(1e-2, 1e3),\n",
    "                    periodicity=3.0, periodicity_bounds=(1e-2, 10.0)) +\n",
    "        WhiteKernel(noise_level=1.0, noise_level_bounds=(1e-10, 1e1))\n",
    "\n",
    "    ]\n",
    "\n",
    "    scorer = make_scorer(mean_absolute_error, greater_is_better=False)\n",
    "\n",
    "    kf_outer = KFold(n_splits=10, shuffle=True, random_state=42)\n",
    "\n",
    "    r2_scores = []\n",
    "\n",
    "    param_grid = {\n",
    "        'kernel': [clone(k) for k in kernel_options]\n",
    "    }\n",
    "\n",
    "    fold = 1\n",
    "    for train_index, test_index in kf_outer.split(X):\n",
    "        print(f\"Fold {fold}:\")\n",
    "\n",
    "        X_train, X_test = X.iloc[train_index], X.iloc[test_index]\n",
    "        y_train, y_test = y.iloc[train_index], y.iloc[test_index]\n",
    "\n",
    "        grid_search = GridSearchCV(\n",
    "            estimator=gpr,\n",
    "            param_grid=param_grid,\n",
    "            cv=KFold(n_splits=3, shuffle=True, random_state=42),\n",
    "            scoring=scorer,\n",
    "            verbose=0,\n",
    "            n_jobs=-1\n",
    "        )\n",
    "\n",
    "        grid_search.fit(X_train, y_train)\n",
    "        best_model = grid_search.best_estimator_\n",
    "\n",
    "        y_pred, y_std = best_model.predict(X_test, return_std=True)\n",
    "\n",
    "        r2 = r2_score(y_test, y_pred)\n",
    "\n",
    "        print(f\"  Fold R²: {r2:.3f}\")\n",
    "\n",
    "        r2_scores.append(r2)\n",
    "\n",
    "        fold += 1\n",
    "\n",
    "    return (f\"\\nGPR 10-Fold CV R² Score {imp}: {np.mean(r2_scores):.3f} ± {np.std(r2_scores):.3f}\")\n",
    "    \n"
   ]
  },
  {
   "cell_type": "markdown",
   "id": "9c661aba",
   "metadata": {},
   "source": [
    "## **2.** Baseline Imputed Datasets"
   ]
  },
  {
   "cell_type": "markdown",
   "id": "47b7ba0f",
   "metadata": {},
   "source": [
    "### **2.1** Mean Imputation"
   ]
  },
  {
   "cell_type": "code",
   "execution_count": null,
   "id": "d4cbb6b3",
   "metadata": {},
   "outputs": [],
   "source": [
    "input = pd.read_csv('BASELINE IMPUTED DATASETS/mean_imputed_df.csv').drop(columns=['ADAS13', 'DXCHANGE'])\n",
    "target = pd.read_csv('DATA/target_COMPLETE_DATA.csv')\n",
    "\n",
    "scaled_input, y = scale_data(input, target)"
   ]
  },
  {
   "cell_type": "markdown",
   "id": "0fbe6862",
   "metadata": {},
   "source": [
    "##### Random Forest"
   ]
  },
  {
   "cell_type": "code",
   "execution_count": null,
   "id": "107172e9",
   "metadata": {},
   "outputs": [],
   "source": [
    "r2_score_rf = random_forest(scaled_input, y, imp='Mean')"
   ]
  },
  {
   "cell_type": "code",
   "execution_count": null,
   "id": "ec9cd3b6",
   "metadata": {},
   "outputs": [
    {
     "name": "stdout",
     "output_type": "stream",
     "text": [
      "\n",
      "Random Forest 10-Fold CV R² Score Mean: 0.716 ± 0.041\n"
     ]
    }
   ],
   "source": [
    "print(r2_score_rf)"
   ]
  },
  {
   "cell_type": "markdown",
   "id": "49bcd1c6",
   "metadata": {},
   "source": [
    "##### Gradient Boosting"
   ]
  },
  {
   "cell_type": "code",
   "execution_count": null,
   "id": "498e5911",
   "metadata": {},
   "outputs": [],
   "source": [
    "r2_score_grad = gradient_boosting(scaled_input, y, imp='Mean')"
   ]
  },
  {
   "cell_type": "code",
   "execution_count": null,
   "id": "32c8c904",
   "metadata": {},
   "outputs": [
    {
     "name": "stdout",
     "output_type": "stream",
     "text": [
      "\n",
      "Gradient Boosting 10-Fold CV R² Score Mean: 0.721 ± 0.033\n"
     ]
    }
   ],
   "source": [
    "print(r2_score_grad)"
   ]
  },
  {
   "cell_type": "markdown",
   "id": "f121dfd5",
   "metadata": {},
   "source": [
    "##### Extreme Gradient Boosting"
   ]
  },
  {
   "cell_type": "code",
   "execution_count": null,
   "id": "1c9ab3ba",
   "metadata": {},
   "outputs": [],
   "source": [
    "r2_score_xgb = xgb_regressor(scaled_input, y, imp='Mean')"
   ]
  },
  {
   "cell_type": "code",
   "execution_count": null,
   "id": "b213e716",
   "metadata": {},
   "outputs": [
    {
     "name": "stdout",
     "output_type": "stream",
     "text": [
      "\n",
      "XGB Regressor 10-Fold CV R² Score Mean: 0.717 ± 0.033\n"
     ]
    }
   ],
   "source": [
    "print(r2_score_xgb)"
   ]
  },
  {
   "cell_type": "markdown",
   "id": "42849d76",
   "metadata": {},
   "source": [
    "##### SVR"
   ]
  },
  {
   "cell_type": "code",
   "execution_count": null,
   "id": "859f163c",
   "metadata": {},
   "outputs": [],
   "source": [
    "r2_score_svr = svr(scaled_input, y, imp='Mean')\n"
   ]
  },
  {
   "cell_type": "code",
   "execution_count": null,
   "id": "f174a953",
   "metadata": {},
   "outputs": [
    {
     "name": "stdout",
     "output_type": "stream",
     "text": [
      "\n",
      "SVR 10-Fold CV R² Score Mean: 0.729 ± 0.035\n"
     ]
    }
   ],
   "source": [
    "print(r2_score_svr)"
   ]
  },
  {
   "cell_type": "markdown",
   "id": "153d5568",
   "metadata": {},
   "source": [
    "##### Ridge Regression"
   ]
  },
  {
   "cell_type": "code",
   "execution_count": null,
   "id": "a13abd40",
   "metadata": {},
   "outputs": [],
   "source": [
    "r2_score_ridge = ridge_regression(scaled_input, y, imp='Mean')"
   ]
  },
  {
   "cell_type": "code",
   "execution_count": null,
   "id": "1941834e",
   "metadata": {},
   "outputs": [
    {
     "name": "stdout",
     "output_type": "stream",
     "text": [
      "\n",
      "Ridge Regression 10-Fold CV R² Score Mean: 0.730 ± 0.036\n"
     ]
    }
   ],
   "source": [
    "print(r2_score_ridge)"
   ]
  },
  {
   "cell_type": "markdown",
   "id": "6448651c",
   "metadata": {},
   "source": [
    "##### MLP "
   ]
  },
  {
   "cell_type": "code",
   "execution_count": null,
   "id": "a3942fa9",
   "metadata": {},
   "outputs": [],
   "source": [
    "r2_score_mlp = mlp(scaled_input, y, imp='Mean')"
   ]
  },
  {
   "cell_type": "code",
   "execution_count": null,
   "id": "bd250ee3",
   "metadata": {},
   "outputs": [
    {
     "name": "stdout",
     "output_type": "stream",
     "text": [
      "\n",
      "MLP 10-Fold CV R² Score Mean: 0.730 ± 0.040\n"
     ]
    }
   ],
   "source": [
    "print(r2_score_mlp)"
   ]
  },
  {
   "cell_type": "markdown",
   "id": "f8edb0f4",
   "metadata": {},
   "source": [
    "##### GP Regression"
   ]
  },
  {
   "cell_type": "code",
   "execution_count": null,
   "id": "b4e20b90",
   "metadata": {},
   "outputs": [],
   "source": [
    "r2_score_gpr = gp_regressor(scaled_input, y, imp='Mean')"
   ]
  },
  {
   "cell_type": "code",
   "execution_count": null,
   "id": "16b8d189",
   "metadata": {},
   "outputs": [
    {
     "name": "stdout",
     "output_type": "stream",
     "text": [
      "\n",
      "GPR 10-Fold CV R² Score Mean: 0.729 ± 0.037\n"
     ]
    }
   ],
   "source": [
    "print(r2_score_gpr)"
   ]
  },
  {
   "cell_type": "markdown",
   "id": "837df172",
   "metadata": {},
   "source": [
    "### **2.2** Median Imputation"
   ]
  },
  {
   "cell_type": "code",
   "execution_count": null,
   "id": "ca4b1325",
   "metadata": {},
   "outputs": [],
   "source": [
    "input = pd.read_csv('BASELINE IMPUTED DATASETS/median_imputed_df.csv').drop(columns=['ADAS13', 'DXCHANGE'])\n",
    "target = pd.read_csv('DATA/target_COMPLETE_DATA.csv')\n",
    "\n",
    "scaled_input, y = scale_data(input, target)"
   ]
  },
  {
   "cell_type": "markdown",
   "id": "34e126e5",
   "metadata": {},
   "source": [
    "##### Random Forest"
   ]
  },
  {
   "cell_type": "code",
   "execution_count": null,
   "id": "b02535c5",
   "metadata": {},
   "outputs": [],
   "source": [
    "r2_score_rf = random_forest(scaled_input, y, imp='Median')"
   ]
  },
  {
   "cell_type": "code",
   "execution_count": null,
   "id": "10e0aa49",
   "metadata": {},
   "outputs": [
    {
     "name": "stdout",
     "output_type": "stream",
     "text": [
      "\n",
      "Random Forest 10-Fold CV R² Score Median: 0.716 ± 0.041\n"
     ]
    }
   ],
   "source": [
    "print(r2_score_rf)"
   ]
  },
  {
   "cell_type": "markdown",
   "id": "23f45d99",
   "metadata": {},
   "source": [
    "##### Gradient Boosting"
   ]
  },
  {
   "cell_type": "code",
   "execution_count": null,
   "id": "fb74de48",
   "metadata": {},
   "outputs": [],
   "source": [
    "r2_score_grad = gradient_boosting(scaled_input, y, imp='Median')"
   ]
  },
  {
   "cell_type": "code",
   "execution_count": null,
   "id": "6845330a",
   "metadata": {},
   "outputs": [
    {
     "name": "stdout",
     "output_type": "stream",
     "text": [
      "\n",
      "Gradient Boosting 10-Fold CV R² Score Median: 0.721 ± 0.033\n"
     ]
    }
   ],
   "source": [
    "print(r2_score_grad)"
   ]
  },
  {
   "cell_type": "markdown",
   "id": "b69c3d92",
   "metadata": {},
   "source": [
    "##### Extreme Gradient Boosting"
   ]
  },
  {
   "cell_type": "code",
   "execution_count": null,
   "id": "76b47fdd",
   "metadata": {},
   "outputs": [],
   "source": [
    "r2_score_xgb = xgb_regressor(scaled_input, y, imp='Median')"
   ]
  },
  {
   "cell_type": "code",
   "execution_count": null,
   "id": "652f9658",
   "metadata": {},
   "outputs": [
    {
     "name": "stdout",
     "output_type": "stream",
     "text": [
      "\n",
      "XGB Regressor 10-Fold CV R² Score Median: 0.717 ± 0.033\n"
     ]
    }
   ],
   "source": [
    "print(r2_score_xgb)"
   ]
  },
  {
   "cell_type": "markdown",
   "id": "26d18e89",
   "metadata": {},
   "source": [
    "##### SVR"
   ]
  },
  {
   "cell_type": "code",
   "execution_count": null,
   "id": "c3a6a18f",
   "metadata": {},
   "outputs": [],
   "source": [
    "r2_score_svr = svr(scaled_input, y, imp='Median')"
   ]
  },
  {
   "cell_type": "code",
   "execution_count": null,
   "id": "f39ca104",
   "metadata": {},
   "outputs": [
    {
     "name": "stdout",
     "output_type": "stream",
     "text": [
      "\n",
      "SVR 10-Fold CV R² Score Median: 0.730 ± 0.034\n"
     ]
    }
   ],
   "source": [
    "print(r2_score_svr)"
   ]
  },
  {
   "cell_type": "markdown",
   "id": "7622763c",
   "metadata": {},
   "source": [
    "##### Ridge Regression"
   ]
  },
  {
   "cell_type": "code",
   "execution_count": null,
   "id": "99a7d18e",
   "metadata": {},
   "outputs": [],
   "source": [
    "r2_score_ridge = ridge_regression(scaled_input, y, imp='Median')"
   ]
  },
  {
   "cell_type": "code",
   "execution_count": null,
   "id": "7da9f313",
   "metadata": {},
   "outputs": [
    {
     "name": "stdout",
     "output_type": "stream",
     "text": [
      "\n",
      "Ridge Regression 10-Fold CV R² Score Median: 0.730 ± 0.035\n"
     ]
    }
   ],
   "source": [
    "print(r2_score_ridge)"
   ]
  },
  {
   "cell_type": "markdown",
   "id": "2badd01d",
   "metadata": {},
   "source": [
    "##### MLP"
   ]
  },
  {
   "cell_type": "code",
   "execution_count": null,
   "id": "d010a3de",
   "metadata": {},
   "outputs": [],
   "source": [
    "r2_score_mlp = mlp(scaled_input, y, imp='Median')"
   ]
  },
  {
   "cell_type": "code",
   "execution_count": null,
   "id": "cfbe51c7",
   "metadata": {},
   "outputs": [
    {
     "name": "stdout",
     "output_type": "stream",
     "text": [
      "\n",
      "MLP 10-Fold CV R² Score Median: 0.726 ± 0.039\n"
     ]
    }
   ],
   "source": [
    "print(r2_score_mlp)"
   ]
  },
  {
   "cell_type": "markdown",
   "id": "009ea2be",
   "metadata": {},
   "source": [
    "##### GP Regression"
   ]
  },
  {
   "cell_type": "code",
   "execution_count": null,
   "id": "1f195a90",
   "metadata": {},
   "outputs": [],
   "source": [
    "r2_score_gpr = gp_regressor(scaled_input, y, imp='Median')"
   ]
  },
  {
   "cell_type": "code",
   "execution_count": null,
   "id": "a1dc8c66",
   "metadata": {},
   "outputs": [
    {
     "name": "stdout",
     "output_type": "stream",
     "text": [
      "\n",
      "GPR 10-Fold CV R² Score Median: 0.729 ± 0.037\n"
     ]
    }
   ],
   "source": [
    "print(r2_score_gpr)"
   ]
  },
  {
   "cell_type": "markdown",
   "id": "11f8a58e",
   "metadata": {},
   "source": [
    "### **2.3** Mode Imputation"
   ]
  },
  {
   "cell_type": "code",
   "execution_count": null,
   "id": "6d35215f",
   "metadata": {},
   "outputs": [],
   "source": [
    "input = pd.read_csv('BASELINE IMPUTED DATASETS/mode_imputed_df.csv').drop(columns=['ADAS13', 'DXCHANGE'])\n",
    "target = pd.read_csv('DATA/target_COMPLETE_DATA.csv')\n",
    "\n",
    "scaled_input, y = scale_data(input, target)"
   ]
  },
  {
   "cell_type": "markdown",
   "id": "3f118350",
   "metadata": {},
   "source": [
    "##### Random Forest"
   ]
  },
  {
   "cell_type": "code",
   "execution_count": null,
   "id": "252878a3",
   "metadata": {},
   "outputs": [],
   "source": [
    "r2_score_rf = random_forest(scaled_input, y, imp='Mode')"
   ]
  },
  {
   "cell_type": "code",
   "execution_count": null,
   "id": "72efc0d4",
   "metadata": {},
   "outputs": [
    {
     "name": "stdout",
     "output_type": "stream",
     "text": [
      "\n",
      "Random Forest 10-Fold CV R² Score Mode: 0.718 ± 0.036\n"
     ]
    }
   ],
   "source": [
    "print(r2_score_rf)"
   ]
  },
  {
   "cell_type": "markdown",
   "id": "528be319",
   "metadata": {},
   "source": [
    "##### Gradient Boosting"
   ]
  },
  {
   "cell_type": "code",
   "execution_count": null,
   "id": "bbcb8167",
   "metadata": {},
   "outputs": [],
   "source": [
    "r2_score_grad = gradient_boosting(scaled_input, y, imp='Mode')"
   ]
  },
  {
   "cell_type": "code",
   "execution_count": null,
   "id": "586c90ee",
   "metadata": {},
   "outputs": [
    {
     "name": "stdout",
     "output_type": "stream",
     "text": [
      "\n",
      "Gradient Boosting 10-Fold CV R² Score Mode: 0.724 ± 0.035\n"
     ]
    }
   ],
   "source": [
    "print(r2_score_grad)"
   ]
  },
  {
   "cell_type": "markdown",
   "id": "474fa99c",
   "metadata": {},
   "source": [
    "##### Extreme Gradient Boosting"
   ]
  },
  {
   "cell_type": "code",
   "execution_count": null,
   "id": "67a8171e",
   "metadata": {},
   "outputs": [],
   "source": [
    "r2_score_xgb = xgb_regressor(scaled_input, y, imp='Mode')"
   ]
  },
  {
   "cell_type": "code",
   "execution_count": null,
   "id": "b622b0a6",
   "metadata": {},
   "outputs": [
    {
     "name": "stdout",
     "output_type": "stream",
     "text": [
      "\n",
      "XGB Regressor 10-Fold CV R² Score Mode: 0.721 ± 0.033\n"
     ]
    }
   ],
   "source": [
    "print(r2_score_xgb)"
   ]
  },
  {
   "cell_type": "markdown",
   "id": "d4fe5d9a",
   "metadata": {},
   "source": [
    "##### SVR"
   ]
  },
  {
   "cell_type": "code",
   "execution_count": null,
   "id": "cb425bcf",
   "metadata": {},
   "outputs": [],
   "source": [
    "r2_score_svr = svr(scaled_input, y, imp='Mode')"
   ]
  },
  {
   "cell_type": "code",
   "execution_count": null,
   "id": "121084a7",
   "metadata": {},
   "outputs": [
    {
     "name": "stdout",
     "output_type": "stream",
     "text": [
      "\n",
      "SVR 10-Fold CV R² Score Mode: 0.733 ± 0.034\n"
     ]
    }
   ],
   "source": [
    "print(r2_score_svr)"
   ]
  },
  {
   "cell_type": "markdown",
   "id": "29ac7446",
   "metadata": {},
   "source": [
    "##### Ridge Regression"
   ]
  },
  {
   "cell_type": "code",
   "execution_count": null,
   "id": "ede0cad7",
   "metadata": {},
   "outputs": [],
   "source": [
    "r2_score_ridge = ridge_regression(scaled_input, y, imp='Mode')"
   ]
  },
  {
   "cell_type": "code",
   "execution_count": null,
   "id": "f8c1f509",
   "metadata": {},
   "outputs": [
    {
     "name": "stdout",
     "output_type": "stream",
     "text": [
      "\n",
      "Ridge Regression 10-Fold CV R² Score Mode: 0.733 ± 0.034\n"
     ]
    }
   ],
   "source": [
    "print(r2_score_ridge)"
   ]
  },
  {
   "cell_type": "markdown",
   "id": "327deed6",
   "metadata": {},
   "source": [
    "##### MLP"
   ]
  },
  {
   "cell_type": "code",
   "execution_count": null,
   "id": "a6c9216e",
   "metadata": {},
   "outputs": [],
   "source": [
    "r2_score_mlp = mlp(scaled_input, y, imp='Mode')"
   ]
  },
  {
   "cell_type": "code",
   "execution_count": null,
   "id": "9f59bbe1",
   "metadata": {},
   "outputs": [
    {
     "name": "stdout",
     "output_type": "stream",
     "text": [
      "\n",
      "MLP 10-Fold CV R² Score Mode: 0.724 ± 0.035\n"
     ]
    }
   ],
   "source": [
    "print(r2_score_mlp)"
   ]
  },
  {
   "cell_type": "markdown",
   "id": "191c3292",
   "metadata": {},
   "source": [
    "##### GP Regression"
   ]
  },
  {
   "cell_type": "code",
   "execution_count": null,
   "id": "de3f94a4",
   "metadata": {},
   "outputs": [],
   "source": [
    "r2_score_gpr = gp_regressor(scaled_input, y, imp='Mode')"
   ]
  },
  {
   "cell_type": "code",
   "execution_count": null,
   "id": "b60a2920",
   "metadata": {},
   "outputs": [
    {
     "name": "stdout",
     "output_type": "stream",
     "text": [
      "\n",
      "GPR 10-Fold CV R² Score Mode: 0.732 ± 0.036\n"
     ]
    }
   ],
   "source": [
    "print(r2_score_gpr)"
   ]
  },
  {
   "cell_type": "markdown",
   "id": "373c5ef4",
   "metadata": {},
   "source": [
    "### **2.4** KNN Imputation"
   ]
  },
  {
   "cell_type": "code",
   "execution_count": null,
   "id": "28dabe81",
   "metadata": {},
   "outputs": [],
   "source": [
    "input = pd.read_csv('BASELINE IMPUTED DATASETS/knn_imputed_df.csv').drop(columns=['ADAS13', 'DXCHANGE'])\n",
    "target = pd.read_csv('DATA/target_COMPLETE_DATA.csv')\n",
    "\n",
    "scaled_input, y = scale_data(input, target)"
   ]
  },
  {
   "cell_type": "markdown",
   "id": "a287e193",
   "metadata": {},
   "source": [
    "##### Random Forest"
   ]
  },
  {
   "cell_type": "code",
   "execution_count": null,
   "id": "54710e47",
   "metadata": {},
   "outputs": [],
   "source": [
    "r2_score_rf = random_forest(scaled_input, y, imp='KNN')"
   ]
  },
  {
   "cell_type": "code",
   "execution_count": null,
   "id": "4d683487",
   "metadata": {},
   "outputs": [
    {
     "name": "stdout",
     "output_type": "stream",
     "text": [
      "\n",
      "Random Forest 10-Fold CV R² Score KNN: 0.714 ± 0.035\n"
     ]
    }
   ],
   "source": [
    "print(r2_score_rf)"
   ]
  },
  {
   "cell_type": "markdown",
   "id": "11cffae1",
   "metadata": {},
   "source": [
    "##### Gradient Boosting"
   ]
  },
  {
   "cell_type": "code",
   "execution_count": null,
   "id": "92f9f97a",
   "metadata": {},
   "outputs": [],
   "source": [
    "r2_score_grad = gradient_boosting(scaled_input, y, imp='KNN')"
   ]
  },
  {
   "cell_type": "code",
   "execution_count": null,
   "id": "9b7a816a",
   "metadata": {},
   "outputs": [
    {
     "name": "stdout",
     "output_type": "stream",
     "text": [
      "\n",
      "Gradient Boosting 10-Fold CV R² Score KNN: 0.718 ± 0.034\n"
     ]
    }
   ],
   "source": [
    "print(r2_score_grad)"
   ]
  },
  {
   "cell_type": "markdown",
   "id": "451daaaa",
   "metadata": {},
   "source": [
    "##### Extreme Gradient Boosting"
   ]
  },
  {
   "cell_type": "code",
   "execution_count": null,
   "id": "96547b05",
   "metadata": {},
   "outputs": [],
   "source": [
    "r2_score_xgb = xgb_regressor(scaled_input, y, imp='KNN')"
   ]
  },
  {
   "cell_type": "code",
   "execution_count": null,
   "id": "1dfa4f21",
   "metadata": {},
   "outputs": [
    {
     "name": "stdout",
     "output_type": "stream",
     "text": [
      "\n",
      "XGB Regressor 10-Fold CV R² Score KNN: 0.718 ± 0.034\n"
     ]
    }
   ],
   "source": [
    "print(r2_score_xgb)"
   ]
  },
  {
   "cell_type": "markdown",
   "id": "2fb2a6f0",
   "metadata": {},
   "source": [
    "##### SVR"
   ]
  },
  {
   "cell_type": "code",
   "execution_count": null,
   "id": "c46a00d7",
   "metadata": {},
   "outputs": [],
   "source": [
    "r2_score_svr = svr(scaled_input, y, imp='KNN')"
   ]
  },
  {
   "cell_type": "code",
   "execution_count": null,
   "id": "a1e00205",
   "metadata": {},
   "outputs": [
    {
     "name": "stdout",
     "output_type": "stream",
     "text": [
      "\n",
      "SVR 10-Fold CV R² Score KNN: 0.730 ± 0.034\n"
     ]
    }
   ],
   "source": [
    "print(r2_score_svr)"
   ]
  },
  {
   "cell_type": "markdown",
   "id": "21dfcced",
   "metadata": {},
   "source": [
    "##### Ridge Regression"
   ]
  },
  {
   "cell_type": "code",
   "execution_count": null,
   "id": "5db7600c",
   "metadata": {},
   "outputs": [],
   "source": [
    "r2_score_ridge = ridge_regression(scaled_input, y, imp='KNN')"
   ]
  },
  {
   "cell_type": "code",
   "execution_count": null,
   "id": "86419aa9",
   "metadata": {},
   "outputs": [
    {
     "name": "stdout",
     "output_type": "stream",
     "text": [
      "\n",
      "Ridge Regression 10-Fold CV R² Score KNN: 0.730 ± 0.033\n"
     ]
    }
   ],
   "source": [
    "print(r2_score_ridge)"
   ]
  },
  {
   "cell_type": "markdown",
   "id": "cb7d9c8a",
   "metadata": {},
   "source": [
    "##### MLP"
   ]
  },
  {
   "cell_type": "code",
   "execution_count": null,
   "id": "e81671bd",
   "metadata": {},
   "outputs": [],
   "source": [
    "r2_score_mlp = mlp(scaled_input, y, imp='KNN')"
   ]
  },
  {
   "cell_type": "code",
   "execution_count": null,
   "id": "96e0cd60",
   "metadata": {},
   "outputs": [
    {
     "name": "stdout",
     "output_type": "stream",
     "text": [
      "\n",
      "MLP 10-Fold CV R² Score KNN: 0.731 ± 0.039\n"
     ]
    }
   ],
   "source": [
    "print(r2_score_mlp)"
   ]
  },
  {
   "cell_type": "markdown",
   "id": "795d7bef",
   "metadata": {},
   "source": [
    "##### GP Regression"
   ]
  },
  {
   "cell_type": "code",
   "execution_count": null,
   "id": "4e4f4ee6",
   "metadata": {},
   "outputs": [],
   "source": [
    "r2_score_gpr = gp_regressor(scaled_input, y, imp='KNN')"
   ]
  },
  {
   "cell_type": "code",
   "execution_count": null,
   "id": "43819cf3",
   "metadata": {},
   "outputs": [
    {
     "name": "stdout",
     "output_type": "stream",
     "text": [
      "\n",
      "GPR 10-Fold CV R² Score KNN: 0.729 ± 0.035\n"
     ]
    }
   ],
   "source": [
    "print(r2_score_gpr)"
   ]
  },
  {
   "cell_type": "markdown",
   "id": "27364a93",
   "metadata": {},
   "source": [
    "### **2.5** Iterative Imputation"
   ]
  },
  {
   "cell_type": "code",
   "execution_count": null,
   "id": "09bfdad5",
   "metadata": {},
   "outputs": [],
   "source": [
    "input = pd.read_csv('BASELINE IMPUTED DATASETS/iter_imputed_df.csv').drop(columns=['ADAS13', 'DXCHANGE'])\n",
    "target = pd.read_csv('DATA/target_COMPLETE_DATA.csv')\n",
    "\n",
    "scaled_input, y = scale_data(input, target)"
   ]
  },
  {
   "cell_type": "markdown",
   "id": "0935e56c",
   "metadata": {},
   "source": [
    "##### Random Forest"
   ]
  },
  {
   "cell_type": "code",
   "execution_count": null,
   "id": "81173fbc",
   "metadata": {},
   "outputs": [],
   "source": [
    "r2_score_rf = random_forest(scaled_input, y, imp='Iterative')"
   ]
  },
  {
   "cell_type": "code",
   "execution_count": null,
   "id": "b0e6d6d4",
   "metadata": {},
   "outputs": [
    {
     "name": "stdout",
     "output_type": "stream",
     "text": [
      "\n",
      "Random Forest 10-Fold CV R² Score Iterative: 0.723 ± 0.041\n"
     ]
    }
   ],
   "source": [
    "print(r2_score_rf)"
   ]
  },
  {
   "cell_type": "markdown",
   "id": "fe3dc399",
   "metadata": {},
   "source": [
    "##### Gradient Boosting"
   ]
  },
  {
   "cell_type": "code",
   "execution_count": null,
   "id": "5e9c61d0",
   "metadata": {},
   "outputs": [],
   "source": [
    "r2_score_grad = gradient_boosting(scaled_input, y, imp='Iterative')"
   ]
  },
  {
   "cell_type": "code",
   "execution_count": null,
   "id": "e0b19465",
   "metadata": {},
   "outputs": [
    {
     "name": "stdout",
     "output_type": "stream",
     "text": [
      "\n",
      "Gradient Boosting 10-Fold CV R² Score Iterative: 0.730 ± 0.029\n"
     ]
    }
   ],
   "source": [
    "print(r2_score_grad)"
   ]
  },
  {
   "cell_type": "markdown",
   "id": "937137d0",
   "metadata": {},
   "source": [
    "##### Extreme Gradient Boosting"
   ]
  },
  {
   "cell_type": "code",
   "execution_count": null,
   "id": "c924fdb8",
   "metadata": {},
   "outputs": [],
   "source": [
    "r2_score_xgb = xgb_regressor(scaled_input, y, imp='Iterative')"
   ]
  },
  {
   "cell_type": "code",
   "execution_count": null,
   "id": "27d5c763",
   "metadata": {},
   "outputs": [
    {
     "name": "stdout",
     "output_type": "stream",
     "text": [
      "\n",
      "XGB Regressor 10-Fold CV R² Score Iterative: 0.731 ± 0.030\n"
     ]
    }
   ],
   "source": [
    "print(r2_score_xgb)"
   ]
  },
  {
   "cell_type": "markdown",
   "id": "2c328279",
   "metadata": {},
   "source": [
    "##### SVR"
   ]
  },
  {
   "cell_type": "code",
   "execution_count": null,
   "id": "f2c7cf39",
   "metadata": {},
   "outputs": [],
   "source": [
    "r2_score_svr = svr(scaled_input, y, imp='Iterative')"
   ]
  },
  {
   "cell_type": "code",
   "execution_count": null,
   "id": "7b40063f",
   "metadata": {},
   "outputs": [
    {
     "name": "stdout",
     "output_type": "stream",
     "text": [
      "\n",
      "SVR 10-Fold CV R² Score Iterative: 0.739 ± 0.035\n"
     ]
    }
   ],
   "source": [
    "print(r2_score_svr)"
   ]
  },
  {
   "cell_type": "markdown",
   "id": "baf4758d",
   "metadata": {},
   "source": [
    "##### Ridge Regression"
   ]
  },
  {
   "cell_type": "code",
   "execution_count": null,
   "id": "f88df2ec",
   "metadata": {},
   "outputs": [],
   "source": [
    "r2_score_ridge = ridge_regression(scaled_input, y, imp='Iterative')"
   ]
  },
  {
   "cell_type": "code",
   "execution_count": null,
   "id": "8a13180a",
   "metadata": {},
   "outputs": [
    {
     "name": "stdout",
     "output_type": "stream",
     "text": [
      "\n",
      "Ridge Regression 10-Fold CV R² Score Iterative: 0.738 ± 0.034\n"
     ]
    }
   ],
   "source": [
    "print(r2_score_ridge)"
   ]
  },
  {
   "cell_type": "markdown",
   "id": "e755a6ac",
   "metadata": {},
   "source": [
    "##### MLP"
   ]
  },
  {
   "cell_type": "code",
   "execution_count": null,
   "id": "29cc7e2c",
   "metadata": {},
   "outputs": [],
   "source": [
    "r2_score_mlp = mlp(scaled_input, y, imp='Iterative')"
   ]
  },
  {
   "cell_type": "code",
   "execution_count": null,
   "id": "6644508b",
   "metadata": {},
   "outputs": [
    {
     "name": "stdout",
     "output_type": "stream",
     "text": [
      "\n",
      "MLP 10-Fold CV R² Score Iterative: 0.737 ± 0.038\n"
     ]
    }
   ],
   "source": [
    "print(r2_score_mlp)"
   ]
  },
  {
   "cell_type": "markdown",
   "id": "666b6cea",
   "metadata": {},
   "source": [
    "##### GP Regression"
   ]
  },
  {
   "cell_type": "code",
   "execution_count": null,
   "id": "d4504601",
   "metadata": {},
   "outputs": [],
   "source": [
    "r2_score_gpr = gp_regressor(scaled_input, y, imp='Iterative')"
   ]
  },
  {
   "cell_type": "code",
   "execution_count": null,
   "id": "adcf8b04",
   "metadata": {},
   "outputs": [
    {
     "name": "stdout",
     "output_type": "stream",
     "text": [
      "\n",
      "GPR 10-Fold CV R² Score Iterative: 0.742 ± 0.036\n"
     ]
    }
   ],
   "source": [
    "print(r2_score_gpr)"
   ]
  },
  {
   "cell_type": "markdown",
   "id": "21a30167",
   "metadata": {},
   "source": [
    "### **2.6** MICE Imputation"
   ]
  },
  {
   "cell_type": "code",
   "execution_count": null,
   "id": "10cde276",
   "metadata": {},
   "outputs": [],
   "source": [
    "input = pd.read_csv('BASELINE IMPUTED DATASETS/mice_imputed_df.csv').drop(columns=['ADAS13', 'DXCHANGE'])\n",
    "target = pd.read_csv('DATA/target_COMPLETE_DATA.csv')\n",
    "\n",
    "scaled_input, y = scale_data(input, target)"
   ]
  },
  {
   "cell_type": "markdown",
   "id": "9451c3cd",
   "metadata": {},
   "source": [
    "##### Random Forest"
   ]
  },
  {
   "cell_type": "code",
   "execution_count": null,
   "id": "dbd28b37",
   "metadata": {},
   "outputs": [],
   "source": [
    "r2_score_rf = random_forest(scaled_input, y, imp='MICE')"
   ]
  },
  {
   "cell_type": "code",
   "execution_count": null,
   "id": "835cb676",
   "metadata": {},
   "outputs": [
    {
     "name": "stdout",
     "output_type": "stream",
     "text": [
      "\n",
      "Random Forest 10-Fold CV R² Score MICE: 0.719 ± 0.038\n"
     ]
    }
   ],
   "source": [
    "print(r2_score_rf)"
   ]
  },
  {
   "cell_type": "markdown",
   "id": "dcdd8680",
   "metadata": {},
   "source": [
    "##### Gradient Boosting"
   ]
  },
  {
   "cell_type": "code",
   "execution_count": null,
   "id": "1dc95865",
   "metadata": {},
   "outputs": [],
   "source": [
    "r2_score_grad = gradient_boosting(scaled_input, y, imp='MICE')"
   ]
  },
  {
   "cell_type": "code",
   "execution_count": null,
   "id": "1f3e40c5",
   "metadata": {},
   "outputs": [
    {
     "name": "stdout",
     "output_type": "stream",
     "text": [
      "\n",
      "Gradient Boosting 10-Fold CV R² Score MICE: 0.726 ± 0.032\n"
     ]
    }
   ],
   "source": [
    "print(r2_score_grad)"
   ]
  },
  {
   "cell_type": "markdown",
   "id": "5c28a116",
   "metadata": {},
   "source": [
    "##### Extreme Gradient Boosting"
   ]
  },
  {
   "cell_type": "code",
   "execution_count": null,
   "id": "1983c07a",
   "metadata": {},
   "outputs": [],
   "source": [
    "r2_score_xgb = xgb_regressor(scaled_input, y, imp='MICE')"
   ]
  },
  {
   "cell_type": "code",
   "execution_count": null,
   "id": "64ab22c8",
   "metadata": {},
   "outputs": [
    {
     "name": "stdout",
     "output_type": "stream",
     "text": [
      "\n",
      "XGB Regressor 10-Fold CV R² Score MICE: 0.728 ± 0.032\n"
     ]
    }
   ],
   "source": [
    "print(r2_score_xgb)"
   ]
  },
  {
   "cell_type": "markdown",
   "id": "734df0cd",
   "metadata": {},
   "source": [
    "##### SVR"
   ]
  },
  {
   "cell_type": "code",
   "execution_count": null,
   "id": "2ddcfc0d",
   "metadata": {},
   "outputs": [],
   "source": [
    "r2_score_svr = svr(scaled_input, y, imp='MICE')"
   ]
  },
  {
   "cell_type": "code",
   "execution_count": null,
   "id": "3d5a65df",
   "metadata": {},
   "outputs": [
    {
     "name": "stdout",
     "output_type": "stream",
     "text": [
      "\n",
      "SVR 10-Fold CV R² Score MICE: 0.735 ± 0.035\n"
     ]
    }
   ],
   "source": [
    "print(r2_score_svr)"
   ]
  },
  {
   "cell_type": "markdown",
   "id": "248b001c",
   "metadata": {},
   "source": [
    "##### Ridge Regression"
   ]
  },
  {
   "cell_type": "code",
   "execution_count": null,
   "id": "aa58dcf6",
   "metadata": {},
   "outputs": [],
   "source": [
    "r2_score_ridge = ridge_regression(scaled_input, y, imp='MICE')"
   ]
  },
  {
   "cell_type": "code",
   "execution_count": null,
   "id": "0a281810",
   "metadata": {},
   "outputs": [
    {
     "name": "stdout",
     "output_type": "stream",
     "text": [
      "\n",
      "Ridge Regression 10-Fold CV R² Score MICE: 0.735 ± 0.036\n"
     ]
    }
   ],
   "source": [
    "print(r2_score_ridge)"
   ]
  },
  {
   "cell_type": "markdown",
   "id": "14cb0c9a",
   "metadata": {},
   "source": [
    "##### MLP"
   ]
  },
  {
   "cell_type": "code",
   "execution_count": null,
   "id": "26fc9406",
   "metadata": {},
   "outputs": [],
   "source": [
    "r2_score_mlp = mlp(scaled_input, y, imp='MICE')"
   ]
  },
  {
   "cell_type": "code",
   "execution_count": null,
   "id": "fefe35f7",
   "metadata": {},
   "outputs": [
    {
     "name": "stdout",
     "output_type": "stream",
     "text": [
      "\n",
      "MLP 10-Fold CV R² Score MICE: 0.737 ± 0.036\n"
     ]
    }
   ],
   "source": [
    "print(r2_score_mlp)"
   ]
  },
  {
   "cell_type": "markdown",
   "id": "96cc45f9",
   "metadata": {},
   "source": [
    "##### GP Regression"
   ]
  },
  {
   "cell_type": "code",
   "execution_count": null,
   "id": "d2b8eb9e",
   "metadata": {},
   "outputs": [],
   "source": [
    "r2_score_gpr = gp_regressor(scaled_input, y, imp='MICE')"
   ]
  },
  {
   "cell_type": "code",
   "execution_count": null,
   "id": "c266cb3e",
   "metadata": {},
   "outputs": [
    {
     "name": "stdout",
     "output_type": "stream",
     "text": [
      "\n",
      "GPR 10-Fold CV R² Score MICE: 0.735 ± 0.038\n"
     ]
    }
   ],
   "source": [
    "print(r2_score_gpr)"
   ]
  }
 ],
 "metadata": {
  "kernelspec": {
   "display_name": "final_env",
   "language": "python",
   "name": "python3"
  },
  "language_info": {
   "codemirror_mode": {
    "name": "ipython",
    "version": 3
   },
   "file_extension": ".py",
   "mimetype": "text/x-python",
   "name": "python",
   "nbconvert_exporter": "python",
   "pygments_lexer": "ipython3",
   "version": "3.9.6"
  }
 },
 "nbformat": 4,
 "nbformat_minor": 5
}
